{
  "nbformat": 4,
  "nbformat_minor": 0,
  "metadata": {
    "colab": {
      "name": "pytorch_tutorial2.ipynb",
      "provenance": []
    },
    "kernelspec": {
      "name": "python3",
      "display_name": "Python 3"
    }
  },
  "cells": [
    {
      "cell_type": "code",
      "metadata": {
        "id": "NDTD7cgucM7r"
      },
      "source": [
        "import torch \r\n",
        "import torch.nn as nn\r\n",
        "\r\n",
        "import numpy as np\r\n",
        "import pandas as pd\r\n",
        "import matplotlib.pyplot as plt\r\n",
        "%matplotlib inline"
      ],
      "execution_count": 107,
      "outputs": []
    },
    {
      "cell_type": "code",
      "metadata": {
        "id": "19NfXd8Jdatc"
      },
      "source": [
        "df = pd.read_csv('NYCTaxiFares.csv')"
      ],
      "execution_count": 108,
      "outputs": []
    },
    {
      "cell_type": "code",
      "metadata": {
        "colab": {
          "base_uri": "https://localhost:8080/",
          "height": 206
        },
        "id": "kvoBrfGZiZop",
        "outputId": "dd0aa1b1-92be-4fda-b4ea-4379f66de0ed"
      },
      "source": [
        "df.head()"
      ],
      "execution_count": 109,
      "outputs": [
        {
          "output_type": "execute_result",
          "data": {
            "text/html": [
              "<div>\n",
              "<style scoped>\n",
              "    .dataframe tbody tr th:only-of-type {\n",
              "        vertical-align: middle;\n",
              "    }\n",
              "\n",
              "    .dataframe tbody tr th {\n",
              "        vertical-align: top;\n",
              "    }\n",
              "\n",
              "    .dataframe thead th {\n",
              "        text-align: right;\n",
              "    }\n",
              "</style>\n",
              "<table border=\"1\" class=\"dataframe\">\n",
              "  <thead>\n",
              "    <tr style=\"text-align: right;\">\n",
              "      <th></th>\n",
              "      <th>pickup_datetime</th>\n",
              "      <th>fare_amount</th>\n",
              "      <th>fare_class</th>\n",
              "      <th>pickup_longitude</th>\n",
              "      <th>pickup_latitude</th>\n",
              "      <th>dropoff_longitude</th>\n",
              "      <th>dropoff_latitude</th>\n",
              "      <th>passenger_count</th>\n",
              "    </tr>\n",
              "  </thead>\n",
              "  <tbody>\n",
              "    <tr>\n",
              "      <th>0</th>\n",
              "      <td>2010-04-19 08:17:56 UTC</td>\n",
              "      <td>6.5</td>\n",
              "      <td>0</td>\n",
              "      <td>-73.992365</td>\n",
              "      <td>40.730521</td>\n",
              "      <td>-73.975499</td>\n",
              "      <td>40.744746</td>\n",
              "      <td>1</td>\n",
              "    </tr>\n",
              "    <tr>\n",
              "      <th>1</th>\n",
              "      <td>2010-04-17 15:43:53 UTC</td>\n",
              "      <td>6.9</td>\n",
              "      <td>0</td>\n",
              "      <td>-73.990078</td>\n",
              "      <td>40.740558</td>\n",
              "      <td>-73.974232</td>\n",
              "      <td>40.744114</td>\n",
              "      <td>1</td>\n",
              "    </tr>\n",
              "    <tr>\n",
              "      <th>2</th>\n",
              "      <td>2010-04-17 11:23:26 UTC</td>\n",
              "      <td>10.1</td>\n",
              "      <td>1</td>\n",
              "      <td>-73.994149</td>\n",
              "      <td>40.751118</td>\n",
              "      <td>-73.960064</td>\n",
              "      <td>40.766235</td>\n",
              "      <td>2</td>\n",
              "    </tr>\n",
              "    <tr>\n",
              "      <th>3</th>\n",
              "      <td>2010-04-11 21:25:03 UTC</td>\n",
              "      <td>8.9</td>\n",
              "      <td>0</td>\n",
              "      <td>-73.990485</td>\n",
              "      <td>40.756422</td>\n",
              "      <td>-73.971205</td>\n",
              "      <td>40.748192</td>\n",
              "      <td>1</td>\n",
              "    </tr>\n",
              "    <tr>\n",
              "      <th>4</th>\n",
              "      <td>2010-04-17 02:19:01 UTC</td>\n",
              "      <td>19.7</td>\n",
              "      <td>1</td>\n",
              "      <td>-73.990976</td>\n",
              "      <td>40.734202</td>\n",
              "      <td>-73.905956</td>\n",
              "      <td>40.743115</td>\n",
              "      <td>1</td>\n",
              "    </tr>\n",
              "  </tbody>\n",
              "</table>\n",
              "</div>"
            ],
            "text/plain": [
              "           pickup_datetime  fare_amount  ...  dropoff_latitude  passenger_count\n",
              "0  2010-04-19 08:17:56 UTC          6.5  ...         40.744746                1\n",
              "1  2010-04-17 15:43:53 UTC          6.9  ...         40.744114                1\n",
              "2  2010-04-17 11:23:26 UTC         10.1  ...         40.766235                2\n",
              "3  2010-04-11 21:25:03 UTC          8.9  ...         40.748192                1\n",
              "4  2010-04-17 02:19:01 UTC         19.7  ...         40.743115                1\n",
              "\n",
              "[5 rows x 8 columns]"
            ]
          },
          "metadata": {
            "tags": []
          },
          "execution_count": 109
        }
      ]
    },
    {
      "cell_type": "code",
      "metadata": {
        "colab": {
          "base_uri": "https://localhost:8080/"
        },
        "id": "wWCYJ6EYiban",
        "outputId": "029b91e0-ba5e-4e31-d1aa-9531365ce547"
      },
      "source": [
        "df['fare_amount'].describe()"
      ],
      "execution_count": 110,
      "outputs": [
        {
          "output_type": "execute_result",
          "data": {
            "text/plain": [
              "count    120000.000000\n",
              "mean         10.040326\n",
              "std           7.500134\n",
              "min           2.500000\n",
              "25%           5.700000\n",
              "50%           7.700000\n",
              "75%          11.300000\n",
              "max          49.900000\n",
              "Name: fare_amount, dtype: float64"
            ]
          },
          "metadata": {
            "tags": []
          },
          "execution_count": 110
        }
      ]
    },
    {
      "cell_type": "code",
      "metadata": {
        "id": "eEo3MiCPjOSn"
      },
      "source": [
        "# calculate the distance travelled\r\n",
        "def haversine_distance(df, lat1, long1, lat2, long2):\r\n",
        "    \"\"\"\r\n",
        "    Calculates the haversine distance between 2 sets of GPS coordinates in df\r\n",
        "    \"\"\"\r\n",
        "    r = 6371  # average radius of Earth in kilometers\r\n",
        "       \r\n",
        "    phi1 = np.radians(df[lat1])\r\n",
        "    phi2 = np.radians(df[lat2])\r\n",
        "    \r\n",
        "    delta_phi = np.radians(df[lat2]-df[lat1])\r\n",
        "    delta_lambda = np.radians(df[long2]-df[long1])\r\n",
        "     \r\n",
        "    a = np.sin(delta_phi/2)**2 + np.cos(phi1) * np.cos(phi2) * np.sin(delta_lambda/2)**2\r\n",
        "    c = 2 * np.arctan2(np.sqrt(a), np.sqrt(1-a))\r\n",
        "    d = (r * c) # in kilometers\r\n",
        "\r\n",
        "    return d"
      ],
      "execution_count": 111,
      "outputs": []
    },
    {
      "cell_type": "code",
      "metadata": {
        "id": "4Gjp6T86kXi_"
      },
      "source": [
        "df['dist_km'] = haversine_distance(df,'pickup_latitude','pickup_longitude','dropoff_latitude','dropoff_longitude')"
      ],
      "execution_count": 112,
      "outputs": []
    },
    {
      "cell_type": "code",
      "metadata": {
        "colab": {
          "base_uri": "https://localhost:8080/",
          "height": 206
        },
        "id": "9qTGPPQLmG6h",
        "outputId": "237624fa-956c-403a-9b7e-096c82c194d5"
      },
      "source": [
        "df.head()"
      ],
      "execution_count": 113,
      "outputs": [
        {
          "output_type": "execute_result",
          "data": {
            "text/html": [
              "<div>\n",
              "<style scoped>\n",
              "    .dataframe tbody tr th:only-of-type {\n",
              "        vertical-align: middle;\n",
              "    }\n",
              "\n",
              "    .dataframe tbody tr th {\n",
              "        vertical-align: top;\n",
              "    }\n",
              "\n",
              "    .dataframe thead th {\n",
              "        text-align: right;\n",
              "    }\n",
              "</style>\n",
              "<table border=\"1\" class=\"dataframe\">\n",
              "  <thead>\n",
              "    <tr style=\"text-align: right;\">\n",
              "      <th></th>\n",
              "      <th>pickup_datetime</th>\n",
              "      <th>fare_amount</th>\n",
              "      <th>fare_class</th>\n",
              "      <th>pickup_longitude</th>\n",
              "      <th>pickup_latitude</th>\n",
              "      <th>dropoff_longitude</th>\n",
              "      <th>dropoff_latitude</th>\n",
              "      <th>passenger_count</th>\n",
              "      <th>dist_km</th>\n",
              "    </tr>\n",
              "  </thead>\n",
              "  <tbody>\n",
              "    <tr>\n",
              "      <th>0</th>\n",
              "      <td>2010-04-19 08:17:56 UTC</td>\n",
              "      <td>6.5</td>\n",
              "      <td>0</td>\n",
              "      <td>-73.992365</td>\n",
              "      <td>40.730521</td>\n",
              "      <td>-73.975499</td>\n",
              "      <td>40.744746</td>\n",
              "      <td>1</td>\n",
              "      <td>2.126312</td>\n",
              "    </tr>\n",
              "    <tr>\n",
              "      <th>1</th>\n",
              "      <td>2010-04-17 15:43:53 UTC</td>\n",
              "      <td>6.9</td>\n",
              "      <td>0</td>\n",
              "      <td>-73.990078</td>\n",
              "      <td>40.740558</td>\n",
              "      <td>-73.974232</td>\n",
              "      <td>40.744114</td>\n",
              "      <td>1</td>\n",
              "      <td>1.392307</td>\n",
              "    </tr>\n",
              "    <tr>\n",
              "      <th>2</th>\n",
              "      <td>2010-04-17 11:23:26 UTC</td>\n",
              "      <td>10.1</td>\n",
              "      <td>1</td>\n",
              "      <td>-73.994149</td>\n",
              "      <td>40.751118</td>\n",
              "      <td>-73.960064</td>\n",
              "      <td>40.766235</td>\n",
              "      <td>2</td>\n",
              "      <td>3.326763</td>\n",
              "    </tr>\n",
              "    <tr>\n",
              "      <th>3</th>\n",
              "      <td>2010-04-11 21:25:03 UTC</td>\n",
              "      <td>8.9</td>\n",
              "      <td>0</td>\n",
              "      <td>-73.990485</td>\n",
              "      <td>40.756422</td>\n",
              "      <td>-73.971205</td>\n",
              "      <td>40.748192</td>\n",
              "      <td>1</td>\n",
              "      <td>1.864129</td>\n",
              "    </tr>\n",
              "    <tr>\n",
              "      <th>4</th>\n",
              "      <td>2010-04-17 02:19:01 UTC</td>\n",
              "      <td>19.7</td>\n",
              "      <td>1</td>\n",
              "      <td>-73.990976</td>\n",
              "      <td>40.734202</td>\n",
              "      <td>-73.905956</td>\n",
              "      <td>40.743115</td>\n",
              "      <td>1</td>\n",
              "      <td>7.231321</td>\n",
              "    </tr>\n",
              "  </tbody>\n",
              "</table>\n",
              "</div>"
            ],
            "text/plain": [
              "           pickup_datetime  fare_amount  ...  passenger_count   dist_km\n",
              "0  2010-04-19 08:17:56 UTC          6.5  ...                1  2.126312\n",
              "1  2010-04-17 15:43:53 UTC          6.9  ...                1  1.392307\n",
              "2  2010-04-17 11:23:26 UTC         10.1  ...                2  3.326763\n",
              "3  2010-04-11 21:25:03 UTC          8.9  ...                1  1.864129\n",
              "4  2010-04-17 02:19:01 UTC         19.7  ...                1  7.231321\n",
              "\n",
              "[5 rows x 9 columns]"
            ]
          },
          "metadata": {
            "tags": []
          },
          "execution_count": 113
        }
      ]
    },
    {
      "cell_type": "code",
      "metadata": {
        "id": "X5KUW2tImOH9"
      },
      "source": [
        "df['pickup_datetime'] = pd.to_datetime(df['pickup_datetime'])"
      ],
      "execution_count": 114,
      "outputs": []
    },
    {
      "cell_type": "code",
      "metadata": {
        "colab": {
          "base_uri": "https://localhost:8080/"
        },
        "id": "1FI2DXk6ospm",
        "outputId": "cf25a031-9dd1-43ad-9992-fda57dde820d"
      },
      "source": [
        "df.info()"
      ],
      "execution_count": 115,
      "outputs": [
        {
          "output_type": "stream",
          "text": [
            "<class 'pandas.core.frame.DataFrame'>\n",
            "RangeIndex: 120000 entries, 0 to 119999\n",
            "Data columns (total 9 columns):\n",
            " #   Column             Non-Null Count   Dtype              \n",
            "---  ------             --------------   -----              \n",
            " 0   pickup_datetime    120000 non-null  datetime64[ns, UTC]\n",
            " 1   fare_amount        120000 non-null  float64            \n",
            " 2   fare_class         120000 non-null  int64              \n",
            " 3   pickup_longitude   120000 non-null  float64            \n",
            " 4   pickup_latitude    120000 non-null  float64            \n",
            " 5   dropoff_longitude  120000 non-null  float64            \n",
            " 6   dropoff_latitude   120000 non-null  float64            \n",
            " 7   passenger_count    120000 non-null  int64              \n",
            " 8   dist_km            120000 non-null  float64            \n",
            "dtypes: datetime64[ns, UTC](1), float64(6), int64(2)\n",
            "memory usage: 8.2 MB\n"
          ],
          "name": "stdout"
        }
      ]
    },
    {
      "cell_type": "code",
      "metadata": {
        "colab": {
          "base_uri": "https://localhost:8080/",
          "height": 206
        },
        "id": "O18CF7LUoyYY",
        "outputId": "68d41960-9bf3-4d07-ab90-fc1059f2c998"
      },
      "source": [
        "df.head()"
      ],
      "execution_count": 116,
      "outputs": [
        {
          "output_type": "execute_result",
          "data": {
            "text/html": [
              "<div>\n",
              "<style scoped>\n",
              "    .dataframe tbody tr th:only-of-type {\n",
              "        vertical-align: middle;\n",
              "    }\n",
              "\n",
              "    .dataframe tbody tr th {\n",
              "        vertical-align: top;\n",
              "    }\n",
              "\n",
              "    .dataframe thead th {\n",
              "        text-align: right;\n",
              "    }\n",
              "</style>\n",
              "<table border=\"1\" class=\"dataframe\">\n",
              "  <thead>\n",
              "    <tr style=\"text-align: right;\">\n",
              "      <th></th>\n",
              "      <th>pickup_datetime</th>\n",
              "      <th>fare_amount</th>\n",
              "      <th>fare_class</th>\n",
              "      <th>pickup_longitude</th>\n",
              "      <th>pickup_latitude</th>\n",
              "      <th>dropoff_longitude</th>\n",
              "      <th>dropoff_latitude</th>\n",
              "      <th>passenger_count</th>\n",
              "      <th>dist_km</th>\n",
              "    </tr>\n",
              "  </thead>\n",
              "  <tbody>\n",
              "    <tr>\n",
              "      <th>0</th>\n",
              "      <td>2010-04-19 08:17:56+00:00</td>\n",
              "      <td>6.5</td>\n",
              "      <td>0</td>\n",
              "      <td>-73.992365</td>\n",
              "      <td>40.730521</td>\n",
              "      <td>-73.975499</td>\n",
              "      <td>40.744746</td>\n",
              "      <td>1</td>\n",
              "      <td>2.126312</td>\n",
              "    </tr>\n",
              "    <tr>\n",
              "      <th>1</th>\n",
              "      <td>2010-04-17 15:43:53+00:00</td>\n",
              "      <td>6.9</td>\n",
              "      <td>0</td>\n",
              "      <td>-73.990078</td>\n",
              "      <td>40.740558</td>\n",
              "      <td>-73.974232</td>\n",
              "      <td>40.744114</td>\n",
              "      <td>1</td>\n",
              "      <td>1.392307</td>\n",
              "    </tr>\n",
              "    <tr>\n",
              "      <th>2</th>\n",
              "      <td>2010-04-17 11:23:26+00:00</td>\n",
              "      <td>10.1</td>\n",
              "      <td>1</td>\n",
              "      <td>-73.994149</td>\n",
              "      <td>40.751118</td>\n",
              "      <td>-73.960064</td>\n",
              "      <td>40.766235</td>\n",
              "      <td>2</td>\n",
              "      <td>3.326763</td>\n",
              "    </tr>\n",
              "    <tr>\n",
              "      <th>3</th>\n",
              "      <td>2010-04-11 21:25:03+00:00</td>\n",
              "      <td>8.9</td>\n",
              "      <td>0</td>\n",
              "      <td>-73.990485</td>\n",
              "      <td>40.756422</td>\n",
              "      <td>-73.971205</td>\n",
              "      <td>40.748192</td>\n",
              "      <td>1</td>\n",
              "      <td>1.864129</td>\n",
              "    </tr>\n",
              "    <tr>\n",
              "      <th>4</th>\n",
              "      <td>2010-04-17 02:19:01+00:00</td>\n",
              "      <td>19.7</td>\n",
              "      <td>1</td>\n",
              "      <td>-73.990976</td>\n",
              "      <td>40.734202</td>\n",
              "      <td>-73.905956</td>\n",
              "      <td>40.743115</td>\n",
              "      <td>1</td>\n",
              "      <td>7.231321</td>\n",
              "    </tr>\n",
              "  </tbody>\n",
              "</table>\n",
              "</div>"
            ],
            "text/plain": [
              "            pickup_datetime  fare_amount  ...  passenger_count   dist_km\n",
              "0 2010-04-19 08:17:56+00:00          6.5  ...                1  2.126312\n",
              "1 2010-04-17 15:43:53+00:00          6.9  ...                1  1.392307\n",
              "2 2010-04-17 11:23:26+00:00         10.1  ...                2  3.326763\n",
              "3 2010-04-11 21:25:03+00:00          8.9  ...                1  1.864129\n",
              "4 2010-04-17 02:19:01+00:00         19.7  ...                1  7.231321\n",
              "\n",
              "[5 rows x 9 columns]"
            ]
          },
          "metadata": {
            "tags": []
          },
          "execution_count": 116
        }
      ]
    },
    {
      "cell_type": "code",
      "metadata": {
        "id": "N6G3K8Ygo0TE"
      },
      "source": [
        "my_time = df['pickup_datetime'][0]"
      ],
      "execution_count": 117,
      "outputs": []
    },
    {
      "cell_type": "code",
      "metadata": {
        "colab": {
          "base_uri": "https://localhost:8080/"
        },
        "id": "PsQ2OF2brwRf",
        "outputId": "c6c338c6-97ca-461f-bca3-f47d3178c6c9"
      },
      "source": [
        "my_time.hour"
      ],
      "execution_count": 118,
      "outputs": [
        {
          "output_type": "execute_result",
          "data": {
            "text/plain": [
              "8"
            ]
          },
          "metadata": {
            "tags": []
          },
          "execution_count": 118
        }
      ]
    },
    {
      "cell_type": "code",
      "metadata": {
        "id": "9dvR0NDsrymO"
      },
      "source": [
        "df['EDTdate'] = df['pickup_datetime'] - pd.Timedelta(hours=4)"
      ],
      "execution_count": 119,
      "outputs": []
    },
    {
      "cell_type": "code",
      "metadata": {
        "id": "_xhPaM8Uui4q"
      },
      "source": [
        "df['Hour'] = df['EDTdate'].dt.hour"
      ],
      "execution_count": 120,
      "outputs": []
    },
    {
      "cell_type": "code",
      "metadata": {
        "id": "2Z2mGX7SwbWT"
      },
      "source": [
        "df['AMorPM'] = np.where(df['Hour']<12,'am','pm')"
      ],
      "execution_count": 121,
      "outputs": []
    },
    {
      "cell_type": "code",
      "metadata": {
        "id": "iltbtW63xDPr"
      },
      "source": [
        "df['Weekday'] = df['EDTdate'].dt.strftime(\"%a\")"
      ],
      "execution_count": 122,
      "outputs": []
    },
    {
      "cell_type": "code",
      "metadata": {
        "colab": {
          "base_uri": "https://localhost:8080/",
          "height": 293
        },
        "id": "BIucscFSukwN",
        "outputId": "1386675d-01e5-47c8-f1cc-a7451c37f234"
      },
      "source": [
        "df.head()"
      ],
      "execution_count": 123,
      "outputs": [
        {
          "output_type": "execute_result",
          "data": {
            "text/html": [
              "<div>\n",
              "<style scoped>\n",
              "    .dataframe tbody tr th:only-of-type {\n",
              "        vertical-align: middle;\n",
              "    }\n",
              "\n",
              "    .dataframe tbody tr th {\n",
              "        vertical-align: top;\n",
              "    }\n",
              "\n",
              "    .dataframe thead th {\n",
              "        text-align: right;\n",
              "    }\n",
              "</style>\n",
              "<table border=\"1\" class=\"dataframe\">\n",
              "  <thead>\n",
              "    <tr style=\"text-align: right;\">\n",
              "      <th></th>\n",
              "      <th>pickup_datetime</th>\n",
              "      <th>fare_amount</th>\n",
              "      <th>fare_class</th>\n",
              "      <th>pickup_longitude</th>\n",
              "      <th>pickup_latitude</th>\n",
              "      <th>dropoff_longitude</th>\n",
              "      <th>dropoff_latitude</th>\n",
              "      <th>passenger_count</th>\n",
              "      <th>dist_km</th>\n",
              "      <th>EDTdate</th>\n",
              "      <th>Hour</th>\n",
              "      <th>AMorPM</th>\n",
              "      <th>Weekday</th>\n",
              "    </tr>\n",
              "  </thead>\n",
              "  <tbody>\n",
              "    <tr>\n",
              "      <th>0</th>\n",
              "      <td>2010-04-19 08:17:56+00:00</td>\n",
              "      <td>6.5</td>\n",
              "      <td>0</td>\n",
              "      <td>-73.992365</td>\n",
              "      <td>40.730521</td>\n",
              "      <td>-73.975499</td>\n",
              "      <td>40.744746</td>\n",
              "      <td>1</td>\n",
              "      <td>2.126312</td>\n",
              "      <td>2010-04-19 04:17:56+00:00</td>\n",
              "      <td>4</td>\n",
              "      <td>am</td>\n",
              "      <td>Mon</td>\n",
              "    </tr>\n",
              "    <tr>\n",
              "      <th>1</th>\n",
              "      <td>2010-04-17 15:43:53+00:00</td>\n",
              "      <td>6.9</td>\n",
              "      <td>0</td>\n",
              "      <td>-73.990078</td>\n",
              "      <td>40.740558</td>\n",
              "      <td>-73.974232</td>\n",
              "      <td>40.744114</td>\n",
              "      <td>1</td>\n",
              "      <td>1.392307</td>\n",
              "      <td>2010-04-17 11:43:53+00:00</td>\n",
              "      <td>11</td>\n",
              "      <td>am</td>\n",
              "      <td>Sat</td>\n",
              "    </tr>\n",
              "    <tr>\n",
              "      <th>2</th>\n",
              "      <td>2010-04-17 11:23:26+00:00</td>\n",
              "      <td>10.1</td>\n",
              "      <td>1</td>\n",
              "      <td>-73.994149</td>\n",
              "      <td>40.751118</td>\n",
              "      <td>-73.960064</td>\n",
              "      <td>40.766235</td>\n",
              "      <td>2</td>\n",
              "      <td>3.326763</td>\n",
              "      <td>2010-04-17 07:23:26+00:00</td>\n",
              "      <td>7</td>\n",
              "      <td>am</td>\n",
              "      <td>Sat</td>\n",
              "    </tr>\n",
              "    <tr>\n",
              "      <th>3</th>\n",
              "      <td>2010-04-11 21:25:03+00:00</td>\n",
              "      <td>8.9</td>\n",
              "      <td>0</td>\n",
              "      <td>-73.990485</td>\n",
              "      <td>40.756422</td>\n",
              "      <td>-73.971205</td>\n",
              "      <td>40.748192</td>\n",
              "      <td>1</td>\n",
              "      <td>1.864129</td>\n",
              "      <td>2010-04-11 17:25:03+00:00</td>\n",
              "      <td>17</td>\n",
              "      <td>pm</td>\n",
              "      <td>Sun</td>\n",
              "    </tr>\n",
              "    <tr>\n",
              "      <th>4</th>\n",
              "      <td>2010-04-17 02:19:01+00:00</td>\n",
              "      <td>19.7</td>\n",
              "      <td>1</td>\n",
              "      <td>-73.990976</td>\n",
              "      <td>40.734202</td>\n",
              "      <td>-73.905956</td>\n",
              "      <td>40.743115</td>\n",
              "      <td>1</td>\n",
              "      <td>7.231321</td>\n",
              "      <td>2010-04-16 22:19:01+00:00</td>\n",
              "      <td>22</td>\n",
              "      <td>pm</td>\n",
              "      <td>Fri</td>\n",
              "    </tr>\n",
              "  </tbody>\n",
              "</table>\n",
              "</div>"
            ],
            "text/plain": [
              "            pickup_datetime  fare_amount  fare_class  ...  Hour  AMorPM  Weekday\n",
              "0 2010-04-19 08:17:56+00:00          6.5           0  ...     4      am      Mon\n",
              "1 2010-04-17 15:43:53+00:00          6.9           0  ...    11      am      Sat\n",
              "2 2010-04-17 11:23:26+00:00         10.1           1  ...     7      am      Sat\n",
              "3 2010-04-11 21:25:03+00:00          8.9           0  ...    17      pm      Sun\n",
              "4 2010-04-17 02:19:01+00:00         19.7           1  ...    22      pm      Fri\n",
              "\n",
              "[5 rows x 13 columns]"
            ]
          },
          "metadata": {
            "tags": []
          },
          "execution_count": 123
        }
      ]
    },
    {
      "cell_type": "code",
      "metadata": {
        "id": "MUpK0uDMwXou"
      },
      "source": [
        "# separate categorical from continious\r\n",
        "cat_cols = ['Hour', 'AMorPM', 'Weekday']\r\n",
        "cont_cols = ['pickup_latitude', 'pickup_longitude', 'dropoff_latitude', 'dropoff_longitude', 'passenger_count', 'dist_km']"
      ],
      "execution_count": 124,
      "outputs": []
    },
    {
      "cell_type": "code",
      "metadata": {
        "id": "bzrF4e09XHBS"
      },
      "source": [
        "y_col = ['fare_amount']"
      ],
      "execution_count": 125,
      "outputs": []
    },
    {
      "cell_type": "code",
      "metadata": {
        "id": "ffDfnGw7XRn6"
      },
      "source": [
        "# Convert our three categorical columns to category dtypes.\r\n",
        "for cat in cat_cols:\r\n",
        "    df[cat] = df[cat].astype('category')"
      ],
      "execution_count": 126,
      "outputs": []
    },
    {
      "cell_type": "code",
      "metadata": {
        "colab": {
          "base_uri": "https://localhost:8080/"
        },
        "id": "pgqw21CWX4rp",
        "outputId": "a9ecb2e0-dae1-4c78-d4ef-48efb4e09e6d"
      },
      "source": [
        "df.dtypes"
      ],
      "execution_count": 127,
      "outputs": [
        {
          "output_type": "execute_result",
          "data": {
            "text/plain": [
              "pickup_datetime      datetime64[ns, UTC]\n",
              "fare_amount                      float64\n",
              "fare_class                         int64\n",
              "pickup_longitude                 float64\n",
              "pickup_latitude                  float64\n",
              "dropoff_longitude                float64\n",
              "dropoff_latitude                 float64\n",
              "passenger_count                    int64\n",
              "dist_km                          float64\n",
              "EDTdate              datetime64[ns, UTC]\n",
              "Hour                            category\n",
              "AMorPM                          category\n",
              "Weekday                         category\n",
              "dtype: object"
            ]
          },
          "metadata": {
            "tags": []
          },
          "execution_count": 127
        }
      ]
    },
    {
      "cell_type": "code",
      "metadata": {
        "colab": {
          "base_uri": "https://localhost:8080/"
        },
        "id": "5mpTEy_GX6sh",
        "outputId": "11ce0c6f-4666-411b-db70-5510ca0a2148"
      },
      "source": [
        "df['AMorPM'].head()"
      ],
      "execution_count": 128,
      "outputs": [
        {
          "output_type": "execute_result",
          "data": {
            "text/plain": [
              "0    am\n",
              "1    am\n",
              "2    am\n",
              "3    pm\n",
              "4    pm\n",
              "Name: AMorPM, dtype: category\n",
              "Categories (2, object): ['am', 'pm']"
            ]
          },
          "metadata": {
            "tags": []
          },
          "execution_count": 128
        }
      ]
    },
    {
      "cell_type": "code",
      "metadata": {
        "colab": {
          "base_uri": "https://localhost:8080/"
        },
        "id": "jgUHALDdX-3Z",
        "outputId": "64402821-58b7-4879-ce95-5f0e9c0f5c5d"
      },
      "source": [
        "df['Hour'].head()"
      ],
      "execution_count": 129,
      "outputs": [
        {
          "output_type": "execute_result",
          "data": {
            "text/plain": [
              "0     4\n",
              "1    11\n",
              "2     7\n",
              "3    17\n",
              "4    22\n",
              "Name: Hour, dtype: category\n",
              "Categories (24, int64): [0, 1, 2, 3, ..., 20, 21, 22, 23]"
            ]
          },
          "metadata": {
            "tags": []
          },
          "execution_count": 129
        }
      ]
    },
    {
      "cell_type": "code",
      "metadata": {
        "colab": {
          "base_uri": "https://localhost:8080/"
        },
        "id": "Tj4IvJx3YN7p",
        "outputId": "22303c78-5a10-44ce-eee1-97fcfd84841d"
      },
      "source": [
        "df['Weekday'].head()"
      ],
      "execution_count": 130,
      "outputs": [
        {
          "output_type": "execute_result",
          "data": {
            "text/plain": [
              "0    Mon\n",
              "1    Sat\n",
              "2    Sat\n",
              "3    Sun\n",
              "4    Fri\n",
              "Name: Weekday, dtype: category\n",
              "Categories (7, object): ['Fri', 'Mon', 'Sat', 'Sun', 'Thu', 'Tue', 'Wed']"
            ]
          },
          "metadata": {
            "tags": []
          },
          "execution_count": 130
        }
      ]
    },
    {
      "cell_type": "code",
      "metadata": {
        "colab": {
          "base_uri": "https://localhost:8080/"
        },
        "id": "hThy12MyYdaV",
        "outputId": "a5fd862b-753b-446e-c410-3c105a5269b6"
      },
      "source": [
        "df['AMorPM'].cat.categories"
      ],
      "execution_count": 131,
      "outputs": [
        {
          "output_type": "execute_result",
          "data": {
            "text/plain": [
              "Index(['am', 'pm'], dtype='object')"
            ]
          },
          "metadata": {
            "tags": []
          },
          "execution_count": 131
        }
      ]
    },
    {
      "cell_type": "code",
      "metadata": {
        "colab": {
          "base_uri": "https://localhost:8080/"
        },
        "id": "KmBwpsfzbmDA",
        "outputId": "b9dee290-a83e-4ec0-d0bc-a07229f27daf"
      },
      "source": [
        "df['Weekday'].head().cat.codes"
      ],
      "execution_count": 132,
      "outputs": [
        {
          "output_type": "execute_result",
          "data": {
            "text/plain": [
              "0    1\n",
              "1    2\n",
              "2    2\n",
              "3    3\n",
              "4    0\n",
              "dtype: int8"
            ]
          },
          "metadata": {
            "tags": []
          },
          "execution_count": 132
        }
      ]
    },
    {
      "cell_type": "code",
      "metadata": {
        "id": "dZX309FjhRjF"
      },
      "source": [
        "hr = df['Hour'].cat.codes.values\r\n",
        "ampm = df['AMorPM'].cat.codes.values\r\n",
        "wkdy = df['Weekday'].cat.codes.values\r\n"
      ],
      "execution_count": 133,
      "outputs": []
    },
    {
      "cell_type": "code",
      "metadata": {
        "colab": {
          "base_uri": "https://localhost:8080/"
        },
        "id": "9GVMmrqghgq1",
        "outputId": "39cf2b09-8791-4aff-e9f6-1889cb621b6a"
      },
      "source": [
        "hr\r\n"
      ],
      "execution_count": 134,
      "outputs": [
        {
          "output_type": "execute_result",
          "data": {
            "text/plain": [
              "array([ 4, 11,  7, ..., 14,  4, 12], dtype=int8)"
            ]
          },
          "metadata": {
            "tags": []
          },
          "execution_count": 134
        }
      ]
    },
    {
      "cell_type": "code",
      "metadata": {
        "id": "ZNr-4mdThhrt"
      },
      "source": [
        "cats = np.stack([hr, ampm, wkdy], 1)"
      ],
      "execution_count": 135,
      "outputs": []
    },
    {
      "cell_type": "code",
      "metadata": {
        "colab": {
          "base_uri": "https://localhost:8080/"
        },
        "id": "XeyWVmHTiji4",
        "outputId": "3fa6f93e-bb81-4961-b032-c35facc46e39"
      },
      "source": [
        "cats[:5]"
      ],
      "execution_count": 136,
      "outputs": [
        {
          "output_type": "execute_result",
          "data": {
            "text/plain": [
              "array([[ 4,  0,  1],\n",
              "       [11,  0,  2],\n",
              "       [ 7,  0,  2],\n",
              "       [17,  1,  3],\n",
              "       [22,  1,  0]], dtype=int8)"
            ]
          },
          "metadata": {
            "tags": []
          },
          "execution_count": 136
        }
      ]
    },
    {
      "cell_type": "code",
      "metadata": {
        "id": "AcCctVETilQr"
      },
      "source": [
        "# we can do this by following these 3 steps\r\n",
        "# cat_cols = ['Hour', 'AMorPM', 'Weekday']\r\n",
        "# for cat in cat_cols:\r\n",
        "#    df[cat] = df[cat].astype('category')\r\n",
        "# cats = np.stack([df[col].cat.codes.values for col in cat_cols], 1)"
      ],
      "execution_count": 137,
      "outputs": []
    },
    {
      "cell_type": "code",
      "metadata": {
        "id": "RGPK7CO0jLkQ"
      },
      "source": [
        "# now transform our array into a tensor\r\n",
        "cats = torch.tensor(cats,dtype=torch.int64)"
      ],
      "execution_count": 138,
      "outputs": []
    },
    {
      "cell_type": "code",
      "metadata": {
        "id": "iGetTKU9jmks"
      },
      "source": [
        "conts = np.stack([df[col].values for col in cont_cols], 1)"
      ],
      "execution_count": 139,
      "outputs": []
    },
    {
      "cell_type": "code",
      "metadata": {
        "colab": {
          "base_uri": "https://localhost:8080/"
        },
        "id": "Wh6i-GvJj_b4",
        "outputId": "216a32f8-435c-48d8-abef-fc1fe8c9519e"
      },
      "source": [
        "conts[:5]"
      ],
      "execution_count": 140,
      "outputs": [
        {
          "output_type": "execute_result",
          "data": {
            "text/plain": [
              "array([[ 40.730521  , -73.992365  ,  40.744746  , -73.975499  ,\n",
              "          1.        ,   2.12631159],\n",
              "       [ 40.740558  , -73.990078  ,  40.744114  , -73.974232  ,\n",
              "          1.        ,   1.39230687],\n",
              "       [ 40.751118  , -73.994149  ,  40.766235  , -73.960064  ,\n",
              "          2.        ,   3.32676344],\n",
              "       [ 40.756422  , -73.990485  ,  40.748192  , -73.971205  ,\n",
              "          1.        ,   1.86412925],\n",
              "       [ 40.734202  , -73.990976  ,  40.743115  , -73.905956  ,\n",
              "          1.        ,   7.23132104]])"
            ]
          },
          "metadata": {
            "tags": []
          },
          "execution_count": 140
        }
      ]
    },
    {
      "cell_type": "code",
      "metadata": {
        "id": "YDBtrLEHkO1P"
      },
      "source": [
        "conts = torch.tensor(conts,dtype=torch.float)"
      ],
      "execution_count": 141,
      "outputs": []
    },
    {
      "cell_type": "code",
      "metadata": {
        "colab": {
          "base_uri": "https://localhost:8080/"
        },
        "id": "zM5itG_Zktyf",
        "outputId": "162ea443-353d-4e2c-c393-a1fd63ff3239"
      },
      "source": [
        "conts"
      ],
      "execution_count": 142,
      "outputs": [
        {
          "output_type": "execute_result",
          "data": {
            "text/plain": [
              "tensor([[ 40.7305, -73.9924,  40.7447, -73.9755,   1.0000,   2.1263],\n",
              "        [ 40.7406, -73.9901,  40.7441, -73.9742,   1.0000,   1.3923],\n",
              "        [ 40.7511, -73.9941,  40.7662, -73.9601,   2.0000,   3.3268],\n",
              "        ...,\n",
              "        [ 40.7498, -73.9886,  40.7078, -74.0115,   3.0000,   5.0525],\n",
              "        [ 40.7245, -74.0044,  40.7308, -73.9927,   1.0000,   1.2089],\n",
              "        [ 40.7719, -73.9554,  40.7630, -73.9676,   3.0000,   1.4274]])"
            ]
          },
          "metadata": {
            "tags": []
          },
          "execution_count": 142
        }
      ]
    },
    {
      "cell_type": "code",
      "metadata": {
        "id": "O_IcJ8CIkwB_"
      },
      "source": [
        "labels = df[y_col].values"
      ],
      "execution_count": 143,
      "outputs": []
    },
    {
      "cell_type": "code",
      "metadata": {
        "colab": {
          "base_uri": "https://localhost:8080/"
        },
        "id": "NV_hPxThkyf7",
        "outputId": "cc4696cd-1137-4f25-97bf-6f2d6d785421"
      },
      "source": [
        "labels"
      ],
      "execution_count": 144,
      "outputs": [
        {
          "output_type": "execute_result",
          "data": {
            "text/plain": [
              "array([[ 6.5],\n",
              "       [ 6.9],\n",
              "       [10.1],\n",
              "       ...,\n",
              "       [12.5],\n",
              "       [ 4.9],\n",
              "       [ 5.3]])"
            ]
          },
          "metadata": {
            "tags": []
          },
          "execution_count": 144
        }
      ]
    },
    {
      "cell_type": "code",
      "metadata": {
        "id": "6ZSSnZJilIkg"
      },
      "source": [
        "y = torch.tensor(df[y_col].values, dtype=torch.float).reshape(-1,1)"
      ],
      "execution_count": 145,
      "outputs": []
    },
    {
      "cell_type": "code",
      "metadata": {
        "colab": {
          "base_uri": "https://localhost:8080/"
        },
        "id": "mUboXqPAl8kU",
        "outputId": "774ac7d0-635e-42c1-b41b-71ecfeac323d"
      },
      "source": [
        "y"
      ],
      "execution_count": 146,
      "outputs": [
        {
          "output_type": "execute_result",
          "data": {
            "text/plain": [
              "tensor([[ 6.5000],\n",
              "        [ 6.9000],\n",
              "        [10.1000],\n",
              "        ...,\n",
              "        [12.5000],\n",
              "        [ 4.9000],\n",
              "        [ 5.3000]])"
            ]
          },
          "metadata": {
            "tags": []
          },
          "execution_count": 146
        }
      ]
    },
    {
      "cell_type": "code",
      "metadata": {
        "colab": {
          "base_uri": "https://localhost:8080/"
        },
        "id": "JM-scj5ml9bD",
        "outputId": "d1e7b78e-8063-4b75-a82c-3ed8b0e7ee5b"
      },
      "source": [
        "cats.shape"
      ],
      "execution_count": 147,
      "outputs": [
        {
          "output_type": "execute_result",
          "data": {
            "text/plain": [
              "torch.Size([120000, 3])"
            ]
          },
          "metadata": {
            "tags": []
          },
          "execution_count": 147
        }
      ]
    },
    {
      "cell_type": "code",
      "metadata": {
        "colab": {
          "base_uri": "https://localhost:8080/"
        },
        "id": "SOY8iv3O9g-h",
        "outputId": "f8de71d8-d76d-4059-a2ab-28b9ba8aec4c"
      },
      "source": [
        "conts.shape"
      ],
      "execution_count": 148,
      "outputs": [
        {
          "output_type": "execute_result",
          "data": {
            "text/plain": [
              "torch.Size([120000, 6])"
            ]
          },
          "metadata": {
            "tags": []
          },
          "execution_count": 148
        }
      ]
    },
    {
      "cell_type": "code",
      "metadata": {
        "colab": {
          "base_uri": "https://localhost:8080/"
        },
        "id": "ldYoOuY--A6_",
        "outputId": "1727803e-d2c8-4314-b4b0-671e50e61960"
      },
      "source": [
        "y.shape"
      ],
      "execution_count": 149,
      "outputs": [
        {
          "output_type": "execute_result",
          "data": {
            "text/plain": [
              "torch.Size([120000, 1])"
            ]
          },
          "metadata": {
            "tags": []
          },
          "execution_count": 149
        }
      ]
    },
    {
      "cell_type": "code",
      "metadata": {
        "colab": {
          "base_uri": "https://localhost:8080/"
        },
        "id": "LihqIh7C-Cn3",
        "outputId": "c719def6-1e9e-45ca-fd21-444fe659dd4f"
      },
      "source": [
        "# This will set embedding sizes for Hours, AMvsPM and Weekdays\r\n",
        "cat_szs = [len(df[col].cat.categories) for col in cat_cols]\r\n",
        "emb_szs = [(size, min(50, (size+1)//2)) for size in cat_szs]\r\n",
        "emb_szs"
      ],
      "execution_count": 150,
      "outputs": [
        {
          "output_type": "execute_result",
          "data": {
            "text/plain": [
              "[(24, 12), (2, 1), (7, 4)]"
            ]
          },
          "metadata": {
            "tags": []
          },
          "execution_count": 150
        }
      ]
    },
    {
      "cell_type": "code",
      "metadata": {
        "id": "GjeiUa9SASfI"
      },
      "source": [
        ""
      ],
      "execution_count": 150,
      "outputs": []
    },
    {
      "cell_type": "code",
      "metadata": {
        "id": "qyJQFiuizNqr"
      },
      "source": [
        "# Define a TabularModel\r\n",
        "class TabularModel(nn.Module):\r\n",
        "\r\n",
        "    def __init__(self, emb_szs, n_cont, out_sz, layers, p=0.5):\r\n",
        "        super().__init__()\r\n",
        "        self.embeds = nn.ModuleList([nn.Embedding(ni, nf) for ni,nf in emb_szs])\r\n",
        "        self.emb_drop = nn.Dropout(p)\r\n",
        "        self.bn_cont = nn.BatchNorm1d(n_cont)\r\n",
        "        \r\n",
        "        layerlist = []\r\n",
        "        n_emb = sum((nf for ni,nf in emb_szs))\r\n",
        "        n_in = n_emb + n_cont\r\n",
        "        \r\n",
        "        for i in layers:\r\n",
        "            layerlist.append(nn.Linear(n_in,i)) \r\n",
        "            layerlist.append(nn.ReLU(inplace=True))\r\n",
        "            layerlist.append(nn.BatchNorm1d(i))\r\n",
        "            layerlist.append(nn.Dropout(p))\r\n",
        "            n_in = i\r\n",
        "        layerlist.append(nn.Linear(layers[-1],out_sz))\r\n",
        "            \r\n",
        "        self.layers = nn.Sequential(*layerlist)\r\n",
        "    \r\n",
        "    def forward(self, x_cat, x_cont):\r\n",
        "        embeddings = []\r\n",
        "        for i,e in enumerate(self.embeds):\r\n",
        "            embeddings.append(e(x_cat[:,i]))\r\n",
        "        x = torch.cat(embeddings, 1)\r\n",
        "        x = self.emb_drop(x)\r\n",
        "        \r\n",
        "        x_cont = self.bn_cont(x_cont)\r\n",
        "        x = torch.cat([x, x_cont], 1)\r\n",
        "        x = self.layers(x)\r\n",
        "        return x"
      ],
      "execution_count": 151,
      "outputs": []
    },
    {
      "cell_type": "code",
      "metadata": {
        "id": "RyLM3gc58LYc"
      },
      "source": [
        "torch.manual_seed(33)\r\n",
        "model = TabularModel(emb_szs, conts.shape[1], 1, [200,100], p=0.4)"
      ],
      "execution_count": 152,
      "outputs": []
    },
    {
      "cell_type": "code",
      "metadata": {
        "colab": {
          "base_uri": "https://localhost:8080/"
        },
        "id": "RqTUSUga8PlW",
        "outputId": "8b9ad056-1587-41c0-c63c-e6273e88309f"
      },
      "source": [
        "model"
      ],
      "execution_count": 153,
      "outputs": [
        {
          "output_type": "execute_result",
          "data": {
            "text/plain": [
              "TabularModel(\n",
              "  (embeds): ModuleList(\n",
              "    (0): Embedding(24, 12)\n",
              "    (1): Embedding(2, 1)\n",
              "    (2): Embedding(7, 4)\n",
              "  )\n",
              "  (emb_drop): Dropout(p=0.4, inplace=False)\n",
              "  (bn_cont): BatchNorm1d(6, eps=1e-05, momentum=0.1, affine=True, track_running_stats=True)\n",
              "  (layers): Sequential(\n",
              "    (0): Linear(in_features=23, out_features=200, bias=True)\n",
              "    (1): ReLU(inplace=True)\n",
              "    (2): BatchNorm1d(200, eps=1e-05, momentum=0.1, affine=True, track_running_stats=True)\n",
              "    (3): Dropout(p=0.4, inplace=False)\n",
              "    (4): Linear(in_features=200, out_features=100, bias=True)\n",
              "    (5): ReLU(inplace=True)\n",
              "    (6): BatchNorm1d(100, eps=1e-05, momentum=0.1, affine=True, track_running_stats=True)\n",
              "    (7): Dropout(p=0.4, inplace=False)\n",
              "    (8): Linear(in_features=100, out_features=1, bias=True)\n",
              "  )\n",
              ")"
            ]
          },
          "metadata": {
            "tags": []
          },
          "execution_count": 153
        }
      ]
    },
    {
      "cell_type": "code",
      "metadata": {
        "id": "uV579NVdFIAO"
      },
      "source": [
        "criterion = nn.MSELoss()  # we'll convert this to RMSE later\r\n",
        "optimizer = torch.optim.Adam(model.parameters(), lr=0.001)"
      ],
      "execution_count": 154,
      "outputs": []
    },
    {
      "cell_type": "code",
      "metadata": {
        "id": "8vDpGDYaC3An"
      },
      "source": [
        "# 120000 is pretty big so for training we will just take the half\r\n",
        "batch_size = 60000\r\n",
        "test_size = int(batch_size * .2)"
      ],
      "execution_count": 155,
      "outputs": []
    },
    {
      "cell_type": "code",
      "metadata": {
        "id": "7YqfyOUNC9PZ"
      },
      "source": [
        "# DATA SHUFFLED ALREADY\r\n",
        "# if it is not the case for your data go ahead and shuffle\r\n",
        "# before doing any sort of separation\r\n",
        "cat_train = cats[:batch_size-test_size]\r\n",
        "cat_test = cats[batch_size-test_size:batch_size]\r\n",
        "con_train = conts[:batch_size-test_size]\r\n",
        "con_test = conts[batch_size-test_size:batch_size]"
      ],
      "execution_count": 156,
      "outputs": []
    },
    {
      "cell_type": "code",
      "metadata": {
        "id": "p0Sy2-PQEtV1"
      },
      "source": [
        "y_train = y[:batch_size-test_size]\r\n",
        "y_test = y[batch_size-test_size:batch_size]"
      ],
      "execution_count": 157,
      "outputs": []
    },
    {
      "cell_type": "code",
      "metadata": {
        "colab": {
          "base_uri": "https://localhost:8080/"
        },
        "id": "Lbc0TVZ3Ex2Z",
        "outputId": "185a8dcf-1811-4838-eac1-8f22343f043a"
      },
      "source": [
        "len(cat_train)"
      ],
      "execution_count": 158,
      "outputs": [
        {
          "output_type": "execute_result",
          "data": {
            "text/plain": [
              "48000"
            ]
          },
          "metadata": {
            "tags": []
          },
          "execution_count": 158
        }
      ]
    },
    {
      "cell_type": "code",
      "metadata": {
        "colab": {
          "base_uri": "https://localhost:8080/"
        },
        "id": "BI0lUqpEE22F",
        "outputId": "4723dcb3-8568-4c36-8149-5df60ec30c4b"
      },
      "source": [
        "len(con_train)"
      ],
      "execution_count": 159,
      "outputs": [
        {
          "output_type": "execute_result",
          "data": {
            "text/plain": [
              "48000"
            ]
          },
          "metadata": {
            "tags": []
          },
          "execution_count": 159
        }
      ]
    },
    {
      "cell_type": "code",
      "metadata": {
        "colab": {
          "base_uri": "https://localhost:8080/"
        },
        "id": "nh0y6D5oE50I",
        "outputId": "aec72490-43b2-4cb4-dfbd-7c3638cfae14"
      },
      "source": [
        "len(cat_test)"
      ],
      "execution_count": 160,
      "outputs": [
        {
          "output_type": "execute_result",
          "data": {
            "text/plain": [
              "12000"
            ]
          },
          "metadata": {
            "tags": []
          },
          "execution_count": 160
        }
      ]
    },
    {
      "cell_type": "code",
      "metadata": {
        "colab": {
          "base_uri": "https://localhost:8080/"
        },
        "id": "xkK9BFa0E_j0",
        "outputId": "e9874b5b-562b-4ea1-cf7e-c431a1df8c79"
      },
      "source": [
        "import time\r\n",
        "start_time = time.time()\r\n",
        "\r\n",
        "epochs = 300\r\n",
        "losses = []\r\n",
        "\r\n",
        "for i in range(epochs):\r\n",
        "    i+=1\r\n",
        "    y_pred = model(cat_train, con_train)\r\n",
        "    loss = torch.sqrt(criterion(y_pred, y_train)) # RMSE\r\n",
        "    losses.append(loss)\r\n",
        "    \r\n",
        "    # a neat trick to save screen space:\r\n",
        "    if i%10 == 1:\r\n",
        "        print(f'epoch: {i}  loss: {loss}')\r\n",
        "\r\n",
        "    optimizer.zero_grad()\r\n",
        "    loss.backward()\r\n",
        "    optimizer.step()\r\n",
        "\r\n",
        "duration = time.time() - start_time\r\n",
        "print(f'Trainig took {duration/60} minutes')"
      ],
      "execution_count": 161,
      "outputs": [
        {
          "output_type": "stream",
          "text": [
            "epoch: 1  loss: 12.569019317626953\n",
            "epoch: 11  loss: 11.707297325134277\n",
            "epoch: 21  loss: 11.126460075378418\n",
            "epoch: 31  loss: 10.723576545715332\n",
            "epoch: 41  loss: 10.453323364257812\n",
            "epoch: 51  loss: 10.229157447814941\n",
            "epoch: 61  loss: 10.026406288146973\n",
            "epoch: 71  loss: 9.84231185913086\n",
            "epoch: 81  loss: 9.637185096740723\n",
            "epoch: 91  loss: 9.428326606750488\n",
            "epoch: 101  loss: 9.197139739990234\n",
            "epoch: 111  loss: 8.908242225646973\n",
            "epoch: 121  loss: 8.60488224029541\n",
            "epoch: 131  loss: 8.245100975036621\n",
            "epoch: 141  loss: 7.845258712768555\n",
            "epoch: 151  loss: 7.404627799987793\n",
            "epoch: 161  loss: 6.963348388671875\n",
            "epoch: 171  loss: 6.499824047088623\n",
            "epoch: 181  loss: 6.006209850311279\n",
            "epoch: 191  loss: 5.509527683258057\n",
            "epoch: 201  loss: 5.041131973266602\n",
            "epoch: 211  loss: 4.651059627532959\n",
            "epoch: 221  loss: 4.356410503387451\n",
            "epoch: 231  loss: 4.103184700012207\n",
            "epoch: 241  loss: 3.9283361434936523\n",
            "epoch: 251  loss: 3.885756492614746\n",
            "epoch: 261  loss: 3.7924115657806396\n",
            "epoch: 271  loss: 3.791783332824707\n",
            "epoch: 281  loss: 3.7490758895874023\n",
            "epoch: 291  loss: 3.7292537689208984\n",
            "Trainig took 6.459417339166006 minutes\n"
          ],
          "name": "stdout"
        }
      ]
    },
    {
      "cell_type": "code",
      "metadata": {
        "colab": {
          "base_uri": "https://localhost:8080/",
          "height": 279
        },
        "id": "kF7cHHtGGd2o",
        "outputId": "84a24d1f-0de3-43ac-fbd9-f20f3a0c9050"
      },
      "source": [
        "# plot the loss function\r\n",
        "plt.plot(range(epochs), losses)\r\n",
        "plt.ylabel('RMSE Loss')\r\n",
        "plt.xlabel('epoch');"
      ],
      "execution_count": 162,
      "outputs": [
        {
          "output_type": "display_data",
          "data": {
            "image/png": "[encoded data removed]",
            "text/plain": [
              "<Figure size 432x288 with 1 Axes>"
            ]
          },
          "metadata": {
            "tags": [],
            "needs_background": "light"
          }
        }
      ]
    },
    {
      "cell_type": "code",
      "metadata": {
        "id": "btKCd-E0JgZX"
      },
      "source": [
        "# TO EVALUATE THE ENTIRE TEST SET\r\n",
        "with torch.no_grad():\r\n",
        "\r\n",
        "    y_val = model(cat_test, con_test)\r\n",
        "\r\n",
        "    loss = torch.sqrt(criterion(y_val, y_test))"
      ],
      "execution_count": 163,
      "outputs": []
    },
    {
      "cell_type": "code",
      "metadata": {
        "colab": {
          "base_uri": "https://localhost:8080/"
        },
        "id": "DVDz1g_0Jzsg",
        "outputId": "db8b547c-caa9-40da-a589-47206dd11c57"
      },
      "source": [
        "loss"
      ],
      "execution_count": 164,
      "outputs": [
        {
          "output_type": "execute_result",
          "data": {
            "text/plain": [
              "tensor(3.6241)"
            ]
          },
          "metadata": {
            "tags": []
          },
          "execution_count": 164
        }
      ]
    },
    {
      "cell_type": "code",
      "metadata": {
        "colab": {
          "base_uri": "https://localhost:8080/"
        },
        "id": "lxppfZ6TJc32",
        "outputId": "c796331f-f26f-4a40-ff51-feb4d708a751"
      },
      "source": [
        "df = pd.DataFrame({'Actual': y_test.numpy().tolist(), 'Predicted': y_val.numpy().tolist()})\r\n",
        "df['Actual'].min()"
      ],
      "execution_count": 165,
      "outputs": [
        {
          "output_type": "execute_result",
          "data": {
            "text/plain": [
              "[2.5]"
            ]
          },
          "metadata": {
            "tags": []
          },
          "execution_count": 165
        }
      ]
    },
    {
      "cell_type": "code",
      "metadata": {
        "colab": {
          "base_uri": "https://localhost:8080/",
          "height": 265
        },
        "id": "vPVyY6LXIr0p",
        "outputId": "681183f8-6eba-41e8-e224-9cd2f4d25e18"
      },
      "source": [
        "plt.plot(y_test, y_val, '.')\r\n",
        "\r\n",
        "# plot a line, a perfit predict would all fall on this line\r\n",
        "x = np.linspace(1, 50, len(y_test) )\r\n",
        "y = x\r\n",
        "plt.plot(x, y)\r\n",
        "plt.show()"
      ],
      "execution_count": 166,
      "outputs": [
        {
          "output_type": "display_data",
          "data": {
            "image/png": "[encoded data removed]",
            "text/plain": [
              "<Figure size 432x288 with 1 Axes>"
            ]
          },
          "metadata": {
            "tags": [],
            "needs_background": "light"
          }
        }
      ]
    },
    {
      "cell_type": "code",
      "metadata": {
        "colab": {
          "base_uri": "https://localhost:8080/"
        },
        "id": "0Q3_LywRPUYv",
        "outputId": "ba988a94-a759-4e31-db15-1b21047a39db"
      },
      "source": [
        "print(f'{\"PREDICTED\":>12} {\"ACTUAL\":>8} {\"DIFF\":>8}')\r\n",
        "for i in range(50):\r\n",
        "    diff = np.abs(y_val[i].item()-y_test[i].item())\r\n",
        "    print(f'{i+1:2}. {y_val[i].item():8.4f} {y_test[i].item():8.4f} {diff:8.4f}')"
      ],
      "execution_count": 167,
      "outputs": [
        {
          "output_type": "stream",
          "text": [
            "   PREDICTED   ACTUAL     DIFF\n",
            " 1.   4.1745   2.9000   1.2745\n",
            " 2.  14.3218   5.7000   8.6218\n",
            " 3.   7.0884   7.7000   0.6116\n",
            " 4.  14.6799  12.5000   2.1799\n",
            " 5.   5.8542   4.1000   1.7542\n",
            " 6.   5.5269   5.3000   0.2269\n",
            " 7.   4.5811   3.7000   0.8811\n",
            " 8.  20.0993  14.5000   5.5993\n",
            " 9.   9.3548   5.7000   3.6548\n",
            "10.  12.6707  10.1000   2.5707\n",
            "11.   7.7874   4.5000   3.2874\n",
            "12.   1.3431   6.1000   4.7569\n",
            "13.   6.4537   6.9000   0.4463\n",
            "14.  11.0019  14.1000   3.0981\n",
            "15.   5.1186   4.5000   0.6186\n",
            "16.  31.5361  34.1000   2.5639\n",
            "17.   1.1131  12.5000  11.3869\n",
            "18.   6.0005   4.1000   1.9005\n",
            "19.   7.1449   8.5000   1.3551\n",
            "20.   3.8667   5.3000   1.4333\n",
            "21.  14.7816  11.3000   3.4816\n",
            "22.   9.5428  10.5000   0.9572\n",
            "23.  17.3262  15.3000   2.0262\n",
            "24.  16.7489  14.9000   1.8489\n",
            "25.  45.5443  49.5700   4.0257\n",
            "26.   1.6840   5.3000   3.6160\n",
            "27.   4.8186   3.7000   1.1186\n",
            "28.   4.6826   6.5000   1.8174\n",
            "29.  14.3196  14.1000   0.2196\n",
            "30.   6.2880   4.9000   1.3880\n",
            "31.   4.5404   3.7000   0.8404\n",
            "32.  31.9587  38.6700   6.7113\n",
            "33.  14.9745  12.5000   2.4745\n",
            "34.  13.6156  16.5000   2.8844\n",
            "35.   3.1686   5.7000   2.5314\n",
            "36.   8.9109   8.9000   0.0109\n",
            "37.  20.0668  22.1000   2.0332\n",
            "38.   8.6302  12.1000   3.4698\n",
            "39.   6.9591  10.1000   3.1409\n",
            "40.   4.0957   3.3000   0.7957\n",
            "41.  12.5362   8.5000   4.0362\n",
            "42.  10.0537   8.1000   1.9537\n",
            "43.   9.6264  14.5000   4.8736\n",
            "44.   7.6930   4.9000   2.7930\n",
            "45.   4.6953   8.5000   3.8047\n",
            "46.  11.1167  12.1000   0.9833\n",
            "47.  22.9234  23.7000   0.7766\n",
            "48.   3.3179   3.7000   0.3821\n",
            "49.   7.4543   9.3000   1.8457\n",
            "50.   9.2062   8.1000   1.1062\n"
          ],
          "name": "stdout"
        }
      ]
    },
    {
      "cell_type": "code",
      "metadata": {
        "id": "HH8bwtlMQY-8"
      },
      "source": [
        " # save the model\r\n",
        " torch.save(model.state_dict(), 'TaxiFareRegrModel.pt')"
      ],
      "execution_count": 168,
      "outputs": []
    },
    {
      "cell_type": "code",
      "metadata": {
        "id": "4Sa2LrPmRmus"
      },
      "source": [
        ""
      ],
      "execution_count": 168,
      "outputs": []
    }
  ]
}