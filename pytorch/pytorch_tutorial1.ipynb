{
  "nbformat": 4,
  "nbformat_minor": 0,
  "metadata": {
    "kernelspec": {
      "display_name": "Python 3",
      "language": "python",
      "name": "python3"
    },
    "language_info": {
      "codemirror_mode": {
        "name": "ipython",
        "version": 3
      },
      "file_extension": ".py",
      "mimetype": "text/x-python",
      "name": "python",
      "nbconvert_exporter": "python",
      "pygments_lexer": "ipython3",
      "version": "3.8.3"
    },
    "colab": {
      "name": "pytorch_tutorial1.ipynb",
      "provenance": [],
      "collapsed_sections": [
        "kozN98OcEeGC"
      ],
      "toc_visible": true
    }
  },
  "cells": [
    {
      "cell_type": "code",
      "metadata": {
        "id": "Zher91WlEeFe"
      },
      "source": [
        "import numpy as np"
      ],
      "execution_count": null,
      "outputs": []
    },
    {
      "cell_type": "code",
      "metadata": {
        "id": "TIu78eyzEeFl"
      },
      "source": [
        "mylist = [[1,2,3],[4,5,6],[7,8,9]]"
      ],
      "execution_count": null,
      "outputs": []
    },
    {
      "cell_type": "code",
      "metadata": {
        "id": "6ZjP7Y7kEeFn"
      },
      "source": [
        "mymatrix = np.array(mylist)"
      ],
      "execution_count": null,
      "outputs": []
    },
    {
      "cell_type": "code",
      "metadata": {
        "id": "XGP9B83rEeFo",
        "outputId": "475f0dba-93ff-4da9-a876-d0ba444d4842"
      },
      "source": [
        "mymatrix.shape"
      ],
      "execution_count": null,
      "outputs": [
        {
          "output_type": "execute_result",
          "data": {
            "text/plain": [
              "(3, 3)"
            ]
          },
          "metadata": {
            "tags": []
          },
          "execution_count": 4
        }
      ]
    },
    {
      "cell_type": "code",
      "metadata": {
        "id": "Rs5IGxOzEeFp",
        "outputId": "9fc72d4e-bdb4-483b-aade-9a79ebfa9991"
      },
      "source": [
        "np.arange(1,10)"
      ],
      "execution_count": null,
      "outputs": [
        {
          "output_type": "execute_result",
          "data": {
            "text/plain": [
              "array([1, 2, 3, 4, 5, 6, 7, 8, 9])"
            ]
          },
          "metadata": {
            "tags": []
          },
          "execution_count": 5
        }
      ]
    },
    {
      "cell_type": "code",
      "metadata": {
        "id": "2lICA7f0EeFq",
        "outputId": "a8dd4297-0e53-43a2-955a-a24e036f5036"
      },
      "source": [
        "np.arange(0,10,2) "
      ],
      "execution_count": null,
      "outputs": [
        {
          "output_type": "execute_result",
          "data": {
            "text/plain": [
              "array([0, 2, 4, 6, 8])"
            ]
          },
          "metadata": {
            "tags": []
          },
          "execution_count": 6
        }
      ]
    },
    {
      "cell_type": "code",
      "metadata": {
        "id": "rT_iHS4FEeFs",
        "outputId": "7679108b-49f6-45c7-c5a0-1dcd35f6f6b3"
      },
      "source": [
        "np.zeros(5)"
      ],
      "execution_count": null,
      "outputs": [
        {
          "output_type": "execute_result",
          "data": {
            "text/plain": [
              "array([0., 0., 0., 0., 0.])"
            ]
          },
          "metadata": {
            "tags": []
          },
          "execution_count": 7
        }
      ]
    },
    {
      "cell_type": "code",
      "metadata": {
        "id": "nCNGPtrBEeFu",
        "outputId": "d0e2bd93-8c43-400b-f951-15a007b96e9e"
      },
      "source": [
        "np.zeros((4,10))"
      ],
      "execution_count": null,
      "outputs": [
        {
          "output_type": "execute_result",
          "data": {
            "text/plain": [
              "array([[0., 0., 0., 0., 0., 0., 0., 0., 0., 0.],\n",
              "       [0., 0., 0., 0., 0., 0., 0., 0., 0., 0.],\n",
              "       [0., 0., 0., 0., 0., 0., 0., 0., 0., 0.],\n",
              "       [0., 0., 0., 0., 0., 0., 0., 0., 0., 0.]])"
            ]
          },
          "metadata": {
            "tags": []
          },
          "execution_count": 8
        }
      ]
    },
    {
      "cell_type": "code",
      "metadata": {
        "id": "auuAmHd8EeFu",
        "outputId": "5bc42843-38bc-47dc-f22c-1ccd89f99f8f"
      },
      "source": [
        "np.ones(5)"
      ],
      "execution_count": null,
      "outputs": [
        {
          "output_type": "execute_result",
          "data": {
            "text/plain": [
              "array([1., 1., 1., 1., 1.])"
            ]
          },
          "metadata": {
            "tags": []
          },
          "execution_count": 9
        }
      ]
    },
    {
      "cell_type": "code",
      "metadata": {
        "id": "xS-_kGZIEeFv",
        "outputId": "1ca3e1cf-fa01-459e-befb-0384b946167d"
      },
      "source": [
        "np.ones((5,5))"
      ],
      "execution_count": null,
      "outputs": [
        {
          "output_type": "execute_result",
          "data": {
            "text/plain": [
              "array([[1., 1., 1., 1., 1.],\n",
              "       [1., 1., 1., 1., 1.],\n",
              "       [1., 1., 1., 1., 1.],\n",
              "       [1., 1., 1., 1., 1.],\n",
              "       [1., 1., 1., 1., 1.]])"
            ]
          },
          "metadata": {
            "tags": []
          },
          "execution_count": 10
        }
      ]
    },
    {
      "cell_type": "code",
      "metadata": {
        "id": "vx2mgGITEeFx",
        "outputId": "0abfbfa3-ebb1-487f-f4f3-d92f4951e617"
      },
      "source": [
        "np.ones(4) * 2"
      ],
      "execution_count": null,
      "outputs": [
        {
          "output_type": "execute_result",
          "data": {
            "text/plain": [
              "array([2., 2., 2., 2.])"
            ]
          },
          "metadata": {
            "tags": []
          },
          "execution_count": 11
        }
      ]
    },
    {
      "cell_type": "code",
      "metadata": {
        "id": "xXPVxkm3EeFy",
        "outputId": "83785048-6d09-4295-f99f-cc4ca75dce95"
      },
      "source": [
        "np.ones(4) + 2"
      ],
      "execution_count": null,
      "outputs": [
        {
          "output_type": "execute_result",
          "data": {
            "text/plain": [
              "array([3., 3., 3., 3.])"
            ]
          },
          "metadata": {
            "tags": []
          },
          "execution_count": 12
        }
      ]
    },
    {
      "cell_type": "code",
      "metadata": {
        "id": "Dc8pnOCEEeFy",
        "outputId": "96fd4efb-048f-41bc-e7d3-621a068c05b0"
      },
      "source": [
        "np.linspace(0,10,20)"
      ],
      "execution_count": null,
      "outputs": [
        {
          "output_type": "execute_result",
          "data": {
            "text/plain": [
              "array([ 0.        ,  0.52631579,  1.05263158,  1.57894737,  2.10526316,\n",
              "        2.63157895,  3.15789474,  3.68421053,  4.21052632,  4.73684211,\n",
              "        5.26315789,  5.78947368,  6.31578947,  6.84210526,  7.36842105,\n",
              "        7.89473684,  8.42105263,  8.94736842,  9.47368421, 10.        ])"
            ]
          },
          "metadata": {
            "tags": []
          },
          "execution_count": 13
        }
      ]
    },
    {
      "cell_type": "code",
      "metadata": {
        "id": "NNJZQwv2EeFy",
        "outputId": "f46505a5-803c-4caf-c5fe-a85321ab3ffd"
      },
      "source": [
        "#identity matrix\n",
        "np.eye(5)"
      ],
      "execution_count": null,
      "outputs": [
        {
          "output_type": "execute_result",
          "data": {
            "text/plain": [
              "array([[1., 0., 0., 0., 0.],\n",
              "       [0., 1., 0., 0., 0.],\n",
              "       [0., 0., 1., 0., 0.],\n",
              "       [0., 0., 0., 1., 0.],\n",
              "       [0., 0., 0., 0., 1.]])"
            ]
          },
          "metadata": {
            "tags": []
          },
          "execution_count": 14
        }
      ]
    },
    {
      "cell_type": "code",
      "metadata": {
        "id": "rjsxxh3kEeFz",
        "outputId": "6cf75ae3-3c72-4ac6-e45b-79ec0f373304"
      },
      "source": [
        "np.random.rand(5,5)"
      ],
      "execution_count": null,
      "outputs": [
        {
          "output_type": "execute_result",
          "data": {
            "text/plain": [
              "array([[0.76481224, 0.65220116, 0.17806834, 0.79473847, 0.91234388],\n",
              "       [0.51201949, 0.76495387, 0.28981415, 0.70079823, 0.74911536],\n",
              "       [0.50909465, 0.08590144, 0.34572535, 0.27477933, 0.61972085],\n",
              "       [0.33530332, 0.24629676, 0.47387012, 0.29368643, 0.29878829],\n",
              "       [0.48559738, 0.90847603, 0.67750262, 0.82139307, 0.82836597]])"
            ]
          },
          "metadata": {
            "tags": []
          },
          "execution_count": 15
        }
      ]
    },
    {
      "cell_type": "code",
      "metadata": {
        "id": "c7Ve7T3PEeF0",
        "outputId": "24553db6-fad6-444d-ae44-62a3d69d0b7f"
      },
      "source": [
        "np.random.randn(4)"
      ],
      "execution_count": null,
      "outputs": [
        {
          "output_type": "execute_result",
          "data": {
            "text/plain": [
              "array([-0.23209917,  0.93484989, -1.2226547 ,  1.5147585 ])"
            ]
          },
          "metadata": {
            "tags": []
          },
          "execution_count": 16
        }
      ]
    },
    {
      "cell_type": "code",
      "metadata": {
        "id": "Q699XZvIEeF0"
      },
      "source": [
        "#np.random.normal"
      ],
      "execution_count": null,
      "outputs": []
    },
    {
      "cell_type": "code",
      "metadata": {
        "id": "SY4E8dnjEeF0",
        "outputId": "dff44d2b-5780-4bca-e1ef-1a29965ffc65"
      },
      "source": [
        "np.random.randint(1,10,4)"
      ],
      "execution_count": null,
      "outputs": [
        {
          "output_type": "execute_result",
          "data": {
            "text/plain": [
              "array([7, 2, 4, 4])"
            ]
          },
          "metadata": {
            "tags": []
          },
          "execution_count": 18
        }
      ]
    },
    {
      "cell_type": "code",
      "metadata": {
        "id": "CKRymmosEeF0",
        "outputId": "e05185ff-7b8e-4756-90ac-9d86b2d18bf6"
      },
      "source": [
        "np.random.seed(101)\n",
        "np.random.rand(4)"
      ],
      "execution_count": null,
      "outputs": [
        {
          "output_type": "execute_result",
          "data": {
            "text/plain": [
              "array([0.51639863, 0.57066759, 0.02847423, 0.17152166])"
            ]
          },
          "metadata": {
            "tags": []
          },
          "execution_count": 19
        }
      ]
    },
    {
      "cell_type": "code",
      "metadata": {
        "id": "ZYdITSuDEeF1"
      },
      "source": [
        "arr = np.arange(25)"
      ],
      "execution_count": null,
      "outputs": []
    },
    {
      "cell_type": "code",
      "metadata": {
        "id": "XvcJBf47EeF2"
      },
      "source": [
        "ranarr = np.random.randint(0,50,10)"
      ],
      "execution_count": null,
      "outputs": []
    },
    {
      "cell_type": "code",
      "metadata": {
        "id": "CPkDaWOnEeF2",
        "outputId": "00668070-e1f2-4672-e1d5-e9f4aedbbdfe"
      },
      "source": [
        "ranarr"
      ],
      "execution_count": null,
      "outputs": [
        {
          "output_type": "execute_result",
          "data": {
            "text/plain": [
              "array([47,  9, 13, 40,  4, 40, 28,  0, 46,  5])"
            ]
          },
          "metadata": {
            "tags": []
          },
          "execution_count": 22
        }
      ]
    },
    {
      "cell_type": "code",
      "metadata": {
        "id": "Y-EuC37fEeF2",
        "outputId": "3465ac3e-6d32-4381-e370-47b37a3156ca"
      },
      "source": [
        "arr.reshape(5,5)"
      ],
      "execution_count": null,
      "outputs": [
        {
          "output_type": "execute_result",
          "data": {
            "text/plain": [
              "array([[ 0,  1,  2,  3,  4],\n",
              "       [ 5,  6,  7,  8,  9],\n",
              "       [10, 11, 12, 13, 14],\n",
              "       [15, 16, 17, 18, 19],\n",
              "       [20, 21, 22, 23, 24]])"
            ]
          },
          "metadata": {
            "tags": []
          },
          "execution_count": 23
        }
      ]
    },
    {
      "cell_type": "code",
      "metadata": {
        "id": "Lec9F6MPEeF2",
        "outputId": "e07a0546-bd9d-49f6-e18f-5cc81414ea02"
      },
      "source": [
        "ranarr.max()"
      ],
      "execution_count": null,
      "outputs": [
        {
          "output_type": "execute_result",
          "data": {
            "text/plain": [
              "47"
            ]
          },
          "metadata": {
            "tags": []
          },
          "execution_count": 24
        }
      ]
    },
    {
      "cell_type": "code",
      "metadata": {
        "id": "XsisjGkcEeF3",
        "outputId": "809396ec-6cfe-4431-94a2-2bf404354377"
      },
      "source": [
        "ranarr.min()"
      ],
      "execution_count": null,
      "outputs": [
        {
          "output_type": "execute_result",
          "data": {
            "text/plain": [
              "0"
            ]
          },
          "metadata": {
            "tags": []
          },
          "execution_count": 25
        }
      ]
    },
    {
      "cell_type": "code",
      "metadata": {
        "id": "w7rBfBYlEeF3",
        "outputId": "dfd8b9c9-441d-47bd-bf2a-fe7724aabd05"
      },
      "source": [
        "#index of max\n",
        "ranarr.argmax()"
      ],
      "execution_count": null,
      "outputs": [
        {
          "output_type": "execute_result",
          "data": {
            "text/plain": [
              "0"
            ]
          },
          "metadata": {
            "tags": []
          },
          "execution_count": 26
        }
      ]
    },
    {
      "cell_type": "code",
      "metadata": {
        "id": "NGbTMNmAEeF3",
        "outputId": "4ab18a9b-148b-4f52-951d-6c8f489d5fad"
      },
      "source": [
        "#index of min\n",
        "ranarr.argmin()"
      ],
      "execution_count": null,
      "outputs": [
        {
          "output_type": "execute_result",
          "data": {
            "text/plain": [
              "7"
            ]
          },
          "metadata": {
            "tags": []
          },
          "execution_count": 27
        }
      ]
    },
    {
      "cell_type": "code",
      "metadata": {
        "id": "aQmRo8mEEeF4",
        "outputId": "ba9ec93e-f456-40f7-d667-7065477f9b0e"
      },
      "source": [
        "ranarr.dtype"
      ],
      "execution_count": null,
      "outputs": [
        {
          "output_type": "execute_result",
          "data": {
            "text/plain": [
              "dtype('int32')"
            ]
          },
          "metadata": {
            "tags": []
          },
          "execution_count": 28
        }
      ]
    },
    {
      "cell_type": "code",
      "metadata": {
        "id": "DlKzBFXGEeF4",
        "outputId": "fd4d7d58-bb4c-4698-e72c-39afa8b83e1c"
      },
      "source": [
        "arr"
      ],
      "execution_count": null,
      "outputs": [
        {
          "output_type": "execute_result",
          "data": {
            "text/plain": [
              "array([ 0,  1,  2,  3,  4,  5,  6,  7,  8,  9, 10, 11, 12, 13, 14, 15, 16,\n",
              "       17, 18, 19, 20, 21, 22, 23, 24])"
            ]
          },
          "metadata": {
            "tags": []
          },
          "execution_count": 29
        }
      ]
    },
    {
      "cell_type": "code",
      "metadata": {
        "id": "ia6i7uj2EeF5",
        "outputId": "570dc5f3-67e0-4c5d-f07e-96624f043bac"
      },
      "source": [
        "arr[8]"
      ],
      "execution_count": null,
      "outputs": [
        {
          "output_type": "execute_result",
          "data": {
            "text/plain": [
              "8"
            ]
          },
          "metadata": {
            "tags": []
          },
          "execution_count": 30
        }
      ]
    },
    {
      "cell_type": "code",
      "metadata": {
        "id": "AkcXm0IrEeF5",
        "outputId": "7ee642fb-e1bd-4a1a-9632-026917e48ccf"
      },
      "source": [
        "arr[1:5]"
      ],
      "execution_count": null,
      "outputs": [
        {
          "output_type": "execute_result",
          "data": {
            "text/plain": [
              "array([1, 2, 3, 4])"
            ]
          },
          "metadata": {
            "tags": []
          },
          "execution_count": 31
        }
      ]
    },
    {
      "cell_type": "code",
      "metadata": {
        "id": "hTq4zgmcEeF5"
      },
      "source": [
        "arr_copy = arr.copy()"
      ],
      "execution_count": null,
      "outputs": []
    },
    {
      "cell_type": "code",
      "metadata": {
        "id": "_CUsUPzZEeF5"
      },
      "source": [
        "arr_copy[:] = 99"
      ],
      "execution_count": null,
      "outputs": []
    },
    {
      "cell_type": "code",
      "metadata": {
        "id": "Omq3fqBuEeF5",
        "outputId": "0a1d6b33-558e-4d67-fe80-d58f1a8f65bd"
      },
      "source": [
        "arr_copy"
      ],
      "execution_count": null,
      "outputs": [
        {
          "output_type": "execute_result",
          "data": {
            "text/plain": [
              "array([99, 99, 99, 99, 99, 99, 99, 99, 99, 99, 99, 99, 99, 99, 99, 99, 99,\n",
              "       99, 99, 99, 99, 99, 99, 99, 99])"
            ]
          },
          "metadata": {
            "tags": []
          },
          "execution_count": 34
        }
      ]
    },
    {
      "cell_type": "code",
      "metadata": {
        "id": "frIwCS0-EeF5"
      },
      "source": [
        "arr_2d = np.array([[5,10,15],[20,25,30],[35,40,45]])"
      ],
      "execution_count": null,
      "outputs": []
    },
    {
      "cell_type": "code",
      "metadata": {
        "id": "h6Wt11FaEeF6",
        "outputId": "a99a5bdd-166f-48ee-a252-847d3cf1a517"
      },
      "source": [
        "arr_2d"
      ],
      "execution_count": null,
      "outputs": [
        {
          "output_type": "execute_result",
          "data": {
            "text/plain": [
              "array([[ 5, 10, 15],\n",
              "       [20, 25, 30],\n",
              "       [35, 40, 45]])"
            ]
          },
          "metadata": {
            "tags": []
          },
          "execution_count": 36
        }
      ]
    },
    {
      "cell_type": "code",
      "metadata": {
        "id": "XXGCPYlmEeF6",
        "outputId": "f9d422da-1906-4466-8a16-17090311060e"
      },
      "source": [
        "arr_2d[2,2]"
      ],
      "execution_count": null,
      "outputs": [
        {
          "output_type": "execute_result",
          "data": {
            "text/plain": [
              "45"
            ]
          },
          "metadata": {
            "tags": []
          },
          "execution_count": 37
        }
      ]
    },
    {
      "cell_type": "code",
      "metadata": {
        "id": "d1CSOoUQEeF7",
        "outputId": "250819de-ab24-4663-967b-71e319d5bef6"
      },
      "source": [
        "arr_2d[0,1:]"
      ],
      "execution_count": null,
      "outputs": [
        {
          "output_type": "execute_result",
          "data": {
            "text/plain": [
              "array([10, 15])"
            ]
          },
          "metadata": {
            "tags": []
          },
          "execution_count": 38
        }
      ]
    },
    {
      "cell_type": "code",
      "metadata": {
        "id": "K6YOWSEtEeF8"
      },
      "source": [
        "arr = np.arange(1,11)"
      ],
      "execution_count": null,
      "outputs": []
    },
    {
      "cell_type": "code",
      "metadata": {
        "id": "LzfKlx3hEeF8",
        "outputId": "f579f382-2c5d-44d4-c1d3-0cd1ea4dfdca"
      },
      "source": [
        "arr"
      ],
      "execution_count": null,
      "outputs": [
        {
          "output_type": "execute_result",
          "data": {
            "text/plain": [
              "array([ 1,  2,  3,  4,  5,  6,  7,  8,  9, 10])"
            ]
          },
          "metadata": {
            "tags": []
          },
          "execution_count": 40
        }
      ]
    },
    {
      "cell_type": "code",
      "metadata": {
        "id": "hpWYIF_gEeF8"
      },
      "source": [
        "bool_arr = arr > 4"
      ],
      "execution_count": null,
      "outputs": []
    },
    {
      "cell_type": "code",
      "metadata": {
        "id": "Zc9Ed0i1EeF8",
        "outputId": "dbdb4f72-89f0-4724-8057-fa41b2aaa278"
      },
      "source": [
        "bool_arr"
      ],
      "execution_count": null,
      "outputs": [
        {
          "output_type": "execute_result",
          "data": {
            "text/plain": [
              "array([False, False, False, False,  True,  True,  True,  True,  True,\n",
              "        True])"
            ]
          },
          "metadata": {
            "tags": []
          },
          "execution_count": 42
        }
      ]
    },
    {
      "cell_type": "code",
      "metadata": {
        "id": "4X7AlUOlEeF8",
        "outputId": "cc64b5fb-a24f-4889-fc12-87ef6c82beae"
      },
      "source": [
        "arr[bool_arr]"
      ],
      "execution_count": null,
      "outputs": [
        {
          "output_type": "execute_result",
          "data": {
            "text/plain": [
              "array([ 5,  6,  7,  8,  9, 10])"
            ]
          },
          "metadata": {
            "tags": []
          },
          "execution_count": 43
        }
      ]
    },
    {
      "cell_type": "code",
      "metadata": {
        "id": "5EC894iLEeF8",
        "outputId": "71a3e8e0-25a6-4659-e9fb-b3875adbbd55"
      },
      "source": [
        "arr[arr > 4]"
      ],
      "execution_count": null,
      "outputs": [
        {
          "output_type": "execute_result",
          "data": {
            "text/plain": [
              "array([ 5,  6,  7,  8,  9, 10])"
            ]
          },
          "metadata": {
            "tags": []
          },
          "execution_count": 44
        }
      ]
    },
    {
      "cell_type": "code",
      "metadata": {
        "id": "6n1tAymAEeF9",
        "outputId": "61f3ee41-1a57-416e-9aec-a1737c47d2d0"
      },
      "source": [
        "arr"
      ],
      "execution_count": null,
      "outputs": [
        {
          "output_type": "execute_result",
          "data": {
            "text/plain": [
              "array([ 1,  2,  3,  4,  5,  6,  7,  8,  9, 10])"
            ]
          },
          "metadata": {
            "tags": []
          },
          "execution_count": 45
        }
      ]
    },
    {
      "cell_type": "code",
      "metadata": {
        "id": "zxCEL9M7EeF9",
        "outputId": "e18e1156-940f-4d66-a5ec-a41a3a041c54"
      },
      "source": [
        "arr + arr"
      ],
      "execution_count": null,
      "outputs": [
        {
          "output_type": "execute_result",
          "data": {
            "text/plain": [
              "array([ 2,  4,  6,  8, 10, 12, 14, 16, 18, 20])"
            ]
          },
          "metadata": {
            "tags": []
          },
          "execution_count": 46
        }
      ]
    },
    {
      "cell_type": "code",
      "metadata": {
        "id": "Y-UP6CsNEeF-",
        "outputId": "cb06ffd5-1bb0-4536-e049-c33b49829730"
      },
      "source": [
        "np.sqrt(arr)"
      ],
      "execution_count": null,
      "outputs": [
        {
          "output_type": "execute_result",
          "data": {
            "text/plain": [
              "array([1.        , 1.41421356, 1.73205081, 2.        , 2.23606798,\n",
              "       2.44948974, 2.64575131, 2.82842712, 3.        , 3.16227766])"
            ]
          },
          "metadata": {
            "tags": []
          },
          "execution_count": 47
        }
      ]
    },
    {
      "cell_type": "code",
      "metadata": {
        "id": "pauf4WxbEeF-",
        "outputId": "2270f7a1-e4d5-44bf-9177-d06c94d9c90b"
      },
      "source": [
        "np.log(arr)"
      ],
      "execution_count": null,
      "outputs": [
        {
          "output_type": "execute_result",
          "data": {
            "text/plain": [
              "array([0.        , 0.69314718, 1.09861229, 1.38629436, 1.60943791,\n",
              "       1.79175947, 1.94591015, 2.07944154, 2.19722458, 2.30258509])"
            ]
          },
          "metadata": {
            "tags": []
          },
          "execution_count": 48
        }
      ]
    },
    {
      "cell_type": "code",
      "metadata": {
        "id": "gJO99pAREeF_",
        "outputId": "e44d613e-9de6-4d8c-e949-5a51404a828f"
      },
      "source": [
        "np.sum(arr)"
      ],
      "execution_count": null,
      "outputs": [
        {
          "output_type": "execute_result",
          "data": {
            "text/plain": [
              "55"
            ]
          },
          "metadata": {
            "tags": []
          },
          "execution_count": 49
        }
      ]
    },
    {
      "cell_type": "code",
      "metadata": {
        "id": "P5F2u-tEEeF_",
        "outputId": "e2f5b660-96ff-4b2f-ed65-5bb176083163"
      },
      "source": [
        "arr.sum()"
      ],
      "execution_count": null,
      "outputs": [
        {
          "output_type": "execute_result",
          "data": {
            "text/plain": [
              "55"
            ]
          },
          "metadata": {
            "tags": []
          },
          "execution_count": 50
        }
      ]
    },
    {
      "cell_type": "code",
      "metadata": {
        "id": "ij2dDAEJEeGA",
        "outputId": "c548d459-4689-4a42-bcf3-6deb3af28165"
      },
      "source": [
        "arr.mean()"
      ],
      "execution_count": null,
      "outputs": [
        {
          "output_type": "execute_result",
          "data": {
            "text/plain": [
              "5.5"
            ]
          },
          "metadata": {
            "tags": []
          },
          "execution_count": 51
        }
      ]
    },
    {
      "cell_type": "code",
      "metadata": {
        "id": "GjlXfZFsEeGA",
        "outputId": "ca903aa0-b22b-47c3-a2fa-cd8eb750116e"
      },
      "source": [
        "arr_2d"
      ],
      "execution_count": null,
      "outputs": [
        {
          "output_type": "execute_result",
          "data": {
            "text/plain": [
              "array([[ 5, 10, 15],\n",
              "       [20, 25, 30],\n",
              "       [35, 40, 45]])"
            ]
          },
          "metadata": {
            "tags": []
          },
          "execution_count": 52
        }
      ]
    },
    {
      "cell_type": "code",
      "metadata": {
        "id": "-bSEGdSpEeGA",
        "outputId": "a16a5023-b05b-4cee-c96d-ae90b23e6ddf"
      },
      "source": [
        "arr_2d.sum()"
      ],
      "execution_count": null,
      "outputs": [
        {
          "output_type": "execute_result",
          "data": {
            "text/plain": [
              "225"
            ]
          },
          "metadata": {
            "tags": []
          },
          "execution_count": 53
        }
      ]
    },
    {
      "cell_type": "code",
      "metadata": {
        "id": "PFNvdDhWEeGB",
        "outputId": "7a94e184-f34d-4cdf-ea43-126d57571823"
      },
      "source": [
        "#sum across the rows, vertically\n",
        "arr_2d.sum(axis=0)"
      ],
      "execution_count": null,
      "outputs": [
        {
          "output_type": "execute_result",
          "data": {
            "text/plain": [
              "array([60, 75, 90])"
            ]
          },
          "metadata": {
            "tags": []
          },
          "execution_count": 54
        }
      ]
    },
    {
      "cell_type": "code",
      "metadata": {
        "id": "LW6EnFMCEeGB",
        "outputId": "b0c64fe6-e64b-4330-dd5a-ac65c2294f86"
      },
      "source": [
        "#sum across columns, horizontally\n",
        "arr_2d.sum(axis=1)"
      ],
      "execution_count": null,
      "outputs": [
        {
          "output_type": "execute_result",
          "data": {
            "text/plain": [
              "array([ 30,  75, 120])"
            ]
          },
          "metadata": {
            "tags": []
          },
          "execution_count": 55
        }
      ]
    },
    {
      "cell_type": "markdown",
      "metadata": {
        "id": "kozN98OcEeGC"
      },
      "source": [
        "## Pandas"
      ]
    },
    {
      "cell_type": "code",
      "metadata": {
        "id": "B_-8vwHDEeGC"
      },
      "source": [
        "import pandas as pd"
      ],
      "execution_count": null,
      "outputs": []
    },
    {
      "cell_type": "code",
      "metadata": {
        "id": "KoUD52gIEeGD"
      },
      "source": [
        "labels = ['a','b','c']"
      ],
      "execution_count": null,
      "outputs": []
    },
    {
      "cell_type": "code",
      "metadata": {
        "id": "pQblxQr7EeGD"
      },
      "source": [
        "mylist = [10,20,30]"
      ],
      "execution_count": null,
      "outputs": []
    },
    {
      "cell_type": "code",
      "metadata": {
        "id": "opk7fQhIEeGD"
      },
      "source": [
        "arr = np.array(mylist)"
      ],
      "execution_count": null,
      "outputs": []
    },
    {
      "cell_type": "code",
      "metadata": {
        "id": "GPg0ThF_EeGE",
        "outputId": "5ef438c5-2495-4b12-b5d6-666423a3b6dc"
      },
      "source": [
        "arr"
      ],
      "execution_count": null,
      "outputs": [
        {
          "output_type": "execute_result",
          "data": {
            "text/plain": [
              "array([10, 20, 30])"
            ]
          },
          "metadata": {
            "tags": []
          },
          "execution_count": 60
        }
      ]
    },
    {
      "cell_type": "code",
      "metadata": {
        "id": "Aw_3IXfvEeGE"
      },
      "source": [
        "d = {'a':10, 'b':20, 'c':30}"
      ],
      "execution_count": null,
      "outputs": []
    },
    {
      "cell_type": "code",
      "metadata": {
        "id": "cUFh1etyEeGF",
        "outputId": "d7d2f1b2-dd41-4874-fbf1-61afe798a4ae"
      },
      "source": [
        "pd.Series(data=mylist)"
      ],
      "execution_count": null,
      "outputs": [
        {
          "output_type": "execute_result",
          "data": {
            "text/plain": [
              "0    10\n",
              "1    20\n",
              "2    30\n",
              "dtype: int64"
            ]
          },
          "metadata": {
            "tags": []
          },
          "execution_count": 62
        }
      ]
    },
    {
      "cell_type": "code",
      "metadata": {
        "id": "jdkVNNi3EeGF",
        "outputId": "4f64ee32-a604-4fd1-d1ea-14b3a076d750"
      },
      "source": [
        "pd.Series(data=arr, index=labels)"
      ],
      "execution_count": null,
      "outputs": [
        {
          "output_type": "execute_result",
          "data": {
            "text/plain": [
              "a    10\n",
              "b    20\n",
              "c    30\n",
              "dtype: int32"
            ]
          },
          "metadata": {
            "tags": []
          },
          "execution_count": 63
        }
      ]
    },
    {
      "cell_type": "code",
      "metadata": {
        "id": "jPG0KBT5EeGF",
        "outputId": "da3d6060-88c9-4104-b831-0ca5d62a3cfe"
      },
      "source": [
        "rand_mat = np.random.rand(5,4)\n",
        "rand_mat"
      ],
      "execution_count": null,
      "outputs": [
        {
          "output_type": "execute_result",
          "data": {
            "text/plain": [
              "array([[0.0756819 , 0.82565261, 0.02549692, 0.5902313 ],\n",
              "       [0.5342532 , 0.58125755, 0.77471672, 0.97791191],\n",
              "       [0.61159951, 0.94628427, 0.43289654, 0.79182632],\n",
              "       [0.45650246, 0.82667814, 0.14623959, 0.60263149],\n",
              "       [0.591275  , 0.44168587, 0.49201605, 0.73150955]])"
            ]
          },
          "metadata": {
            "tags": []
          },
          "execution_count": 64
        }
      ]
    },
    {
      "cell_type": "code",
      "metadata": {
        "id": "9MvyK__0EeGF"
      },
      "source": [
        "df = pd.DataFrame(data=rand_mat,index='A B C D E'.split(), columns='W X Y Z'.split())"
      ],
      "execution_count": null,
      "outputs": []
    },
    {
      "cell_type": "code",
      "metadata": {
        "id": "njVSfGjFEeGF",
        "outputId": "d43e6354-6963-4339-a4af-36a582d5f449"
      },
      "source": [
        "df"
      ],
      "execution_count": null,
      "outputs": [
        {
          "output_type": "execute_result",
          "data": {
            "text/html": [
              "<div>\n",
              "<style scoped>\n",
              "    .dataframe tbody tr th:only-of-type {\n",
              "        vertical-align: middle;\n",
              "    }\n",
              "\n",
              "    .dataframe tbody tr th {\n",
              "        vertical-align: top;\n",
              "    }\n",
              "\n",
              "    .dataframe thead th {\n",
              "        text-align: right;\n",
              "    }\n",
              "</style>\n",
              "<table border=\"1\" class=\"dataframe\">\n",
              "  <thead>\n",
              "    <tr style=\"text-align: right;\">\n",
              "      <th></th>\n",
              "      <th>W</th>\n",
              "      <th>X</th>\n",
              "      <th>Y</th>\n",
              "      <th>Z</th>\n",
              "    </tr>\n",
              "  </thead>\n",
              "  <tbody>\n",
              "    <tr>\n",
              "      <th>A</th>\n",
              "      <td>0.075682</td>\n",
              "      <td>0.825653</td>\n",
              "      <td>0.025497</td>\n",
              "      <td>0.590231</td>\n",
              "    </tr>\n",
              "    <tr>\n",
              "      <th>B</th>\n",
              "      <td>0.534253</td>\n",
              "      <td>0.581258</td>\n",
              "      <td>0.774717</td>\n",
              "      <td>0.977912</td>\n",
              "    </tr>\n",
              "    <tr>\n",
              "      <th>C</th>\n",
              "      <td>0.611600</td>\n",
              "      <td>0.946284</td>\n",
              "      <td>0.432897</td>\n",
              "      <td>0.791826</td>\n",
              "    </tr>\n",
              "    <tr>\n",
              "      <th>D</th>\n",
              "      <td>0.456502</td>\n",
              "      <td>0.826678</td>\n",
              "      <td>0.146240</td>\n",
              "      <td>0.602631</td>\n",
              "    </tr>\n",
              "    <tr>\n",
              "      <th>E</th>\n",
              "      <td>0.591275</td>\n",
              "      <td>0.441686</td>\n",
              "      <td>0.492016</td>\n",
              "      <td>0.731510</td>\n",
              "    </tr>\n",
              "  </tbody>\n",
              "</table>\n",
              "</div>"
            ],
            "text/plain": [
              "          W         X         Y         Z\n",
              "A  0.075682  0.825653  0.025497  0.590231\n",
              "B  0.534253  0.581258  0.774717  0.977912\n",
              "C  0.611600  0.946284  0.432897  0.791826\n",
              "D  0.456502  0.826678  0.146240  0.602631\n",
              "E  0.591275  0.441686  0.492016  0.731510"
            ]
          },
          "metadata": {
            "tags": []
          },
          "execution_count": 66
        }
      ]
    },
    {
      "cell_type": "code",
      "metadata": {
        "id": "Vd2tcwVkEeGF",
        "outputId": "a065f932-c7ef-4dcf-c0f6-7d72c5bf29dd"
      },
      "source": [
        "df[['W','Y']]"
      ],
      "execution_count": null,
      "outputs": [
        {
          "output_type": "execute_result",
          "data": {
            "text/html": [
              "<div>\n",
              "<style scoped>\n",
              "    .dataframe tbody tr th:only-of-type {\n",
              "        vertical-align: middle;\n",
              "    }\n",
              "\n",
              "    .dataframe tbody tr th {\n",
              "        vertical-align: top;\n",
              "    }\n",
              "\n",
              "    .dataframe thead th {\n",
              "        text-align: right;\n",
              "    }\n",
              "</style>\n",
              "<table border=\"1\" class=\"dataframe\">\n",
              "  <thead>\n",
              "    <tr style=\"text-align: right;\">\n",
              "      <th></th>\n",
              "      <th>W</th>\n",
              "      <th>Y</th>\n",
              "    </tr>\n",
              "  </thead>\n",
              "  <tbody>\n",
              "    <tr>\n",
              "      <th>A</th>\n",
              "      <td>0.075682</td>\n",
              "      <td>0.025497</td>\n",
              "    </tr>\n",
              "    <tr>\n",
              "      <th>B</th>\n",
              "      <td>0.534253</td>\n",
              "      <td>0.774717</td>\n",
              "    </tr>\n",
              "    <tr>\n",
              "      <th>C</th>\n",
              "      <td>0.611600</td>\n",
              "      <td>0.432897</td>\n",
              "    </tr>\n",
              "    <tr>\n",
              "      <th>D</th>\n",
              "      <td>0.456502</td>\n",
              "      <td>0.146240</td>\n",
              "    </tr>\n",
              "    <tr>\n",
              "      <th>E</th>\n",
              "      <td>0.591275</td>\n",
              "      <td>0.492016</td>\n",
              "    </tr>\n",
              "  </tbody>\n",
              "</table>\n",
              "</div>"
            ],
            "text/plain": [
              "          W         Y\n",
              "A  0.075682  0.025497\n",
              "B  0.534253  0.774717\n",
              "C  0.611600  0.432897\n",
              "D  0.456502  0.146240\n",
              "E  0.591275  0.492016"
            ]
          },
          "metadata": {
            "tags": []
          },
          "execution_count": 67
        }
      ]
    },
    {
      "cell_type": "code",
      "metadata": {
        "id": "aCZHWLWsEeGG"
      },
      "source": [
        "#create new column\n",
        "df['NEW'] = df['X'] + df['Y']"
      ],
      "execution_count": null,
      "outputs": []
    },
    {
      "cell_type": "code",
      "metadata": {
        "id": "mtGiNN0MEeGH",
        "outputId": "c61ed74b-85bc-4e26-ed47-92c292fa5624"
      },
      "source": [
        "df"
      ],
      "execution_count": null,
      "outputs": [
        {
          "output_type": "execute_result",
          "data": {
            "text/html": [
              "<div>\n",
              "<style scoped>\n",
              "    .dataframe tbody tr th:only-of-type {\n",
              "        vertical-align: middle;\n",
              "    }\n",
              "\n",
              "    .dataframe tbody tr th {\n",
              "        vertical-align: top;\n",
              "    }\n",
              "\n",
              "    .dataframe thead th {\n",
              "        text-align: right;\n",
              "    }\n",
              "</style>\n",
              "<table border=\"1\" class=\"dataframe\">\n",
              "  <thead>\n",
              "    <tr style=\"text-align: right;\">\n",
              "      <th></th>\n",
              "      <th>W</th>\n",
              "      <th>X</th>\n",
              "      <th>Y</th>\n",
              "      <th>Z</th>\n",
              "      <th>NEW</th>\n",
              "    </tr>\n",
              "  </thead>\n",
              "  <tbody>\n",
              "    <tr>\n",
              "      <th>A</th>\n",
              "      <td>0.075682</td>\n",
              "      <td>0.825653</td>\n",
              "      <td>0.025497</td>\n",
              "      <td>0.590231</td>\n",
              "      <td>0.851150</td>\n",
              "    </tr>\n",
              "    <tr>\n",
              "      <th>B</th>\n",
              "      <td>0.534253</td>\n",
              "      <td>0.581258</td>\n",
              "      <td>0.774717</td>\n",
              "      <td>0.977912</td>\n",
              "      <td>1.355974</td>\n",
              "    </tr>\n",
              "    <tr>\n",
              "      <th>C</th>\n",
              "      <td>0.611600</td>\n",
              "      <td>0.946284</td>\n",
              "      <td>0.432897</td>\n",
              "      <td>0.791826</td>\n",
              "      <td>1.379181</td>\n",
              "    </tr>\n",
              "    <tr>\n",
              "      <th>D</th>\n",
              "      <td>0.456502</td>\n",
              "      <td>0.826678</td>\n",
              "      <td>0.146240</td>\n",
              "      <td>0.602631</td>\n",
              "      <td>0.972918</td>\n",
              "    </tr>\n",
              "    <tr>\n",
              "      <th>E</th>\n",
              "      <td>0.591275</td>\n",
              "      <td>0.441686</td>\n",
              "      <td>0.492016</td>\n",
              "      <td>0.731510</td>\n",
              "      <td>0.933702</td>\n",
              "    </tr>\n",
              "  </tbody>\n",
              "</table>\n",
              "</div>"
            ],
            "text/plain": [
              "          W         X         Y         Z       NEW\n",
              "A  0.075682  0.825653  0.025497  0.590231  0.851150\n",
              "B  0.534253  0.581258  0.774717  0.977912  1.355974\n",
              "C  0.611600  0.946284  0.432897  0.791826  1.379181\n",
              "D  0.456502  0.826678  0.146240  0.602631  0.972918\n",
              "E  0.591275  0.441686  0.492016  0.731510  0.933702"
            ]
          },
          "metadata": {
            "tags": []
          },
          "execution_count": 69
        }
      ]
    },
    {
      "cell_type": "code",
      "metadata": {
        "id": "lvJMGKbsEeGH"
      },
      "source": [
        "df.drop('NEW', axis=1, inplace=True)"
      ],
      "execution_count": null,
      "outputs": []
    },
    {
      "cell_type": "code",
      "metadata": {
        "id": "1ykdR_PAEeGH",
        "outputId": "ba650ecb-c0e0-4def-a6f0-8fbde51b5058"
      },
      "source": [
        "df"
      ],
      "execution_count": null,
      "outputs": [
        {
          "output_type": "execute_result",
          "data": {
            "text/html": [
              "<div>\n",
              "<style scoped>\n",
              "    .dataframe tbody tr th:only-of-type {\n",
              "        vertical-align: middle;\n",
              "    }\n",
              "\n",
              "    .dataframe tbody tr th {\n",
              "        vertical-align: top;\n",
              "    }\n",
              "\n",
              "    .dataframe thead th {\n",
              "        text-align: right;\n",
              "    }\n",
              "</style>\n",
              "<table border=\"1\" class=\"dataframe\">\n",
              "  <thead>\n",
              "    <tr style=\"text-align: right;\">\n",
              "      <th></th>\n",
              "      <th>W</th>\n",
              "      <th>X</th>\n",
              "      <th>Y</th>\n",
              "      <th>Z</th>\n",
              "    </tr>\n",
              "  </thead>\n",
              "  <tbody>\n",
              "    <tr>\n",
              "      <th>A</th>\n",
              "      <td>0.075682</td>\n",
              "      <td>0.825653</td>\n",
              "      <td>0.025497</td>\n",
              "      <td>0.590231</td>\n",
              "    </tr>\n",
              "    <tr>\n",
              "      <th>B</th>\n",
              "      <td>0.534253</td>\n",
              "      <td>0.581258</td>\n",
              "      <td>0.774717</td>\n",
              "      <td>0.977912</td>\n",
              "    </tr>\n",
              "    <tr>\n",
              "      <th>C</th>\n",
              "      <td>0.611600</td>\n",
              "      <td>0.946284</td>\n",
              "      <td>0.432897</td>\n",
              "      <td>0.791826</td>\n",
              "    </tr>\n",
              "    <tr>\n",
              "      <th>D</th>\n",
              "      <td>0.456502</td>\n",
              "      <td>0.826678</td>\n",
              "      <td>0.146240</td>\n",
              "      <td>0.602631</td>\n",
              "    </tr>\n",
              "    <tr>\n",
              "      <th>E</th>\n",
              "      <td>0.591275</td>\n",
              "      <td>0.441686</td>\n",
              "      <td>0.492016</td>\n",
              "      <td>0.731510</td>\n",
              "    </tr>\n",
              "  </tbody>\n",
              "</table>\n",
              "</div>"
            ],
            "text/plain": [
              "          W         X         Y         Z\n",
              "A  0.075682  0.825653  0.025497  0.590231\n",
              "B  0.534253  0.581258  0.774717  0.977912\n",
              "C  0.611600  0.946284  0.432897  0.791826\n",
              "D  0.456502  0.826678  0.146240  0.602631\n",
              "E  0.591275  0.441686  0.492016  0.731510"
            ]
          },
          "metadata": {
            "tags": []
          },
          "execution_count": 71
        }
      ]
    },
    {
      "cell_type": "code",
      "metadata": {
        "id": "49P_ZO3FEeGH",
        "outputId": "ac06fb75-02d3-4563-ec11-baa47c72f358"
      },
      "source": [
        "#select a row\n",
        "df.loc[['A','E']]"
      ],
      "execution_count": null,
      "outputs": [
        {
          "output_type": "execute_result",
          "data": {
            "text/html": [
              "<div>\n",
              "<style scoped>\n",
              "    .dataframe tbody tr th:only-of-type {\n",
              "        vertical-align: middle;\n",
              "    }\n",
              "\n",
              "    .dataframe tbody tr th {\n",
              "        vertical-align: top;\n",
              "    }\n",
              "\n",
              "    .dataframe thead th {\n",
              "        text-align: right;\n",
              "    }\n",
              "</style>\n",
              "<table border=\"1\" class=\"dataframe\">\n",
              "  <thead>\n",
              "    <tr style=\"text-align: right;\">\n",
              "      <th></th>\n",
              "      <th>W</th>\n",
              "      <th>X</th>\n",
              "      <th>Y</th>\n",
              "      <th>Z</th>\n",
              "    </tr>\n",
              "  </thead>\n",
              "  <tbody>\n",
              "    <tr>\n",
              "      <th>A</th>\n",
              "      <td>0.075682</td>\n",
              "      <td>0.825653</td>\n",
              "      <td>0.025497</td>\n",
              "      <td>0.590231</td>\n",
              "    </tr>\n",
              "    <tr>\n",
              "      <th>E</th>\n",
              "      <td>0.591275</td>\n",
              "      <td>0.441686</td>\n",
              "      <td>0.492016</td>\n",
              "      <td>0.731510</td>\n",
              "    </tr>\n",
              "  </tbody>\n",
              "</table>\n",
              "</div>"
            ],
            "text/plain": [
              "          W         X         Y         Z\n",
              "A  0.075682  0.825653  0.025497  0.590231\n",
              "E  0.591275  0.441686  0.492016  0.731510"
            ]
          },
          "metadata": {
            "tags": []
          },
          "execution_count": 72
        }
      ]
    },
    {
      "cell_type": "code",
      "metadata": {
        "id": "6wDbWYXeEeGI",
        "outputId": "153dcba2-9234-46bd-c388-5a0b09a7efef"
      },
      "source": [
        "df.iloc[[0,3]]"
      ],
      "execution_count": null,
      "outputs": [
        {
          "output_type": "execute_result",
          "data": {
            "text/html": [
              "<div>\n",
              "<style scoped>\n",
              "    .dataframe tbody tr th:only-of-type {\n",
              "        vertical-align: middle;\n",
              "    }\n",
              "\n",
              "    .dataframe tbody tr th {\n",
              "        vertical-align: top;\n",
              "    }\n",
              "\n",
              "    .dataframe thead th {\n",
              "        text-align: right;\n",
              "    }\n",
              "</style>\n",
              "<table border=\"1\" class=\"dataframe\">\n",
              "  <thead>\n",
              "    <tr style=\"text-align: right;\">\n",
              "      <th></th>\n",
              "      <th>W</th>\n",
              "      <th>X</th>\n",
              "      <th>Y</th>\n",
              "      <th>Z</th>\n",
              "    </tr>\n",
              "  </thead>\n",
              "  <tbody>\n",
              "    <tr>\n",
              "      <th>A</th>\n",
              "      <td>0.075682</td>\n",
              "      <td>0.825653</td>\n",
              "      <td>0.025497</td>\n",
              "      <td>0.590231</td>\n",
              "    </tr>\n",
              "    <tr>\n",
              "      <th>D</th>\n",
              "      <td>0.456502</td>\n",
              "      <td>0.826678</td>\n",
              "      <td>0.146240</td>\n",
              "      <td>0.602631</td>\n",
              "    </tr>\n",
              "  </tbody>\n",
              "</table>\n",
              "</div>"
            ],
            "text/plain": [
              "          W         X         Y         Z\n",
              "A  0.075682  0.825653  0.025497  0.590231\n",
              "D  0.456502  0.826678  0.146240  0.602631"
            ]
          },
          "metadata": {
            "tags": []
          },
          "execution_count": 73
        }
      ]
    },
    {
      "cell_type": "code",
      "metadata": {
        "id": "NXRrZXATEeGI",
        "outputId": "9fe61e04-2622-4198-b357-6db7f1fd7870"
      },
      "source": [
        "df.loc[['A','B'],['Y','Z']]"
      ],
      "execution_count": null,
      "outputs": [
        {
          "output_type": "execute_result",
          "data": {
            "text/html": [
              "<div>\n",
              "<style scoped>\n",
              "    .dataframe tbody tr th:only-of-type {\n",
              "        vertical-align: middle;\n",
              "    }\n",
              "\n",
              "    .dataframe tbody tr th {\n",
              "        vertical-align: top;\n",
              "    }\n",
              "\n",
              "    .dataframe thead th {\n",
              "        text-align: right;\n",
              "    }\n",
              "</style>\n",
              "<table border=\"1\" class=\"dataframe\">\n",
              "  <thead>\n",
              "    <tr style=\"text-align: right;\">\n",
              "      <th></th>\n",
              "      <th>Y</th>\n",
              "      <th>Z</th>\n",
              "    </tr>\n",
              "  </thead>\n",
              "  <tbody>\n",
              "    <tr>\n",
              "      <th>A</th>\n",
              "      <td>0.025497</td>\n",
              "      <td>0.590231</td>\n",
              "    </tr>\n",
              "    <tr>\n",
              "      <th>B</th>\n",
              "      <td>0.774717</td>\n",
              "      <td>0.977912</td>\n",
              "    </tr>\n",
              "  </tbody>\n",
              "</table>\n",
              "</div>"
            ],
            "text/plain": [
              "          Y         Z\n",
              "A  0.025497  0.590231\n",
              "B  0.774717  0.977912"
            ]
          },
          "metadata": {
            "tags": []
          },
          "execution_count": 74
        }
      ]
    },
    {
      "cell_type": "code",
      "metadata": {
        "id": "DwkU8w1uEeGI",
        "outputId": "cbb52d52-b909-4365-8a49-6bd59e3ef97f"
      },
      "source": [
        "df > 0.2"
      ],
      "execution_count": null,
      "outputs": [
        {
          "output_type": "execute_result",
          "data": {
            "text/html": [
              "<div>\n",
              "<style scoped>\n",
              "    .dataframe tbody tr th:only-of-type {\n",
              "        vertical-align: middle;\n",
              "    }\n",
              "\n",
              "    .dataframe tbody tr th {\n",
              "        vertical-align: top;\n",
              "    }\n",
              "\n",
              "    .dataframe thead th {\n",
              "        text-align: right;\n",
              "    }\n",
              "</style>\n",
              "<table border=\"1\" class=\"dataframe\">\n",
              "  <thead>\n",
              "    <tr style=\"text-align: right;\">\n",
              "      <th></th>\n",
              "      <th>W</th>\n",
              "      <th>X</th>\n",
              "      <th>Y</th>\n",
              "      <th>Z</th>\n",
              "    </tr>\n",
              "  </thead>\n",
              "  <tbody>\n",
              "    <tr>\n",
              "      <th>A</th>\n",
              "      <td>False</td>\n",
              "      <td>True</td>\n",
              "      <td>False</td>\n",
              "      <td>True</td>\n",
              "    </tr>\n",
              "    <tr>\n",
              "      <th>B</th>\n",
              "      <td>True</td>\n",
              "      <td>True</td>\n",
              "      <td>True</td>\n",
              "      <td>True</td>\n",
              "    </tr>\n",
              "    <tr>\n",
              "      <th>C</th>\n",
              "      <td>True</td>\n",
              "      <td>True</td>\n",
              "      <td>True</td>\n",
              "      <td>True</td>\n",
              "    </tr>\n",
              "    <tr>\n",
              "      <th>D</th>\n",
              "      <td>True</td>\n",
              "      <td>True</td>\n",
              "      <td>False</td>\n",
              "      <td>True</td>\n",
              "    </tr>\n",
              "    <tr>\n",
              "      <th>E</th>\n",
              "      <td>True</td>\n",
              "      <td>True</td>\n",
              "      <td>True</td>\n",
              "      <td>True</td>\n",
              "    </tr>\n",
              "  </tbody>\n",
              "</table>\n",
              "</div>"
            ],
            "text/plain": [
              "       W     X      Y     Z\n",
              "A  False  True  False  True\n",
              "B   True  True   True  True\n",
              "C   True  True   True  True\n",
              "D   True  True  False  True\n",
              "E   True  True   True  True"
            ]
          },
          "metadata": {
            "tags": []
          },
          "execution_count": 75
        }
      ]
    },
    {
      "cell_type": "code",
      "metadata": {
        "id": "WNwiKhlMEeGJ",
        "outputId": "86eb8152-56ff-4097-9f4e-168edb327a4f"
      },
      "source": [
        "df[df > 0.2]"
      ],
      "execution_count": null,
      "outputs": [
        {
          "output_type": "execute_result",
          "data": {
            "text/html": [
              "<div>\n",
              "<style scoped>\n",
              "    .dataframe tbody tr th:only-of-type {\n",
              "        vertical-align: middle;\n",
              "    }\n",
              "\n",
              "    .dataframe tbody tr th {\n",
              "        vertical-align: top;\n",
              "    }\n",
              "\n",
              "    .dataframe thead th {\n",
              "        text-align: right;\n",
              "    }\n",
              "</style>\n",
              "<table border=\"1\" class=\"dataframe\">\n",
              "  <thead>\n",
              "    <tr style=\"text-align: right;\">\n",
              "      <th></th>\n",
              "      <th>W</th>\n",
              "      <th>X</th>\n",
              "      <th>Y</th>\n",
              "      <th>Z</th>\n",
              "    </tr>\n",
              "  </thead>\n",
              "  <tbody>\n",
              "    <tr>\n",
              "      <th>A</th>\n",
              "      <td>NaN</td>\n",
              "      <td>0.825653</td>\n",
              "      <td>NaN</td>\n",
              "      <td>0.590231</td>\n",
              "    </tr>\n",
              "    <tr>\n",
              "      <th>B</th>\n",
              "      <td>0.534253</td>\n",
              "      <td>0.581258</td>\n",
              "      <td>0.774717</td>\n",
              "      <td>0.977912</td>\n",
              "    </tr>\n",
              "    <tr>\n",
              "      <th>C</th>\n",
              "      <td>0.611600</td>\n",
              "      <td>0.946284</td>\n",
              "      <td>0.432897</td>\n",
              "      <td>0.791826</td>\n",
              "    </tr>\n",
              "    <tr>\n",
              "      <th>D</th>\n",
              "      <td>0.456502</td>\n",
              "      <td>0.826678</td>\n",
              "      <td>NaN</td>\n",
              "      <td>0.602631</td>\n",
              "    </tr>\n",
              "    <tr>\n",
              "      <th>E</th>\n",
              "      <td>0.591275</td>\n",
              "      <td>0.441686</td>\n",
              "      <td>0.492016</td>\n",
              "      <td>0.731510</td>\n",
              "    </tr>\n",
              "  </tbody>\n",
              "</table>\n",
              "</div>"
            ],
            "text/plain": [
              "          W         X         Y         Z\n",
              "A       NaN  0.825653       NaN  0.590231\n",
              "B  0.534253  0.581258  0.774717  0.977912\n",
              "C  0.611600  0.946284  0.432897  0.791826\n",
              "D  0.456502  0.826678       NaN  0.602631\n",
              "E  0.591275  0.441686  0.492016  0.731510"
            ]
          },
          "metadata": {
            "tags": []
          },
          "execution_count": 76
        }
      ]
    },
    {
      "cell_type": "code",
      "metadata": {
        "id": "GFnS8YXZEeGJ",
        "outputId": "c8fde925-47f6-4361-84a9-32e09e71c5b3"
      },
      "source": [
        "df"
      ],
      "execution_count": null,
      "outputs": [
        {
          "output_type": "execute_result",
          "data": {
            "text/html": [
              "<div>\n",
              "<style scoped>\n",
              "    .dataframe tbody tr th:only-of-type {\n",
              "        vertical-align: middle;\n",
              "    }\n",
              "\n",
              "    .dataframe tbody tr th {\n",
              "        vertical-align: top;\n",
              "    }\n",
              "\n",
              "    .dataframe thead th {\n",
              "        text-align: right;\n",
              "    }\n",
              "</style>\n",
              "<table border=\"1\" class=\"dataframe\">\n",
              "  <thead>\n",
              "    <tr style=\"text-align: right;\">\n",
              "      <th></th>\n",
              "      <th>W</th>\n",
              "      <th>X</th>\n",
              "      <th>Y</th>\n",
              "      <th>Z</th>\n",
              "    </tr>\n",
              "  </thead>\n",
              "  <tbody>\n",
              "    <tr>\n",
              "      <th>A</th>\n",
              "      <td>0.075682</td>\n",
              "      <td>0.825653</td>\n",
              "      <td>0.025497</td>\n",
              "      <td>0.590231</td>\n",
              "    </tr>\n",
              "    <tr>\n",
              "      <th>B</th>\n",
              "      <td>0.534253</td>\n",
              "      <td>0.581258</td>\n",
              "      <td>0.774717</td>\n",
              "      <td>0.977912</td>\n",
              "    </tr>\n",
              "    <tr>\n",
              "      <th>C</th>\n",
              "      <td>0.611600</td>\n",
              "      <td>0.946284</td>\n",
              "      <td>0.432897</td>\n",
              "      <td>0.791826</td>\n",
              "    </tr>\n",
              "    <tr>\n",
              "      <th>D</th>\n",
              "      <td>0.456502</td>\n",
              "      <td>0.826678</td>\n",
              "      <td>0.146240</td>\n",
              "      <td>0.602631</td>\n",
              "    </tr>\n",
              "    <tr>\n",
              "      <th>E</th>\n",
              "      <td>0.591275</td>\n",
              "      <td>0.441686</td>\n",
              "      <td>0.492016</td>\n",
              "      <td>0.731510</td>\n",
              "    </tr>\n",
              "  </tbody>\n",
              "</table>\n",
              "</div>"
            ],
            "text/plain": [
              "          W         X         Y         Z\n",
              "A  0.075682  0.825653  0.025497  0.590231\n",
              "B  0.534253  0.581258  0.774717  0.977912\n",
              "C  0.611600  0.946284  0.432897  0.791826\n",
              "D  0.456502  0.826678  0.146240  0.602631\n",
              "E  0.591275  0.441686  0.492016  0.731510"
            ]
          },
          "metadata": {
            "tags": []
          },
          "execution_count": 77
        }
      ]
    },
    {
      "cell_type": "code",
      "metadata": {
        "id": "a2SFv6ShEeGJ",
        "outputId": "03478f6e-ce57-49d1-e835-2154558cafb5"
      },
      "source": [
        "df[df['W'] > 0.2]"
      ],
      "execution_count": null,
      "outputs": [
        {
          "output_type": "execute_result",
          "data": {
            "text/html": [
              "<div>\n",
              "<style scoped>\n",
              "    .dataframe tbody tr th:only-of-type {\n",
              "        vertical-align: middle;\n",
              "    }\n",
              "\n",
              "    .dataframe tbody tr th {\n",
              "        vertical-align: top;\n",
              "    }\n",
              "\n",
              "    .dataframe thead th {\n",
              "        text-align: right;\n",
              "    }\n",
              "</style>\n",
              "<table border=\"1\" class=\"dataframe\">\n",
              "  <thead>\n",
              "    <tr style=\"text-align: right;\">\n",
              "      <th></th>\n",
              "      <th>W</th>\n",
              "      <th>X</th>\n",
              "      <th>Y</th>\n",
              "      <th>Z</th>\n",
              "    </tr>\n",
              "  </thead>\n",
              "  <tbody>\n",
              "    <tr>\n",
              "      <th>B</th>\n",
              "      <td>0.534253</td>\n",
              "      <td>0.581258</td>\n",
              "      <td>0.774717</td>\n",
              "      <td>0.977912</td>\n",
              "    </tr>\n",
              "    <tr>\n",
              "      <th>C</th>\n",
              "      <td>0.611600</td>\n",
              "      <td>0.946284</td>\n",
              "      <td>0.432897</td>\n",
              "      <td>0.791826</td>\n",
              "    </tr>\n",
              "    <tr>\n",
              "      <th>D</th>\n",
              "      <td>0.456502</td>\n",
              "      <td>0.826678</td>\n",
              "      <td>0.146240</td>\n",
              "      <td>0.602631</td>\n",
              "    </tr>\n",
              "    <tr>\n",
              "      <th>E</th>\n",
              "      <td>0.591275</td>\n",
              "      <td>0.441686</td>\n",
              "      <td>0.492016</td>\n",
              "      <td>0.731510</td>\n",
              "    </tr>\n",
              "  </tbody>\n",
              "</table>\n",
              "</div>"
            ],
            "text/plain": [
              "          W         X         Y         Z\n",
              "B  0.534253  0.581258  0.774717  0.977912\n",
              "C  0.611600  0.946284  0.432897  0.791826\n",
              "D  0.456502  0.826678  0.146240  0.602631\n",
              "E  0.591275  0.441686  0.492016  0.731510"
            ]
          },
          "metadata": {
            "tags": []
          },
          "execution_count": 78
        }
      ]
    },
    {
      "cell_type": "code",
      "metadata": {
        "id": "z1RegTRHEeGK",
        "outputId": "89990ed3-0ef2-4a3d-d9e4-914f243c5733"
      },
      "source": [
        "df[ (df['W']>0.2) & (df['Y']>0.1)]"
      ],
      "execution_count": null,
      "outputs": [
        {
          "output_type": "execute_result",
          "data": {
            "text/html": [
              "<div>\n",
              "<style scoped>\n",
              "    .dataframe tbody tr th:only-of-type {\n",
              "        vertical-align: middle;\n",
              "    }\n",
              "\n",
              "    .dataframe tbody tr th {\n",
              "        vertical-align: top;\n",
              "    }\n",
              "\n",
              "    .dataframe thead th {\n",
              "        text-align: right;\n",
              "    }\n",
              "</style>\n",
              "<table border=\"1\" class=\"dataframe\">\n",
              "  <thead>\n",
              "    <tr style=\"text-align: right;\">\n",
              "      <th></th>\n",
              "      <th>W</th>\n",
              "      <th>X</th>\n",
              "      <th>Y</th>\n",
              "      <th>Z</th>\n",
              "    </tr>\n",
              "  </thead>\n",
              "  <tbody>\n",
              "    <tr>\n",
              "      <th>B</th>\n",
              "      <td>0.534253</td>\n",
              "      <td>0.581258</td>\n",
              "      <td>0.774717</td>\n",
              "      <td>0.977912</td>\n",
              "    </tr>\n",
              "    <tr>\n",
              "      <th>C</th>\n",
              "      <td>0.611600</td>\n",
              "      <td>0.946284</td>\n",
              "      <td>0.432897</td>\n",
              "      <td>0.791826</td>\n",
              "    </tr>\n",
              "    <tr>\n",
              "      <th>D</th>\n",
              "      <td>0.456502</td>\n",
              "      <td>0.826678</td>\n",
              "      <td>0.146240</td>\n",
              "      <td>0.602631</td>\n",
              "    </tr>\n",
              "    <tr>\n",
              "      <th>E</th>\n",
              "      <td>0.591275</td>\n",
              "      <td>0.441686</td>\n",
              "      <td>0.492016</td>\n",
              "      <td>0.731510</td>\n",
              "    </tr>\n",
              "  </tbody>\n",
              "</table>\n",
              "</div>"
            ],
            "text/plain": [
              "          W         X         Y         Z\n",
              "B  0.534253  0.581258  0.774717  0.977912\n",
              "C  0.611600  0.946284  0.432897  0.791826\n",
              "D  0.456502  0.826678  0.146240  0.602631\n",
              "E  0.591275  0.441686  0.492016  0.731510"
            ]
          },
          "metadata": {
            "tags": []
          },
          "execution_count": 79
        }
      ]
    },
    {
      "cell_type": "code",
      "metadata": {
        "id": "161HJ9ROEeGK"
      },
      "source": [
        "new_ind = 'CA NY WY OR CO'.split()"
      ],
      "execution_count": null,
      "outputs": []
    },
    {
      "cell_type": "code",
      "metadata": {
        "id": "2qbnkmp9EeGL"
      },
      "source": [
        "df['states'] = new_ind"
      ],
      "execution_count": null,
      "outputs": []
    },
    {
      "cell_type": "code",
      "metadata": {
        "id": "FezuywVREeGL",
        "outputId": "de5dea30-ead6-4830-d012-75b5fc6349bb"
      },
      "source": [
        "df"
      ],
      "execution_count": null,
      "outputs": [
        {
          "output_type": "execute_result",
          "data": {
            "text/html": [
              "<div>\n",
              "<style scoped>\n",
              "    .dataframe tbody tr th:only-of-type {\n",
              "        vertical-align: middle;\n",
              "    }\n",
              "\n",
              "    .dataframe tbody tr th {\n",
              "        vertical-align: top;\n",
              "    }\n",
              "\n",
              "    .dataframe thead th {\n",
              "        text-align: right;\n",
              "    }\n",
              "</style>\n",
              "<table border=\"1\" class=\"dataframe\">\n",
              "  <thead>\n",
              "    <tr style=\"text-align: right;\">\n",
              "      <th></th>\n",
              "      <th>W</th>\n",
              "      <th>X</th>\n",
              "      <th>Y</th>\n",
              "      <th>Z</th>\n",
              "      <th>states</th>\n",
              "    </tr>\n",
              "  </thead>\n",
              "  <tbody>\n",
              "    <tr>\n",
              "      <th>A</th>\n",
              "      <td>0.075682</td>\n",
              "      <td>0.825653</td>\n",
              "      <td>0.025497</td>\n",
              "      <td>0.590231</td>\n",
              "      <td>CA</td>\n",
              "    </tr>\n",
              "    <tr>\n",
              "      <th>B</th>\n",
              "      <td>0.534253</td>\n",
              "      <td>0.581258</td>\n",
              "      <td>0.774717</td>\n",
              "      <td>0.977912</td>\n",
              "      <td>NY</td>\n",
              "    </tr>\n",
              "    <tr>\n",
              "      <th>C</th>\n",
              "      <td>0.611600</td>\n",
              "      <td>0.946284</td>\n",
              "      <td>0.432897</td>\n",
              "      <td>0.791826</td>\n",
              "      <td>WY</td>\n",
              "    </tr>\n",
              "    <tr>\n",
              "      <th>D</th>\n",
              "      <td>0.456502</td>\n",
              "      <td>0.826678</td>\n",
              "      <td>0.146240</td>\n",
              "      <td>0.602631</td>\n",
              "      <td>OR</td>\n",
              "    </tr>\n",
              "    <tr>\n",
              "      <th>E</th>\n",
              "      <td>0.591275</td>\n",
              "      <td>0.441686</td>\n",
              "      <td>0.492016</td>\n",
              "      <td>0.731510</td>\n",
              "      <td>CO</td>\n",
              "    </tr>\n",
              "  </tbody>\n",
              "</table>\n",
              "</div>"
            ],
            "text/plain": [
              "          W         X         Y         Z states\n",
              "A  0.075682  0.825653  0.025497  0.590231     CA\n",
              "B  0.534253  0.581258  0.774717  0.977912     NY\n",
              "C  0.611600  0.946284  0.432897  0.791826     WY\n",
              "D  0.456502  0.826678  0.146240  0.602631     OR\n",
              "E  0.591275  0.441686  0.492016  0.731510     CO"
            ]
          },
          "metadata": {
            "tags": []
          },
          "execution_count": 82
        }
      ]
    },
    {
      "cell_type": "code",
      "metadata": {
        "id": "7lDUzqIEEeGL"
      },
      "source": [
        "df.set_index('states',inplace=True)"
      ],
      "execution_count": null,
      "outputs": []
    },
    {
      "cell_type": "code",
      "metadata": {
        "id": "bi9wD_ZIEeGM",
        "outputId": "14f801a5-490c-43e1-cba6-43c133ce6d47"
      },
      "source": [
        "df"
      ],
      "execution_count": null,
      "outputs": [
        {
          "output_type": "execute_result",
          "data": {
            "text/html": [
              "<div>\n",
              "<style scoped>\n",
              "    .dataframe tbody tr th:only-of-type {\n",
              "        vertical-align: middle;\n",
              "    }\n",
              "\n",
              "    .dataframe tbody tr th {\n",
              "        vertical-align: top;\n",
              "    }\n",
              "\n",
              "    .dataframe thead th {\n",
              "        text-align: right;\n",
              "    }\n",
              "</style>\n",
              "<table border=\"1\" class=\"dataframe\">\n",
              "  <thead>\n",
              "    <tr style=\"text-align: right;\">\n",
              "      <th></th>\n",
              "      <th>W</th>\n",
              "      <th>X</th>\n",
              "      <th>Y</th>\n",
              "      <th>Z</th>\n",
              "    </tr>\n",
              "    <tr>\n",
              "      <th>states</th>\n",
              "      <th></th>\n",
              "      <th></th>\n",
              "      <th></th>\n",
              "      <th></th>\n",
              "    </tr>\n",
              "  </thead>\n",
              "  <tbody>\n",
              "    <tr>\n",
              "      <th>CA</th>\n",
              "      <td>0.075682</td>\n",
              "      <td>0.825653</td>\n",
              "      <td>0.025497</td>\n",
              "      <td>0.590231</td>\n",
              "    </tr>\n",
              "    <tr>\n",
              "      <th>NY</th>\n",
              "      <td>0.534253</td>\n",
              "      <td>0.581258</td>\n",
              "      <td>0.774717</td>\n",
              "      <td>0.977912</td>\n",
              "    </tr>\n",
              "    <tr>\n",
              "      <th>WY</th>\n",
              "      <td>0.611600</td>\n",
              "      <td>0.946284</td>\n",
              "      <td>0.432897</td>\n",
              "      <td>0.791826</td>\n",
              "    </tr>\n",
              "    <tr>\n",
              "      <th>OR</th>\n",
              "      <td>0.456502</td>\n",
              "      <td>0.826678</td>\n",
              "      <td>0.146240</td>\n",
              "      <td>0.602631</td>\n",
              "    </tr>\n",
              "    <tr>\n",
              "      <th>CO</th>\n",
              "      <td>0.591275</td>\n",
              "      <td>0.441686</td>\n",
              "      <td>0.492016</td>\n",
              "      <td>0.731510</td>\n",
              "    </tr>\n",
              "  </tbody>\n",
              "</table>\n",
              "</div>"
            ],
            "text/plain": [
              "               W         X         Y         Z\n",
              "states                                        \n",
              "CA      0.075682  0.825653  0.025497  0.590231\n",
              "NY      0.534253  0.581258  0.774717  0.977912\n",
              "WY      0.611600  0.946284  0.432897  0.791826\n",
              "OR      0.456502  0.826678  0.146240  0.602631\n",
              "CO      0.591275  0.441686  0.492016  0.731510"
            ]
          },
          "metadata": {
            "tags": []
          },
          "execution_count": 84
        }
      ]
    },
    {
      "cell_type": "code",
      "metadata": {
        "id": "XTe4yGZQEeGM",
        "outputId": "f273de40-421a-4c79-895a-29de21529604"
      },
      "source": [
        "df.info()"
      ],
      "execution_count": null,
      "outputs": [
        {
          "output_type": "stream",
          "text": [
            "<class 'pandas.core.frame.DataFrame'>\n",
            "Index: 5 entries, CA to CO\n",
            "Data columns (total 4 columns):\n",
            " #   Column  Non-Null Count  Dtype  \n",
            "---  ------  --------------  -----  \n",
            " 0   W       5 non-null      float64\n",
            " 1   X       5 non-null      float64\n",
            " 2   Y       5 non-null      float64\n",
            " 3   Z       5 non-null      float64\n",
            "dtypes: float64(4)\n",
            "memory usage: 200.0+ bytes\n"
          ],
          "name": "stdout"
        }
      ]
    },
    {
      "cell_type": "code",
      "metadata": {
        "id": "fEyrJG7kEeGM",
        "outputId": "d903f442-3d7c-4b31-dff0-9b1221be84ad"
      },
      "source": [
        "df.describe()"
      ],
      "execution_count": null,
      "outputs": [
        {
          "output_type": "execute_result",
          "data": {
            "text/html": [
              "<div>\n",
              "<style scoped>\n",
              "    .dataframe tbody tr th:only-of-type {\n",
              "        vertical-align: middle;\n",
              "    }\n",
              "\n",
              "    .dataframe tbody tr th {\n",
              "        vertical-align: top;\n",
              "    }\n",
              "\n",
              "    .dataframe thead th {\n",
              "        text-align: right;\n",
              "    }\n",
              "</style>\n",
              "<table border=\"1\" class=\"dataframe\">\n",
              "  <thead>\n",
              "    <tr style=\"text-align: right;\">\n",
              "      <th></th>\n",
              "      <th>W</th>\n",
              "      <th>X</th>\n",
              "      <th>Y</th>\n",
              "      <th>Z</th>\n",
              "    </tr>\n",
              "  </thead>\n",
              "  <tbody>\n",
              "    <tr>\n",
              "      <th>count</th>\n",
              "      <td>5.000000</td>\n",
              "      <td>5.000000</td>\n",
              "      <td>5.000000</td>\n",
              "      <td>5.000000</td>\n",
              "    </tr>\n",
              "    <tr>\n",
              "      <th>mean</th>\n",
              "      <td>0.453862</td>\n",
              "      <td>0.724312</td>\n",
              "      <td>0.374273</td>\n",
              "      <td>0.738822</td>\n",
              "    </tr>\n",
              "    <tr>\n",
              "      <th>std</th>\n",
              "      <td>0.219803</td>\n",
              "      <td>0.206375</td>\n",
              "      <td>0.296353</td>\n",
              "      <td>0.158630</td>\n",
              "    </tr>\n",
              "    <tr>\n",
              "      <th>min</th>\n",
              "      <td>0.075682</td>\n",
              "      <td>0.441686</td>\n",
              "      <td>0.025497</td>\n",
              "      <td>0.590231</td>\n",
              "    </tr>\n",
              "    <tr>\n",
              "      <th>25%</th>\n",
              "      <td>0.456502</td>\n",
              "      <td>0.581258</td>\n",
              "      <td>0.146240</td>\n",
              "      <td>0.602631</td>\n",
              "    </tr>\n",
              "    <tr>\n",
              "      <th>50%</th>\n",
              "      <td>0.534253</td>\n",
              "      <td>0.825653</td>\n",
              "      <td>0.432897</td>\n",
              "      <td>0.731510</td>\n",
              "    </tr>\n",
              "    <tr>\n",
              "      <th>75%</th>\n",
              "      <td>0.591275</td>\n",
              "      <td>0.826678</td>\n",
              "      <td>0.492016</td>\n",
              "      <td>0.791826</td>\n",
              "    </tr>\n",
              "    <tr>\n",
              "      <th>max</th>\n",
              "      <td>0.611600</td>\n",
              "      <td>0.946284</td>\n",
              "      <td>0.774717</td>\n",
              "      <td>0.977912</td>\n",
              "    </tr>\n",
              "  </tbody>\n",
              "</table>\n",
              "</div>"
            ],
            "text/plain": [
              "              W         X         Y         Z\n",
              "count  5.000000  5.000000  5.000000  5.000000\n",
              "mean   0.453862  0.724312  0.374273  0.738822\n",
              "std    0.219803  0.206375  0.296353  0.158630\n",
              "min    0.075682  0.441686  0.025497  0.590231\n",
              "25%    0.456502  0.581258  0.146240  0.602631\n",
              "50%    0.534253  0.825653  0.432897  0.731510\n",
              "75%    0.591275  0.826678  0.492016  0.791826\n",
              "max    0.611600  0.946284  0.774717  0.977912"
            ]
          },
          "metadata": {
            "tags": []
          },
          "execution_count": 86
        }
      ]
    },
    {
      "cell_type": "code",
      "metadata": {
        "id": "voI8cOQ0EeGM",
        "outputId": "44dde3da-e27c-4ea5-c793-e3d38b3dd295"
      },
      "source": [
        "df['W'] > 0.1"
      ],
      "execution_count": null,
      "outputs": [
        {
          "output_type": "execute_result",
          "data": {
            "text/plain": [
              "states\n",
              "CA    False\n",
              "NY     True\n",
              "WY     True\n",
              "OR     True\n",
              "CO     True\n",
              "Name: W, dtype: bool"
            ]
          },
          "metadata": {
            "tags": []
          },
          "execution_count": 87
        }
      ]
    },
    {
      "cell_type": "code",
      "metadata": {
        "id": "fzfJwtG7EeGN"
      },
      "source": [
        "ser_w = df['W'] > 0.1"
      ],
      "execution_count": null,
      "outputs": []
    },
    {
      "cell_type": "code",
      "metadata": {
        "id": "ohxJMs6ZEeGN",
        "outputId": "00fb6a79-aba3-4cb1-a37a-755e3b847b54"
      },
      "source": [
        "sum(ser_w)"
      ],
      "execution_count": null,
      "outputs": [
        {
          "output_type": "execute_result",
          "data": {
            "text/plain": [
              "4"
            ]
          },
          "metadata": {
            "tags": []
          },
          "execution_count": 89
        }
      ]
    },
    {
      "cell_type": "code",
      "metadata": {
        "id": "zmzLTuY5EeGN",
        "outputId": "084ffce2-776a-4057-bed6-7128c20c5b9a"
      },
      "source": [
        "len(ser_w)"
      ],
      "execution_count": null,
      "outputs": [
        {
          "output_type": "execute_result",
          "data": {
            "text/plain": [
              "5"
            ]
          },
          "metadata": {
            "tags": []
          },
          "execution_count": 90
        }
      ]
    },
    {
      "cell_type": "markdown",
      "metadata": {
        "id": "ppVzxjXFEeGO"
      },
      "source": [
        "# Pytorch basics"
      ]
    },
    {
      "cell_type": "code",
      "metadata": {
        "id": "uwhGe9EwEeGO"
      },
      "source": [
        "import torch"
      ],
      "execution_count": null,
      "outputs": []
    },
    {
      "cell_type": "code",
      "metadata": {
        "id": "rd4aCtSwEeGO",
        "outputId": "fd7fdfe6-2e69-4a8a-eee8-dcd0ce19645e"
      },
      "source": [
        "torch.__version__"
      ],
      "execution_count": null,
      "outputs": [
        {
          "output_type": "execute_result",
          "data": {
            "text/plain": [
              "'1.7.1+cpu'"
            ]
          },
          "metadata": {
            "tags": []
          },
          "execution_count": 92
        }
      ]
    },
    {
      "cell_type": "code",
      "metadata": {
        "id": "hehAnn5gEeGP"
      },
      "source": [
        "arr = np.array([1,2,3,4,5])"
      ],
      "execution_count": null,
      "outputs": []
    },
    {
      "cell_type": "code",
      "metadata": {
        "id": "EQ58oSG5EeGP",
        "outputId": "9eb8a10f-ba8d-48df-cbec-71a2dd1addea"
      },
      "source": [
        "arr"
      ],
      "execution_count": null,
      "outputs": [
        {
          "output_type": "execute_result",
          "data": {
            "text/plain": [
              "array([1, 2, 3, 4, 5])"
            ]
          },
          "metadata": {
            "tags": []
          },
          "execution_count": 94
        }
      ]
    },
    {
      "cell_type": "code",
      "metadata": {
        "id": "fylPejUwEeGP"
      },
      "source": [
        "#transform numpy array into tensor\n",
        "x = torch.from_numpy(arr)"
      ],
      "execution_count": null,
      "outputs": []
    },
    {
      "cell_type": "code",
      "metadata": {
        "id": "neStsTjvEeGQ",
        "outputId": "ab3cca97-8043-40d3-efce-c3a6d9ce7cfc"
      },
      "source": [
        "#a more generalized way\n",
        "torch.as_tensor(arr)"
      ],
      "execution_count": null,
      "outputs": [
        {
          "output_type": "execute_result",
          "data": {
            "text/plain": [
              "tensor([1, 2, 3, 4, 5], dtype=torch.int32)"
            ]
          },
          "metadata": {
            "tags": []
          },
          "execution_count": 96
        }
      ]
    },
    {
      "cell_type": "code",
      "metadata": {
        "id": "ALldXXm0EeGQ"
      },
      "source": [
        "arr2d = np.arange(0.0,12.0)"
      ],
      "execution_count": null,
      "outputs": []
    },
    {
      "cell_type": "code",
      "metadata": {
        "id": "8lpOnQp3EeGR"
      },
      "source": [
        "arr2d = arr2d.reshape(4,3)"
      ],
      "execution_count": null,
      "outputs": []
    },
    {
      "cell_type": "code",
      "metadata": {
        "id": "az2hEHH8EeGS",
        "outputId": "7c562a87-fc92-4f5f-e36e-f74d791b7ca1"
      },
      "source": [
        "arr2d"
      ],
      "execution_count": null,
      "outputs": [
        {
          "output_type": "execute_result",
          "data": {
            "text/plain": [
              "array([[ 0.,  1.,  2.],\n",
              "       [ 3.,  4.,  5.],\n",
              "       [ 6.,  7.,  8.],\n",
              "       [ 9., 10., 11.]])"
            ]
          },
          "metadata": {
            "tags": []
          },
          "execution_count": 99
        }
      ]
    },
    {
      "cell_type": "code",
      "metadata": {
        "id": "7_ikRTj8EeGS"
      },
      "source": [
        "x2 =torch.from_numpy(arr2d)"
      ],
      "execution_count": null,
      "outputs": []
    },
    {
      "cell_type": "code",
      "metadata": {
        "id": "8Thvwzy2EeGT",
        "outputId": "06fc893e-2a7c-44b4-9415-c19cc49a6dbf"
      },
      "source": [
        "x2"
      ],
      "execution_count": null,
      "outputs": [
        {
          "output_type": "execute_result",
          "data": {
            "text/plain": [
              "tensor([[ 0.,  1.,  2.],\n",
              "        [ 3.,  4.,  5.],\n",
              "        [ 6.,  7.,  8.],\n",
              "        [ 9., 10., 11.]], dtype=torch.float64)"
            ]
          },
          "metadata": {
            "tags": []
          },
          "execution_count": 101
        }
      ]
    },
    {
      "cell_type": "code",
      "metadata": {
        "id": "df5zGkDCEeGT"
      },
      "source": [
        "my_arr = np.arange(0,10)"
      ],
      "execution_count": null,
      "outputs": []
    },
    {
      "cell_type": "code",
      "metadata": {
        "id": "rIRoDY93EeGT"
      },
      "source": [
        "#avoid linking to the numpy array\n",
        "my_tensor = torch.tensor(my_arr)"
      ],
      "execution_count": null,
      "outputs": []
    },
    {
      "cell_type": "code",
      "metadata": {
        "id": "JVvJpHw_EeGU",
        "outputId": "2aa567d0-317b-452a-fd24-9f0633db2f0d"
      },
      "source": [
        "my_tensor"
      ],
      "execution_count": null,
      "outputs": [
        {
          "output_type": "execute_result",
          "data": {
            "text/plain": [
              "tensor([0, 1, 2, 3, 4, 5, 6, 7, 8, 9], dtype=torch.int32)"
            ]
          },
          "metadata": {
            "tags": []
          },
          "execution_count": 104
        }
      ]
    },
    {
      "cell_type": "code",
      "metadata": {
        "id": "d8KYCicFEeGU"
      },
      "source": [
        "#torch.Tensor is a shortcut for FloatTensor\n",
        "arr = [1,2,3]\n",
        "my_tensor = torch.Tensor(arr)"
      ],
      "execution_count": null,
      "outputs": []
    },
    {
      "cell_type": "code",
      "metadata": {
        "id": "PDWLA4hFEeGU",
        "outputId": "92d6073e-340d-403f-f4cf-f3c4c24b967e"
      },
      "source": [
        "my_tensor"
      ],
      "execution_count": null,
      "outputs": [
        {
          "output_type": "execute_result",
          "data": {
            "text/plain": [
              "tensor([1., 2., 3.])"
            ]
          },
          "metadata": {
            "tags": []
          },
          "execution_count": 106
        }
      ]
    },
    {
      "cell_type": "code",
      "metadata": {
        "id": "5vEfQMAHEeGV",
        "outputId": "17bb38cc-8625-452f-8eb1-cf73ef48e804"
      },
      "source": [
        "#tensor from scratch\n",
        "torch.empty(4,2)"
      ],
      "execution_count": null,
      "outputs": [
        {
          "output_type": "execute_result",
          "data": {
            "text/plain": [
              "tensor([[0., 0.],\n",
              "        [0., 0.],\n",
              "        [0., 0.],\n",
              "        [0., 0.]])"
            ]
          },
          "metadata": {
            "tags": []
          },
          "execution_count": 107
        }
      ]
    },
    {
      "cell_type": "code",
      "metadata": {
        "id": "jKq6fSRCEeGV",
        "outputId": "e31c79d6-d325-42b5-f7bc-3afd066ecdaf"
      },
      "source": [
        "torch.zeros(4,3)"
      ],
      "execution_count": null,
      "outputs": [
        {
          "output_type": "execute_result",
          "data": {
            "text/plain": [
              "tensor([[0., 0., 0.],\n",
              "        [0., 0., 0.],\n",
              "        [0., 0., 0.],\n",
              "        [0., 0., 0.]])"
            ]
          },
          "metadata": {
            "tags": []
          },
          "execution_count": 108
        }
      ]
    },
    {
      "cell_type": "code",
      "metadata": {
        "id": "AU9aDBMBEeGW",
        "outputId": "2efa3b20-2fbb-4fc1-d0fa-366dd09a43d8"
      },
      "source": [
        "torch.ones(4,3)"
      ],
      "execution_count": null,
      "outputs": [
        {
          "output_type": "execute_result",
          "data": {
            "text/plain": [
              "tensor([[1., 1., 1.],\n",
              "        [1., 1., 1.],\n",
              "        [1., 1., 1.],\n",
              "        [1., 1., 1.]])"
            ]
          },
          "metadata": {
            "tags": []
          },
          "execution_count": 109
        }
      ]
    },
    {
      "cell_type": "code",
      "metadata": {
        "id": "AEJjfYrKEeGW",
        "outputId": "a6d9a163-ef31-4e73-99ce-7948ac92391e"
      },
      "source": [
        "torch.arange(0,18,2).reshape(3,3)"
      ],
      "execution_count": null,
      "outputs": [
        {
          "output_type": "execute_result",
          "data": {
            "text/plain": [
              "tensor([[ 0,  2,  4],\n",
              "        [ 6,  8, 10],\n",
              "        [12, 14, 16]])"
            ]
          },
          "metadata": {
            "tags": []
          },
          "execution_count": 110
        }
      ]
    },
    {
      "cell_type": "code",
      "metadata": {
        "id": "4G-bwMEaEeGX",
        "outputId": "e15ca428-2232-4dfa-8903-6712a6fceefb"
      },
      "source": [
        "torch.linspace(0,18,12).reshape(3,4)"
      ],
      "execution_count": null,
      "outputs": [
        {
          "output_type": "execute_result",
          "data": {
            "text/plain": [
              "tensor([[ 0.0000,  1.6364,  3.2727,  4.9091],\n",
              "        [ 6.5455,  8.1818,  9.8182, 11.4545],\n",
              "        [13.0909, 14.7273, 16.3636, 18.0000]])"
            ]
          },
          "metadata": {
            "tags": []
          },
          "execution_count": 111
        }
      ]
    },
    {
      "cell_type": "code",
      "metadata": {
        "id": "c4cGrLxaEeGX",
        "outputId": "33f580a8-0359-4cf4-fb13-f77040ae0b5e"
      },
      "source": [
        "torch.rand(4,3)"
      ],
      "execution_count": null,
      "outputs": [
        {
          "output_type": "execute_result",
          "data": {
            "text/plain": [
              "tensor([[0.9602, 0.5828, 0.1215],\n",
              "        [0.9856, 0.3473, 0.9700],\n",
              "        [0.0573, 0.7866, 0.2052],\n",
              "        [0.5280, 0.5451, 0.8729]])"
            ]
          },
          "metadata": {
            "tags": []
          },
          "execution_count": 112
        }
      ]
    },
    {
      "cell_type": "code",
      "metadata": {
        "id": "yWuVdXDZEeGX",
        "outputId": "7b69463b-cadf-402f-b1a7-e29fddf1aadd"
      },
      "source": [
        "torch.randn(4,3)"
      ],
      "execution_count": null,
      "outputs": [
        {
          "output_type": "execute_result",
          "data": {
            "text/plain": [
              "tensor([[-0.6134,  0.9259,  1.0139],\n",
              "        [-1.5113,  0.1541,  0.7171],\n",
              "        [ 0.3307, -0.1666, -1.0653],\n",
              "        [-1.0231,  1.7880,  1.4697]])"
            ]
          },
          "metadata": {
            "tags": []
          },
          "execution_count": 113
        }
      ]
    },
    {
      "cell_type": "code",
      "metadata": {
        "id": "2R5bFNX7EeGX",
        "outputId": "4b0dba0b-ba73-469a-87e7-6d2ed0831cec"
      },
      "source": [
        "torch.randint(low=0, high=11, size=(5,5))"
      ],
      "execution_count": null,
      "outputs": [
        {
          "output_type": "execute_result",
          "data": {
            "text/plain": [
              "tensor([[ 8,  4,  4,  5,  1],\n",
              "        [ 6,  3,  0,  6,  5],\n",
              "        [ 8,  7, 10,  1,  9],\n",
              "        [ 2,  5,  1,  3,  2],\n",
              "        [ 8,  8, 10,  6,  6]])"
            ]
          },
          "metadata": {
            "tags": []
          },
          "execution_count": 114
        }
      ]
    },
    {
      "cell_type": "code",
      "metadata": {
        "id": "CiSBYSRCEeGX"
      },
      "source": [
        "x = torch.zeros(2,5)"
      ],
      "execution_count": null,
      "outputs": []
    },
    {
      "cell_type": "code",
      "metadata": {
        "id": "UyIOkRugEeGX",
        "outputId": "955f7c5f-7f99-4ee4-e408-905160b3967e"
      },
      "source": [
        "x"
      ],
      "execution_count": null,
      "outputs": [
        {
          "output_type": "execute_result",
          "data": {
            "text/plain": [
              "tensor([[0., 0., 0., 0., 0.],\n",
              "        [0., 0., 0., 0., 0.]])"
            ]
          },
          "metadata": {
            "tags": []
          },
          "execution_count": 116
        }
      ]
    },
    {
      "cell_type": "code",
      "metadata": {
        "id": "TqiImCQ6EeGY",
        "outputId": "5c46cd9f-f573-43f6-c95a-e7b286609861"
      },
      "source": [
        "torch.rand_like(x)"
      ],
      "execution_count": null,
      "outputs": [
        {
          "output_type": "execute_result",
          "data": {
            "text/plain": [
              "tensor([[0.3769, 0.0978, 0.3964, 0.9565, 0.6540],\n",
              "        [0.6426, 0.5907, 0.9576, 0.1221, 0.2135]])"
            ]
          },
          "metadata": {
            "tags": []
          },
          "execution_count": 117
        }
      ]
    },
    {
      "cell_type": "code",
      "metadata": {
        "id": "QcwW7VdtEeGZ",
        "outputId": "32eb7876-96fe-4bb9-d67c-01df86cffabb"
      },
      "source": [
        "torch.randn_like(x)"
      ],
      "execution_count": null,
      "outputs": [
        {
          "output_type": "execute_result",
          "data": {
            "text/plain": [
              "tensor([[-2.1720, -0.5320, -0.2723, -2.2208,  0.6706],\n",
              "        [-0.9269,  0.1065, -0.0064,  1.3220,  0.7413]])"
            ]
          },
          "metadata": {
            "tags": []
          },
          "execution_count": 118
        }
      ]
    },
    {
      "cell_type": "code",
      "metadata": {
        "id": "wK-kUGkxEeGZ",
        "outputId": "12a6e250-cb48-460b-dd95-2e1cb6bcbdd9"
      },
      "source": [
        "torch.randint_like(x, low=0, high=11)"
      ],
      "execution_count": null,
      "outputs": [
        {
          "output_type": "execute_result",
          "data": {
            "text/plain": [
              "tensor([[ 5.,  9.,  6.,  5.,  9.],\n",
              "        [ 5.,  8., 10.,  5.,  0.]])"
            ]
          },
          "metadata": {
            "tags": []
          },
          "execution_count": 119
        }
      ]
    },
    {
      "cell_type": "code",
      "metadata": {
        "id": "5QnUAtvMEeGZ",
        "outputId": "c8484fc1-6b09-4cd9-fc2a-aadfa9933f46"
      },
      "source": [
        "#set a seed to get the same random values each time\n",
        "torch.manual_seed(42)\n",
        "torch.rand(2,3)"
      ],
      "execution_count": null,
      "outputs": [
        {
          "output_type": "execute_result",
          "data": {
            "text/plain": [
              "tensor([[0.8823, 0.9150, 0.3829],\n",
              "        [0.9593, 0.3904, 0.6009]])"
            ]
          },
          "metadata": {
            "tags": []
          },
          "execution_count": 120
        }
      ]
    },
    {
      "cell_type": "code",
      "metadata": {
        "id": "UHoPXbQ5EeGZ"
      },
      "source": [
        "x = torch.arange(6).reshape(3,2)"
      ],
      "execution_count": null,
      "outputs": []
    },
    {
      "cell_type": "code",
      "metadata": {
        "id": "RBS9LhxoEeGZ",
        "outputId": "72d5131d-50ac-4452-f34a-ff557b24e90e"
      },
      "source": [
        "x"
      ],
      "execution_count": null,
      "outputs": [
        {
          "output_type": "execute_result",
          "data": {
            "text/plain": [
              "tensor([[0, 1],\n",
              "        [2, 3],\n",
              "        [4, 5]])"
            ]
          },
          "metadata": {
            "tags": []
          },
          "execution_count": 122
        }
      ]
    },
    {
      "cell_type": "code",
      "metadata": {
        "id": "_AVy9tkhEeGa",
        "outputId": "71323418-8ec0-4aaf-9311-b17137aae5ce"
      },
      "source": [
        "x[1,1]"
      ],
      "execution_count": null,
      "outputs": [
        {
          "output_type": "execute_result",
          "data": {
            "text/plain": [
              "tensor(3)"
            ]
          },
          "metadata": {
            "tags": []
          },
          "execution_count": 123
        }
      ]
    },
    {
      "cell_type": "code",
      "metadata": {
        "id": "GhGkogWvEeGa",
        "outputId": "fb77160e-4cb2-4dbb-a77d-3336c6e86104"
      },
      "source": [
        "x[:,1]"
      ],
      "execution_count": null,
      "outputs": [
        {
          "output_type": "execute_result",
          "data": {
            "text/plain": [
              "tensor([1, 3, 5])"
            ]
          },
          "metadata": {
            "tags": []
          },
          "execution_count": 124
        }
      ]
    },
    {
      "cell_type": "code",
      "metadata": {
        "id": "lMJtKZN-EeGa",
        "outputId": "f3849992-bfc1-4264-8579-e58b689e2e18"
      },
      "source": [
        "x[:,1:]"
      ],
      "execution_count": null,
      "outputs": [
        {
          "output_type": "execute_result",
          "data": {
            "text/plain": [
              "tensor([[1],\n",
              "        [3],\n",
              "        [5]])"
            ]
          },
          "metadata": {
            "tags": []
          },
          "execution_count": 125
        }
      ]
    },
    {
      "cell_type": "code",
      "metadata": {
        "id": "lXE1a9kvEeGa"
      },
      "source": [
        "x = torch.arange(10)"
      ],
      "execution_count": null,
      "outputs": []
    },
    {
      "cell_type": "code",
      "metadata": {
        "id": "1XnsLa4qEeGb",
        "outputId": "33604741-dd24-40fe-e9c6-8249dfe6e570"
      },
      "source": [
        "x"
      ],
      "execution_count": null,
      "outputs": [
        {
          "output_type": "execute_result",
          "data": {
            "text/plain": [
              "tensor([0, 1, 2, 3, 4, 5, 6, 7, 8, 9])"
            ]
          },
          "metadata": {
            "tags": []
          },
          "execution_count": 127
        }
      ]
    },
    {
      "cell_type": "code",
      "metadata": {
        "id": "bp4ddbjCEeGb",
        "outputId": "9b08dd1d-3d25-4a57-b03f-f8c522dc52d7"
      },
      "source": [
        "x.view(2,5)"
      ],
      "execution_count": null,
      "outputs": [
        {
          "output_type": "execute_result",
          "data": {
            "text/plain": [
              "tensor([[0, 1, 2, 3, 4],\n",
              "        [5, 6, 7, 8, 9]])"
            ]
          },
          "metadata": {
            "tags": []
          },
          "execution_count": 128
        }
      ]
    },
    {
      "cell_type": "code",
      "metadata": {
        "id": "WEc93uLkEeGc",
        "outputId": "17a8988f-bbea-4b4b-fc3c-8c14f41d2b03"
      },
      "source": [
        "x"
      ],
      "execution_count": null,
      "outputs": [
        {
          "output_type": "execute_result",
          "data": {
            "text/plain": [
              "tensor([0, 1, 2, 3, 4, 5, 6, 7, 8, 9])"
            ]
          },
          "metadata": {
            "tags": []
          },
          "execution_count": 129
        }
      ]
    },
    {
      "cell_type": "code",
      "metadata": {
        "id": "QKtePcXeEeGc",
        "outputId": "cdc94e79-cd8c-4a59-c147-5a35f6a765e7"
      },
      "source": [
        "x.reshape(2,5)"
      ],
      "execution_count": null,
      "outputs": [
        {
          "output_type": "execute_result",
          "data": {
            "text/plain": [
              "tensor([[0, 1, 2, 3, 4],\n",
              "        [5, 6, 7, 8, 9]])"
            ]
          },
          "metadata": {
            "tags": []
          },
          "execution_count": 130
        }
      ]
    },
    {
      "cell_type": "code",
      "metadata": {
        "id": "qrvP2z8EEeGd",
        "outputId": "748bbd21-848b-4fc4-9aec-96a141934904"
      },
      "source": [
        "x"
      ],
      "execution_count": null,
      "outputs": [
        {
          "output_type": "execute_result",
          "data": {
            "text/plain": [
              "tensor([0, 1, 2, 3, 4, 5, 6, 7, 8, 9])"
            ]
          },
          "metadata": {
            "tags": []
          },
          "execution_count": 131
        }
      ]
    },
    {
      "cell_type": "code",
      "metadata": {
        "id": "aW9apZXFEeGd",
        "outputId": "0b352727-42f9-4c06-e6b2-9d513751dcdd"
      },
      "source": [
        "x.shape"
      ],
      "execution_count": null,
      "outputs": [
        {
          "output_type": "execute_result",
          "data": {
            "text/plain": [
              "torch.Size([10])"
            ]
          },
          "metadata": {
            "tags": []
          },
          "execution_count": 132
        }
      ]
    },
    {
      "cell_type": "code",
      "metadata": {
        "id": "vowSmQ-ZEeGd",
        "outputId": "55d2a77a-75ac-4ceb-feae-b3db24e5d66b"
      },
      "source": [
        "#infer the dimension\n",
        "x.view(2,-1)"
      ],
      "execution_count": null,
      "outputs": [
        {
          "output_type": "execute_result",
          "data": {
            "text/plain": [
              "tensor([[0, 1, 2, 3, 4],\n",
              "        [5, 6, 7, 8, 9]])"
            ]
          },
          "metadata": {
            "tags": []
          },
          "execution_count": 133
        }
      ]
    },
    {
      "cell_type": "code",
      "metadata": {
        "id": "iII9yB1yEeGd"
      },
      "source": [
        "a= torch.tensor([1.,2.,3.])"
      ],
      "execution_count": null,
      "outputs": []
    },
    {
      "cell_type": "code",
      "metadata": {
        "id": "8g1sy4KQEeGd",
        "outputId": "113fe3c0-ce34-4f20-ab04-855517230b6f"
      },
      "source": [
        "a"
      ],
      "execution_count": null,
      "outputs": [
        {
          "output_type": "execute_result",
          "data": {
            "text/plain": [
              "tensor([1., 2., 3.])"
            ]
          },
          "metadata": {
            "tags": []
          },
          "execution_count": 135
        }
      ]
    },
    {
      "cell_type": "code",
      "metadata": {
        "id": "EIp7Ir53EeGd"
      },
      "source": [
        "b= torch.tensor([4.,5.,6.])"
      ],
      "execution_count": null,
      "outputs": []
    },
    {
      "cell_type": "code",
      "metadata": {
        "id": "y8ytjEUkEeGd",
        "outputId": "99f4daf5-0794-496b-c55f-08e5880c80cb"
      },
      "source": [
        "b"
      ],
      "execution_count": null,
      "outputs": [
        {
          "output_type": "execute_result",
          "data": {
            "text/plain": [
              "tensor([4., 5., 6.])"
            ]
          },
          "metadata": {
            "tags": []
          },
          "execution_count": 137
        }
      ]
    },
    {
      "cell_type": "code",
      "metadata": {
        "id": "Dv06qfuvEeGe",
        "outputId": "babb0f66-d181-4835-a99d-7e69481b417d"
      },
      "source": [
        "a + b"
      ],
      "execution_count": null,
      "outputs": [
        {
          "output_type": "execute_result",
          "data": {
            "text/plain": [
              "tensor([5., 7., 9.])"
            ]
          },
          "metadata": {
            "tags": []
          },
          "execution_count": 138
        }
      ]
    },
    {
      "cell_type": "code",
      "metadata": {
        "id": "-NC4zw9yEeGf",
        "outputId": "094568b9-f08a-4e3c-d0d5-c0bde304720c"
      },
      "source": [
        "torch.add(a,b)"
      ],
      "execution_count": null,
      "outputs": [
        {
          "output_type": "execute_result",
          "data": {
            "text/plain": [
              "tensor([5., 7., 9.])"
            ]
          },
          "metadata": {
            "tags": []
          },
          "execution_count": 139
        }
      ]
    },
    {
      "cell_type": "code",
      "metadata": {
        "id": "Jkmeb9vGEeGf",
        "outputId": "4838b14a-2f4c-4e57-83d3-dfbec46c2817"
      },
      "source": [
        "a.mul(b)"
      ],
      "execution_count": null,
      "outputs": [
        {
          "output_type": "execute_result",
          "data": {
            "text/plain": [
              "tensor([ 4., 10., 18.])"
            ]
          },
          "metadata": {
            "tags": []
          },
          "execution_count": 140
        }
      ]
    },
    {
      "cell_type": "code",
      "metadata": {
        "id": "cqEPYWsQEeGf",
        "outputId": "09de2720-5d65-4253-e06f-063a275dc494"
      },
      "source": [
        "a"
      ],
      "execution_count": null,
      "outputs": [
        {
          "output_type": "execute_result",
          "data": {
            "text/plain": [
              "tensor([1., 2., 3.])"
            ]
          },
          "metadata": {
            "tags": []
          },
          "execution_count": 141
        }
      ]
    },
    {
      "cell_type": "code",
      "metadata": {
        "id": "rHBiepKXEeGf",
        "outputId": "28235b34-38a5-4db3-b63d-d5f86fb62c4e"
      },
      "source": [
        "a.mul_(b)"
      ],
      "execution_count": null,
      "outputs": [
        {
          "output_type": "execute_result",
          "data": {
            "text/plain": [
              "tensor([ 4., 10., 18.])"
            ]
          },
          "metadata": {
            "tags": []
          },
          "execution_count": 142
        }
      ]
    },
    {
      "cell_type": "code",
      "metadata": {
        "id": "mCYkH8abEeGf",
        "outputId": "892ae10c-3e75-4e71-fd64-a1db9f17f6ef"
      },
      "source": [
        "a"
      ],
      "execution_count": null,
      "outputs": [
        {
          "output_type": "execute_result",
          "data": {
            "text/plain": [
              "tensor([ 4., 10., 18.])"
            ]
          },
          "metadata": {
            "tags": []
          },
          "execution_count": 143
        }
      ]
    },
    {
      "cell_type": "code",
      "metadata": {
        "id": "-FL4KhSUEeGf",
        "outputId": "a46cd958-2f68-4c84-e8eb-9077cb03f1f6"
      },
      "source": [
        "#dot product\n",
        "a.dot(b)"
      ],
      "execution_count": null,
      "outputs": [
        {
          "output_type": "execute_result",
          "data": {
            "text/plain": [
              "tensor(174.)"
            ]
          },
          "metadata": {
            "tags": []
          },
          "execution_count": 144
        }
      ]
    },
    {
      "cell_type": "code",
      "metadata": {
        "id": "lrqbP3FqEeGg"
      },
      "source": [
        "a = torch.tensor([[0,1,2],[3,4,5]])"
      ],
      "execution_count": null,
      "outputs": []
    },
    {
      "cell_type": "code",
      "metadata": {
        "id": "H1VWpUpWEeGg",
        "outputId": "3559c5d4-3a3a-44d3-8539-c229ee17c80c"
      },
      "source": [
        "a"
      ],
      "execution_count": null,
      "outputs": [
        {
          "output_type": "execute_result",
          "data": {
            "text/plain": [
              "tensor([[0, 1, 2],\n",
              "        [3, 4, 5]])"
            ]
          },
          "metadata": {
            "tags": []
          },
          "execution_count": 146
        }
      ]
    },
    {
      "cell_type": "code",
      "metadata": {
        "id": "N4vdZLFYEeGg"
      },
      "source": [
        "b = torch.tensor([[6,7],[8,9],[10,11]])"
      ],
      "execution_count": null,
      "outputs": []
    },
    {
      "cell_type": "code",
      "metadata": {
        "id": "TmmRN07mEeGg",
        "outputId": "18d32f8b-7311-44ec-c0a0-7f76d79f0eab"
      },
      "source": [
        "b"
      ],
      "execution_count": null,
      "outputs": [
        {
          "output_type": "execute_result",
          "data": {
            "text/plain": [
              "tensor([[ 6,  7],\n",
              "        [ 8,  9],\n",
              "        [10, 11]])"
            ]
          },
          "metadata": {
            "tags": []
          },
          "execution_count": 148
        }
      ]
    },
    {
      "cell_type": "code",
      "metadata": {
        "id": "6pOtzEDmEeGh",
        "outputId": "966fe072-6fd0-4c23-ac4d-2317e86fc815"
      },
      "source": [
        "a.shape"
      ],
      "execution_count": null,
      "outputs": [
        {
          "output_type": "execute_result",
          "data": {
            "text/plain": [
              "torch.Size([2, 3])"
            ]
          },
          "metadata": {
            "tags": []
          },
          "execution_count": 149
        }
      ]
    },
    {
      "cell_type": "code",
      "metadata": {
        "id": "1qnrvSUwEeGi",
        "outputId": "03006d79-91b1-4eeb-ef50-090c6e44b74c"
      },
      "source": [
        "b.shape"
      ],
      "execution_count": null,
      "outputs": [
        {
          "output_type": "execute_result",
          "data": {
            "text/plain": [
              "torch.Size([3, 2])"
            ]
          },
          "metadata": {
            "tags": []
          },
          "execution_count": 150
        }
      ]
    },
    {
      "cell_type": "code",
      "metadata": {
        "id": "7hr-5uEOEeGi",
        "outputId": "f3b6ed30-cdb8-43c0-be93-f87a0687897f"
      },
      "source": [
        "#matrix multiplication \n",
        "torch.mm(a,b)"
      ],
      "execution_count": null,
      "outputs": [
        {
          "output_type": "execute_result",
          "data": {
            "text/plain": [
              "tensor([[ 28,  31],\n",
              "        [100, 112]])"
            ]
          },
          "metadata": {
            "tags": []
          },
          "execution_count": 151
        }
      ]
    },
    {
      "cell_type": "code",
      "metadata": {
        "id": "8pwYSLwoEeGi"
      },
      "source": [
        "x = torch.tensor([2.,3.,4.,5.])"
      ],
      "execution_count": null,
      "outputs": []
    },
    {
      "cell_type": "code",
      "metadata": {
        "id": "Zu76b2qHEeGi",
        "outputId": "6eda8e30-37ee-4763-a7b0-c1a9e8b183ed"
      },
      "source": [
        "x"
      ],
      "execution_count": null,
      "outputs": [
        {
          "output_type": "execute_result",
          "data": {
            "text/plain": [
              "tensor([2., 3., 4., 5.])"
            ]
          },
          "metadata": {
            "tags": []
          },
          "execution_count": 153
        }
      ]
    },
    {
      "cell_type": "code",
      "metadata": {
        "id": "e7fb2wIOEeGi",
        "outputId": "daf9254e-37ce-4ec6-a3e3-33848b28fd3c"
      },
      "source": [
        "x.norm()"
      ],
      "execution_count": null,
      "outputs": [
        {
          "output_type": "execute_result",
          "data": {
            "text/plain": [
              "tensor(7.3485)"
            ]
          },
          "metadata": {
            "tags": []
          },
          "execution_count": 154
        }
      ]
    },
    {
      "cell_type": "code",
      "metadata": {
        "id": "4EP3oH-qEeGi",
        "outputId": "396f37e6-2294-4c02-dcb4-3d6066af982a"
      },
      "source": [
        "x.numel()"
      ],
      "execution_count": null,
      "outputs": [
        {
          "output_type": "execute_result",
          "data": {
            "text/plain": [
              "4"
            ]
          },
          "metadata": {
            "tags": []
          },
          "execution_count": 155
        }
      ]
    },
    {
      "cell_type": "markdown",
      "metadata": {
        "id": "HvdOeh6-HKVP"
      },
      "source": [
        "# Artificial Neural Networks"
      ]
    },
    {
      "cell_type": "markdown",
      "metadata": {
        "id": "FA4NXv63EeGi"
      },
      "source": [
        "## Pytorch gradients"
      ]
    },
    {
      "cell_type": "code",
      "metadata": {
        "id": "00eGyF25EeGj"
      },
      "source": [
        "x = torch.tensor(2.0, requires_grad=True)"
      ],
      "execution_count": null,
      "outputs": []
    },
    {
      "cell_type": "code",
      "metadata": {
        "id": "jNz6n_KUEeGj",
        "outputId": "c80ed242-c92e-40ad-ecb7-30774bc46925"
      },
      "source": [
        "y = 2*x**4 + x**3 + 3*x**2 + 5*x + 1\n",
        "\n",
        "print(y)"
      ],
      "execution_count": null,
      "outputs": [
        {
          "output_type": "stream",
          "text": [
            "tensor(63., grad_fn=<AddBackward0>)\n"
          ],
          "name": "stdout"
        }
      ]
    },
    {
      "cell_type": "code",
      "metadata": {
        "id": "gZfzBzUqEeGj"
      },
      "source": [
        "y.backward()"
      ],
      "execution_count": null,
      "outputs": []
    },
    {
      "cell_type": "code",
      "metadata": {
        "id": "VUSe7TjDEeGj",
        "outputId": "9b72acc1-d101-4762-9793-2de00fa03690"
      },
      "source": [
        "print(x.grad)"
      ],
      "execution_count": null,
      "outputs": [
        {
          "output_type": "stream",
          "text": [
            "tensor(93.)\n"
          ],
          "name": "stdout"
        }
      ]
    },
    {
      "cell_type": "code",
      "metadata": {
        "id": "nM53d9Q7EeGj",
        "outputId": "3d0db31f-c690-436e-d310-75046ba34a2a"
      },
      "source": [
        "x = torch.tensor([[1.,2,3],[3,2,1]], requires_grad=True)\n",
        "print(x)"
      ],
      "execution_count": null,
      "outputs": [
        {
          "output_type": "stream",
          "text": [
            "tensor([[1., 2., 3.],\n",
            "        [3., 2., 1.]], requires_grad=True)\n"
          ],
          "name": "stdout"
        }
      ]
    },
    {
      "cell_type": "code",
      "metadata": {
        "id": "f6EQmZxlEeGk",
        "outputId": "f4aae1ae-676a-4901-d920-9f5cc65e16d8"
      },
      "source": [
        "y = 3*x + 2\n",
        "print(y)"
      ],
      "execution_count": null,
      "outputs": [
        {
          "output_type": "stream",
          "text": [
            "tensor([[ 5.,  8., 11.],\n",
            "        [11.,  8.,  5.]], grad_fn=<AddBackward0>)\n"
          ],
          "name": "stdout"
        }
      ]
    },
    {
      "cell_type": "code",
      "metadata": {
        "id": "NdPWYyygEeGk",
        "outputId": "6bb58042-835f-43ed-a0c9-668ccff8c068"
      },
      "source": [
        "z = 2*y**2\n",
        "print(z)"
      ],
      "execution_count": null,
      "outputs": [
        {
          "output_type": "stream",
          "text": [
            "tensor([[ 50., 128., 242.],\n",
            "        [242., 128.,  50.]], grad_fn=<MulBackward0>)\n"
          ],
          "name": "stdout"
        }
      ]
    },
    {
      "cell_type": "code",
      "metadata": {
        "id": "FtMl_DTbEeGl",
        "outputId": "5aacd9b6-4cd6-415f-f24b-61807503eef0"
      },
      "source": [
        "out = z.mean()\n",
        "print(out)"
      ],
      "execution_count": null,
      "outputs": [
        {
          "output_type": "stream",
          "text": [
            "tensor(140., grad_fn=<MeanBackward0>)\n"
          ],
          "name": "stdout"
        }
      ]
    },
    {
      "cell_type": "code",
      "metadata": {
        "id": "od-1r4gmEeGl",
        "outputId": "46d6c1ab-59b9-4daf-b401-574d80b1268f"
      },
      "source": [
        "out.backward()\n",
        "print(x.grad)"
      ],
      "execution_count": null,
      "outputs": [
        {
          "output_type": "stream",
          "text": [
            "tensor([[10., 16., 22.],\n",
            "        [22., 16., 10.]])\n"
          ],
          "name": "stdout"
        }
      ]
    },
    {
      "cell_type": "markdown",
      "metadata": {
        "id": "N8ik4PfJEeGl"
      },
      "source": [
        "## Linear Regression"
      ]
    },
    {
      "cell_type": "code",
      "metadata": {
        "id": "cHg7CJUyEeGl"
      },
      "source": [
        "import matplotlib.pyplot as plt\n",
        "%matplotlib inline\n",
        "import torch\n",
        "import numpy as np"
      ],
      "execution_count": null,
      "outputs": []
    },
    {
      "cell_type": "code",
      "metadata": {
        "id": "rVb2r791EeGl"
      },
      "source": [
        "import torch.nn as nn"
      ],
      "execution_count": null,
      "outputs": []
    },
    {
      "cell_type": "code",
      "metadata": {
        "id": "Hj-XcWT4EeGl"
      },
      "source": [
        "X = torch.linspace(1,50,50).reshape(-1,1)"
      ],
      "execution_count": null,
      "outputs": []
    },
    {
      "cell_type": "code",
      "metadata": {
        "id": "BfoYhFyQEeGl",
        "colab": {
          "base_uri": "https://localhost:8080/"
        },
        "outputId": "12b16c8c-dccf-4649-a7e8-e21f7f2eedf8"
      },
      "source": [
        "X"
      ],
      "execution_count": null,
      "outputs": [
        {
          "output_type": "execute_result",
          "data": {
            "text/plain": [
              "tensor([[ 1.],\n",
              "        [ 2.],\n",
              "        [ 3.],\n",
              "        [ 4.],\n",
              "        [ 5.],\n",
              "        [ 6.],\n",
              "        [ 7.],\n",
              "        [ 8.],\n",
              "        [ 9.],\n",
              "        [10.],\n",
              "        [11.],\n",
              "        [12.],\n",
              "        [13.],\n",
              "        [14.],\n",
              "        [15.],\n",
              "        [16.],\n",
              "        [17.],\n",
              "        [18.],\n",
              "        [19.],\n",
              "        [20.],\n",
              "        [21.],\n",
              "        [22.],\n",
              "        [23.],\n",
              "        [24.],\n",
              "        [25.],\n",
              "        [26.],\n",
              "        [27.],\n",
              "        [28.],\n",
              "        [29.],\n",
              "        [30.],\n",
              "        [31.],\n",
              "        [32.],\n",
              "        [33.],\n",
              "        [34.],\n",
              "        [35.],\n",
              "        [36.],\n",
              "        [37.],\n",
              "        [38.],\n",
              "        [39.],\n",
              "        [40.],\n",
              "        [41.],\n",
              "        [42.],\n",
              "        [43.],\n",
              "        [44.],\n",
              "        [45.],\n",
              "        [46.],\n",
              "        [47.],\n",
              "        [48.],\n",
              "        [49.],\n",
              "        [50.]])"
            ]
          },
          "metadata": {
            "tags": []
          },
          "execution_count": 5
        }
      ]
    },
    {
      "cell_type": "code",
      "metadata": {
        "id": "z3dkdBX6EeGm"
      },
      "source": [
        "torch.manual_seed(71)\n",
        "e = torch.randint(-8,9,(50,1),dtype=float)"
      ],
      "execution_count": null,
      "outputs": []
    },
    {
      "cell_type": "code",
      "metadata": {
        "id": "5HZXpwAIEeGm",
        "colab": {
          "base_uri": "https://localhost:8080/"
        },
        "outputId": "5aaca6a8-e2b3-4814-c5f6-20ee15e8abb6"
      },
      "source": [
        "e"
      ],
      "execution_count": null,
      "outputs": [
        {
          "output_type": "execute_result",
          "data": {
            "text/plain": [
              "tensor([[ 2.],\n",
              "        [ 7.],\n",
              "        [ 2.],\n",
              "        [ 6.],\n",
              "        [ 2.],\n",
              "        [-4.],\n",
              "        [ 2.],\n",
              "        [-5.],\n",
              "        [ 4.],\n",
              "        [ 1.],\n",
              "        [ 2.],\n",
              "        [ 3.],\n",
              "        [ 1.],\n",
              "        [-8.],\n",
              "        [ 5.],\n",
              "        [ 5.],\n",
              "        [-6.],\n",
              "        [ 0.],\n",
              "        [-7.],\n",
              "        [-8.],\n",
              "        [-3.],\n",
              "        [-1.],\n",
              "        [ 2.],\n",
              "        [-6.],\n",
              "        [-3.],\n",
              "        [ 3.],\n",
              "        [ 2.],\n",
              "        [ 3.],\n",
              "        [ 4.],\n",
              "        [ 5.],\n",
              "        [ 1.],\n",
              "        [ 7.],\n",
              "        [ 6.],\n",
              "        [-1.],\n",
              "        [-6.],\n",
              "        [-5.],\n",
              "        [-3.],\n",
              "        [ 7.],\n",
              "        [ 0.],\n",
              "        [ 8.],\n",
              "        [-1.],\n",
              "        [-2.],\n",
              "        [ 2.],\n",
              "        [-8.],\n",
              "        [-1.],\n",
              "        [ 6.],\n",
              "        [-8.],\n",
              "        [-3.],\n",
              "        [-7.],\n",
              "        [-2.]], dtype=torch.float64)"
            ]
          },
          "metadata": {
            "tags": []
          },
          "execution_count": 7
        }
      ]
    },
    {
      "cell_type": "code",
      "metadata": {
        "id": "hRKC8JNQEeGm"
      },
      "source": [
        "y = 2*X + 1 + e"
      ],
      "execution_count": null,
      "outputs": []
    },
    {
      "cell_type": "code",
      "metadata": {
        "id": "gq0dghnlEeGm",
        "colab": {
          "base_uri": "https://localhost:8080/",
          "height": 283
        },
        "outputId": "1a7ae4c1-3d32-496a-cdaa-1288cc999228"
      },
      "source": [
        "#convert a tensor into a numpy array\n",
        "plt.scatter(X.numpy(),y.numpy())"
      ],
      "execution_count": null,
      "outputs": [
        {
          "output_type": "execute_result",
          "data": {
            "text/plain": [
              "<matplotlib.collections.PathCollection at 0x7f8557bd3518>"
            ]
          },
          "metadata": {
            "tags": []
          },
          "execution_count": 9
        },
        {
          "output_type": "display_data",
          "data": {
            "image/png": "[encoded data removed]",
            "text/plain": [
              "<Figure size 432x288 with 1 Axes>"
            ]
          },
          "metadata": {
            "tags": [],
            "needs_background": "light"
          }
        }
      ]
    },
    {
      "cell_type": "code",
      "metadata": {
        "id": "LFQdpbsWEeGn",
        "colab": {
          "base_uri": "https://localhost:8080/"
        },
        "outputId": "1bf62494-f350-4290-b37a-8cdb329c209a"
      },
      "source": [
        "torch.manual_seed(59)\r\n",
        "\r\n",
        "model = nn.Linear(in_features=1,out_features=1)\r\n",
        "print(model.weight)\r\n",
        "print(model.bias)"
      ],
      "execution_count": null,
      "outputs": [
        {
          "output_type": "stream",
          "text": [
            "Parameter containing:\n",
            "tensor([[0.1060]], requires_grad=True)\n",
            "Parameter containing:\n",
            "tensor([0.9638], requires_grad=True)\n"
          ],
          "name": "stdout"
        }
      ]
    },
    {
      "cell_type": "code",
      "metadata": {
        "id": "-13QQFo7NPNb"
      },
      "source": [
        "class Model(nn.Module):\r\n",
        "\r\n",
        "  def __init__(self,in_features,out_features):\r\n",
        "\r\n",
        "    super().__init__()\r\n",
        "    self.linear = nn.Linear(in_features,out_features)\r\n",
        "\r\n",
        "  def forward(self,x):\r\n",
        "    y_pred = self.linear(x)\r\n",
        "    return y_pred\r\n"
      ],
      "execution_count": null,
      "outputs": []
    },
    {
      "cell_type": "code",
      "metadata": {
        "colab": {
          "base_uri": "https://localhost:8080/"
        },
        "id": "WuaYmYKMPRFS",
        "outputId": "45e81e1a-d3c2-4e06-ee47-6cc028c9f45b"
      },
      "source": [
        "torch.manual_seed(59)\r\n",
        "\r\n",
        "model = Model(1,1)\r\n",
        "\r\n",
        "print(model.linear.weight)\r\n",
        "print(model.linear.bias)"
      ],
      "execution_count": null,
      "outputs": [
        {
          "output_type": "stream",
          "text": [
            "Parameter containing:\n",
            "tensor([[0.1060]], requires_grad=True)\n",
            "Parameter containing:\n",
            "tensor([0.9638], requires_grad=True)\n"
          ],
          "name": "stdout"
        }
      ]
    },
    {
      "cell_type": "code",
      "metadata": {
        "colab": {
          "base_uri": "https://localhost:8080/"
        },
        "id": "6-C4N14Kq_J5",
        "outputId": "6128fd9a-edcd-4ad0-db08-359afd0d8df5"
      },
      "source": [
        "#when we have more params there is a better way to list them all\r\n",
        "for name, param in model.named_parameters():\r\n",
        "  print(name, '\\t', param.item())"
      ],
      "execution_count": null,
      "outputs": [
        {
          "output_type": "stream",
          "text": [
            "linear.weight \t 0.10597813129425049\n",
            "linear.bias \t 0.9637961387634277\n"
          ],
          "name": "stdout"
        }
      ]
    },
    {
      "cell_type": "code",
      "metadata": {
        "colab": {
          "base_uri": "https://localhost:8080/"
        },
        "id": "2TNCuHR1rp0N",
        "outputId": "1ed79c15-6e9d-426a-8421-aea5a2365418"
      },
      "source": [
        "x = torch.tensor([2.0])\r\n",
        "print(model.forward(x))"
      ],
      "execution_count": null,
      "outputs": [
        {
          "output_type": "stream",
          "text": [
            "tensor([1.1758], grad_fn=<AddBackward0>)\n"
          ],
          "name": "stdout"
        }
      ]
    },
    {
      "cell_type": "code",
      "metadata": {
        "id": "Pm-Nyb-xu5X3"
      },
      "source": [
        "x1 = np.linspace(0.0, 50.0, 50)"
      ],
      "execution_count": null,
      "outputs": []
    },
    {
      "cell_type": "code",
      "metadata": {
        "colab": {
          "base_uri": "https://localhost:8080/"
        },
        "id": "KQK-FLoUvvOH",
        "outputId": "525879e0-f5a0-4ee7-bd22-61d4e0a5d3d8"
      },
      "source": [
        "x1"
      ],
      "execution_count": null,
      "outputs": [
        {
          "output_type": "execute_result",
          "data": {
            "text/plain": [
              "array([ 0.        ,  1.02040816,  2.04081633,  3.06122449,  4.08163265,\n",
              "        5.10204082,  6.12244898,  7.14285714,  8.16326531,  9.18367347,\n",
              "       10.20408163, 11.2244898 , 12.24489796, 13.26530612, 14.28571429,\n",
              "       15.30612245, 16.32653061, 17.34693878, 18.36734694, 19.3877551 ,\n",
              "       20.40816327, 21.42857143, 22.44897959, 23.46938776, 24.48979592,\n",
              "       25.51020408, 26.53061224, 27.55102041, 28.57142857, 29.59183673,\n",
              "       30.6122449 , 31.63265306, 32.65306122, 33.67346939, 34.69387755,\n",
              "       35.71428571, 36.73469388, 37.75510204, 38.7755102 , 39.79591837,\n",
              "       40.81632653, 41.83673469, 42.85714286, 43.87755102, 44.89795918,\n",
              "       45.91836735, 46.93877551, 47.95918367, 48.97959184, 50.        ])"
            ]
          },
          "metadata": {
            "tags": []
          },
          "execution_count": 16
        }
      ]
    },
    {
      "cell_type": "code",
      "metadata": {
        "id": "3a3J0PV2vwDv"
      },
      "source": [
        "w1 = 0.1059\r\n",
        "b1 = 0.9637\r\n",
        "\r\n",
        "y1 = w1*x1 + b1"
      ],
      "execution_count": null,
      "outputs": []
    },
    {
      "cell_type": "code",
      "metadata": {
        "colab": {
          "base_uri": "https://localhost:8080/"
        },
        "id": "b01Ak5X0wEQ2",
        "outputId": "cc697580-4819-4ead-d196-aec4b2685cad"
      },
      "source": [
        "y1"
      ],
      "execution_count": null,
      "outputs": [
        {
          "output_type": "execute_result",
          "data": {
            "text/plain": [
              "array([0.9637    , 1.07176122, 1.17982245, 1.28788367, 1.3959449 ,\n",
              "       1.50400612, 1.61206735, 1.72012857, 1.8281898 , 1.93625102,\n",
              "       2.04431224, 2.15237347, 2.26043469, 2.36849592, 2.47655714,\n",
              "       2.58461837, 2.69267959, 2.80074082, 2.90880204, 3.01686327,\n",
              "       3.12492449, 3.23298571, 3.34104694, 3.44910816, 3.55716939,\n",
              "       3.66523061, 3.77329184, 3.88135306, 3.98941429, 4.09747551,\n",
              "       4.20553673, 4.31359796, 4.42165918, 4.52972041, 4.63778163,\n",
              "       4.74584286, 4.85390408, 4.96196531, 5.07002653, 5.17808776,\n",
              "       5.28614898, 5.3942102 , 5.50227143, 5.61033265, 5.71839388,\n",
              "       5.8264551 , 5.93451633, 6.04257755, 6.15063878, 6.2587    ])"
            ]
          },
          "metadata": {
            "tags": []
          },
          "execution_count": 18
        }
      ]
    },
    {
      "cell_type": "code",
      "metadata": {
        "colab": {
          "base_uri": "https://localhost:8080/",
          "height": 283
        },
        "id": "obMN9d9ywFcW",
        "outputId": "6c28e9b2-0101-4ab3-c6d4-e5862c53dc46"
      },
      "source": [
        "plt.scatter(X.numpy(),y.numpy())\r\n",
        "plt.plot(x1,y1, 'r')"
      ],
      "execution_count": null,
      "outputs": [
        {
          "output_type": "execute_result",
          "data": {
            "text/plain": [
              "[<matplotlib.lines.Line2D at 0x7f8557b82780>]"
            ]
          },
          "metadata": {
            "tags": []
          },
          "execution_count": 19
        },
        {
          "output_type": "display_data",
          "data": {
            "image/png": "[encoded data removed]",
            "text/plain": [
              "<Figure size 432x288 with 1 Axes>"
            ]
          },
          "metadata": {
            "tags": [],
            "needs_background": "light"
          }
        }
      ]
    },
    {
      "cell_type": "code",
      "metadata": {
        "id": "1NIlcFhowIzq"
      },
      "source": [
        "criterion = nn.MSELoss()"
      ],
      "execution_count": null,
      "outputs": []
    },
    {
      "cell_type": "code",
      "metadata": {
        "id": "35sTXOSe_--1"
      },
      "source": [
        "optimizer = torch.optim.SGD(model.parameters(), lr=0.001)"
      ],
      "execution_count": null,
      "outputs": []
    },
    {
      "cell_type": "code",
      "metadata": {
        "colab": {
          "base_uri": "https://localhost:8080/"
        },
        "id": "ia1goyXFAPAe",
        "outputId": "bf785712-15cf-4eb5-d3fe-038d3f6e8006"
      },
      "source": [
        "epochs = 50\r\n",
        "losses = []\r\n",
        "\r\n",
        "for i in range(epochs):\r\n",
        "\r\n",
        "  i = i+1\r\n",
        "\r\n",
        "  #PREDICTING ON THE FORWARD PASS\r\n",
        "  y_pred = model.forward(X)\r\n",
        "\r\n",
        "  #CALCULATE OUR LOSS (ERROR)\r\n",
        "  loss = criterion(y_pred,y.float())\r\n",
        "\r\n",
        "  #RECORD THAT ERROR\r\n",
        "  losses.append(loss)\r\n",
        "\r\n",
        "  print(f\"epoch: {i} loss: {loss.item()} weight: {model.linear.weight.item()} bias: {model.linear.bias.item()}\")\r\n",
        "\r\n",
        "  optimizer.zero_grad()\r\n",
        "  \r\n",
        "  #BACKPROPAGATION STEP\r\n",
        "  loss.backward()\r\n",
        "  optimizer.step()\r\n"
      ],
      "execution_count": null,
      "outputs": [
        {
          "output_type": "stream",
          "text": [
            "epoch: 1 loss: 3057.216796875 weight: 0.10597813129425049 bias: 0.9637961387634277\n",
            "epoch: 2 loss: 1588.5306396484375 weight: 3.334900140762329 bias: 1.0604636669158936\n",
            "epoch: 3 loss: 830.2999267578125 weight: 1.014832854270935 bias: 0.9922628402709961\n",
            "epoch: 4 loss: 438.8521728515625 weight: 2.6817994117736816 bias: 1.0425218343734741\n",
            "epoch: 5 loss: 236.76144409179688 weight: 1.4840213060379028 bias: 1.0076650381088257\n",
            "epoch: 6 loss: 132.4291229248047 weight: 2.3446059226989746 bias: 1.0339646339416504\n",
            "epoch: 7 loss: 78.56572723388672 weight: 1.7262253761291504 bias: 1.0163217782974243\n",
            "epoch: 8 loss: 50.75775909423828 weight: 2.170504093170166 bias: 1.0302516222000122\n",
            "epoch: 9 loss: 36.4012336730957 weight: 1.8512457609176636 bias: 1.0214954614639282\n",
            "epoch: 10 loss: 28.989229202270508 weight: 2.0806007385253906 bias: 1.029038906097412\n",
            "epoch: 11 loss: 25.162382125854492 weight: 1.9157683849334717 bias: 1.0248701572418213\n",
            "epoch: 12 loss: 23.186473846435547 weight: 2.034165620803833 bias: 1.0291162729263306\n",
            "epoch: 13 loss: 22.166126251220703 weight: 1.9490584135055542 bias: 1.027315616607666\n",
            "epoch: 14 loss: 21.639110565185547 weight: 2.010172128677368 bias: 1.0298590660095215\n",
            "epoch: 15 loss: 21.366771697998047 weight: 1.9662237167358398 bias: 1.0292805433273315\n",
            "epoch: 16 loss: 21.22591781616211 weight: 1.997764229774475 bias: 1.030944585800171\n",
            "epoch: 17 loss: 21.15294647216797 weight: 1.9750648736953735 bias: 1.0309966802597046\n",
            "epoch: 18 loss: 21.115009307861328 weight: 1.991337537765503 bias: 1.032206416130066\n",
            "epoch: 19 loss: 21.095176696777344 weight: 1.9796085357666016 bias: 1.0325838327407837\n",
            "epoch: 20 loss: 21.084684371948242 weight: 1.9879988431930542 bias: 1.0335586071014404\n",
            "epoch: 21 loss: 21.07901382446289 weight: 1.981933355331421 bias: 1.034103512763977\n",
            "epoch: 22 loss: 21.075830459594727 weight: 1.9862544536590576 bias: 1.034956693649292\n",
            "epoch: 23 loss: 21.073938369750977 weight: 1.9831126928329468 bias: 1.0355877876281738\n",
            "epoch: 24 loss: 21.07270050048828 weight: 1.9853330850601196 bias: 1.0363779067993164\n",
            "epoch: 25 loss: 21.071819305419922 weight: 1.9837009906768799 bias: 1.037053108215332\n",
            "epoch: 26 loss: 21.07110595703125 weight: 1.9848365783691406 bias: 1.037810206413269\n",
            "epoch: 27 loss: 21.070486068725586 weight: 1.9839837551116943 bias: 1.0385079383850098\n",
            "epoch: 28 loss: 21.069913864135742 weight: 1.9845597743988037 bias: 1.039247751235962\n",
            "epoch: 29 loss: 21.069368362426758 weight: 1.9841090440750122 bias: 1.0399566888809204\n",
            "epoch: 30 loss: 21.068838119506836 weight: 1.9843961000442505 bias: 1.0406872034072876\n",
            "epoch: 31 loss: 21.068307876586914 weight: 1.984152913093567 bias: 1.0414016246795654\n",
            "epoch: 32 loss: 21.067781448364258 weight: 1.9842908382415771 bias: 1.042127013206482\n",
            "epoch: 33 loss: 21.0672607421875 weight: 1.9841549396514893 bias: 1.0428439378738403\n",
            "epoch: 34 loss: 21.066740036010742 weight: 1.9842157363891602 bias: 1.043566346168518\n",
            "epoch: 35 loss: 21.066225051879883 weight: 1.9841355085372925 bias: 1.0442842245101929\n",
            "epoch: 36 loss: 21.06570816040039 weight: 1.9841564893722534 bias: 1.0450047254562378\n",
            "epoch: 37 loss: 21.065187454223633 weight: 1.9841045141220093 bias: 1.0457227230072021\n",
            "epoch: 38 loss: 21.064668655395508 weight: 1.9841052293777466 bias: 1.046441912651062\n",
            "epoch: 39 loss: 21.064157485961914 weight: 1.9840680360794067 bias: 1.0471596717834473\n",
            "epoch: 40 loss: 21.063636779785156 weight: 1.984058141708374 bias: 1.0478779077529907\n",
            "epoch: 41 loss: 21.063125610351562 weight: 1.984028697013855 bias: 1.0485951900482178\n",
            "epoch: 42 loss: 21.062606811523438 weight: 1.9840131998062134 bias: 1.0493125915527344\n",
            "epoch: 43 loss: 21.062095642089844 weight: 1.98398756980896 bias: 1.0500292778015137\n",
            "epoch: 44 loss: 21.06157684326172 weight: 1.9839695692062378 bias: 1.0507458448410034\n",
            "epoch: 45 loss: 21.06106948852539 weight: 1.9839458465576172 bias: 1.051461935043335\n",
            "epoch: 46 loss: 21.06055450439453 weight: 1.9839262962341309 bias: 1.0521777868270874\n",
            "epoch: 47 loss: 21.060043334960938 weight: 1.9839037656784058 bias: 1.0528931617736816\n",
            "epoch: 48 loss: 21.059532165527344 weight: 1.9838833808898926 bias: 1.0536082983016968\n",
            "epoch: 49 loss: 21.05901336669922 weight: 1.9838614463806152 bias: 1.0543230772018433\n",
            "epoch: 50 loss: 21.058509826660156 weight: 1.9838409423828125 bias: 1.055037498474121\n"
          ],
          "name": "stdout"
        }
      ]
    },
    {
      "cell_type": "code",
      "metadata": {
        "colab": {
          "base_uri": "https://localhost:8080/",
          "height": 297
        },
        "id": "oNfwuYuRDonm",
        "outputId": "2b121a69-79e6-4332-db7c-fcccce012f5b"
      },
      "source": [
        "plt.plot(range(epochs),losses)\r\n",
        "plt.xlabel(\"Epoch \")\r\n",
        "plt.ylabel(\"MSE loss\")"
      ],
      "execution_count": null,
      "outputs": [
        {
          "output_type": "execute_result",
          "data": {
            "text/plain": [
              "Text(0, 0.5, 'MSE loss')"
            ]
          },
          "metadata": {
            "tags": []
          },
          "execution_count": 23
        },
        {
          "output_type": "display_data",
          "data": {
            "image/png": "[encoded data removed]",
            "text/plain": [
              "<Figure size 432x288 with 1 Axes>"
            ]
          },
          "metadata": {
            "tags": [],
            "needs_background": "light"
          }
        }
      ]
    },
    {
      "cell_type": "code",
      "metadata": {
        "id": "4FAFZAO0KYvF"
      },
      "source": [
        "x = np.linspace(0.0,50.0,50)\r\n",
        "current_weight = model.linear.weight.item()\r\n",
        "current_bias = model.linear.bias.item()\r\n",
        "\r\n",
        "predicted_y = current_weight*x + current_bias"
      ],
      "execution_count": null,
      "outputs": []
    },
    {
      "cell_type": "code",
      "metadata": {
        "colab": {
          "base_uri": "https://localhost:8080/",
          "height": 283
        },
        "id": "i22-FuaLMrx7",
        "outputId": "f0d06cfb-38e8-470b-9464-eb17830e9240"
      },
      "source": [
        "plt.scatter(X.numpy(),y.numpy())\r\n",
        "plt.plot(x,predicted_y, 'r')"
      ],
      "execution_count": null,
      "outputs": [
        {
          "output_type": "execute_result",
          "data": {
            "text/plain": [
              "[<matplotlib.lines.Line2D at 0x7f855767c240>]"
            ]
          },
          "metadata": {
            "tags": []
          },
          "execution_count": 26
        },
        {
          "output_type": "display_data",
          "data": {
            "image/png": "[encoded data removed]",
            "text/plain": [
              "<Figure size 432x288 with 1 Axes>"
            ]
          },
          "metadata": {
            "tags": [],
            "needs_background": "light"
          }
        }
      ]
    },
    {
      "cell_type": "markdown",
      "metadata": {
        "id": "h4cJW5abl0kG"
      },
      "source": [
        "## DataSets with pytorch"
      ]
    },
    {
      "cell_type": "code",
      "metadata": {
        "id": "nkkfjmP3lsGi"
      },
      "source": [
        "import pandas as pd"
      ],
      "execution_count": null,
      "outputs": []
    },
    {
      "cell_type": "code",
      "metadata": {
        "id": "8K-K6Gh3mBsr"
      },
      "source": [
        "df = pd.read_csv('iris.csv')"
      ],
      "execution_count": null,
      "outputs": []
    },
    {
      "cell_type": "code",
      "metadata": {
        "colab": {
          "base_uri": "https://localhost:8080/",
          "height": 206
        },
        "id": "MGv47LU_mI96",
        "outputId": "13f14a73-a123-4074-fe22-5f2de7080fb9"
      },
      "source": [
        "df.head()"
      ],
      "execution_count": null,
      "outputs": [
        {
          "output_type": "execute_result",
          "data": {
            "text/html": [
              "<div>\n",
              "<style scoped>\n",
              "    .dataframe tbody tr th:only-of-type {\n",
              "        vertical-align: middle;\n",
              "    }\n",
              "\n",
              "    .dataframe tbody tr th {\n",
              "        vertical-align: top;\n",
              "    }\n",
              "\n",
              "    .dataframe thead th {\n",
              "        text-align: right;\n",
              "    }\n",
              "</style>\n",
              "<table border=\"1\" class=\"dataframe\">\n",
              "  <thead>\n",
              "    <tr style=\"text-align: right;\">\n",
              "      <th></th>\n",
              "      <th>sepal length (cm)</th>\n",
              "      <th>sepal width (cm)</th>\n",
              "      <th>petal length (cm)</th>\n",
              "      <th>petal width (cm)</th>\n",
              "      <th>target</th>\n",
              "    </tr>\n",
              "  </thead>\n",
              "  <tbody>\n",
              "    <tr>\n",
              "      <th>0</th>\n",
              "      <td>5.1</td>\n",
              "      <td>3.5</td>\n",
              "      <td>1.4</td>\n",
              "      <td>0.2</td>\n",
              "      <td>0.0</td>\n",
              "    </tr>\n",
              "    <tr>\n",
              "      <th>1</th>\n",
              "      <td>4.9</td>\n",
              "      <td>3.0</td>\n",
              "      <td>1.4</td>\n",
              "      <td>0.2</td>\n",
              "      <td>0.0</td>\n",
              "    </tr>\n",
              "    <tr>\n",
              "      <th>2</th>\n",
              "      <td>4.7</td>\n",
              "      <td>3.2</td>\n",
              "      <td>1.3</td>\n",
              "      <td>0.2</td>\n",
              "      <td>0.0</td>\n",
              "    </tr>\n",
              "    <tr>\n",
              "      <th>3</th>\n",
              "      <td>4.6</td>\n",
              "      <td>3.1</td>\n",
              "      <td>1.5</td>\n",
              "      <td>0.2</td>\n",
              "      <td>0.0</td>\n",
              "    </tr>\n",
              "    <tr>\n",
              "      <th>4</th>\n",
              "      <td>5.0</td>\n",
              "      <td>3.6</td>\n",
              "      <td>1.4</td>\n",
              "      <td>0.2</td>\n",
              "      <td>0.0</td>\n",
              "    </tr>\n",
              "  </tbody>\n",
              "</table>\n",
              "</div>"
            ],
            "text/plain": [
              "   sepal length (cm)  sepal width (cm)  ...  petal width (cm)  target\n",
              "0                5.1               3.5  ...               0.2     0.0\n",
              "1                4.9               3.0  ...               0.2     0.0\n",
              "2                4.7               3.2  ...               0.2     0.0\n",
              "3                4.6               3.1  ...               0.2     0.0\n",
              "4                5.0               3.6  ...               0.2     0.0\n",
              "\n",
              "[5 rows x 5 columns]"
            ]
          },
          "metadata": {
            "tags": []
          },
          "execution_count": 30
        }
      ]
    },
    {
      "cell_type": "code",
      "metadata": {
        "colab": {
          "base_uri": "https://localhost:8080/"
        },
        "id": "GNScOLkqmKvf",
        "outputId": "428c3091-eede-475a-c82d-d6cbd52b24bf"
      },
      "source": [
        "df.shape"
      ],
      "execution_count": null,
      "outputs": [
        {
          "output_type": "execute_result",
          "data": {
            "text/plain": [
              "(150, 5)"
            ]
          },
          "metadata": {
            "tags": []
          },
          "execution_count": 31
        }
      ]
    },
    {
      "cell_type": "code",
      "metadata": {
        "id": "L0WVM7mgmaKz"
      },
      "source": [
        "from sklearn.model_selection import train_test_split"
      ],
      "execution_count": null,
      "outputs": []
    },
    {
      "cell_type": "code",
      "metadata": {
        "id": "hq8ibmw5oOX5"
      },
      "source": [
        "X = df.drop('target',axis=1).values\r\n",
        "y= df['target'].values"
      ],
      "execution_count": null,
      "outputs": []
    },
    {
      "cell_type": "code",
      "metadata": {
        "colab": {
          "base_uri": "https://localhost:8080/"
        },
        "id": "5GZAlZFkodev",
        "outputId": "2b9be24b-f64c-465c-b80a-f73e01dd2175"
      },
      "source": [
        "X.shape"
      ],
      "execution_count": null,
      "outputs": [
        {
          "output_type": "execute_result",
          "data": {
            "text/plain": [
              "(150, 4)"
            ]
          },
          "metadata": {
            "tags": []
          },
          "execution_count": 36
        }
      ]
    },
    {
      "cell_type": "code",
      "metadata": {
        "id": "lrU1hxNhoGjR"
      },
      "source": [
        "X_train, X_test, y_train, y_test = train_test_split(X,y, test_size=0.2,random_state=33)"
      ],
      "execution_count": null,
      "outputs": []
    },
    {
      "cell_type": "code",
      "metadata": {
        "id": "vtR4JdObo_XH"
      },
      "source": [
        "X_train = torch.FloatTensor(X_train)\r\n",
        "X_test = torch.FloatTensor(X_test)"
      ],
      "execution_count": null,
      "outputs": []
    },
    {
      "cell_type": "code",
      "metadata": {
        "id": "FVU8OAN1pEhr"
      },
      "source": [
        "y_train = torch.LongTensor(y_train).reshape(-1,1)\r\n",
        "y_test = torch.LongTensor(y_test).reshape(-1,1)"
      ],
      "execution_count": null,
      "outputs": []
    },
    {
      "cell_type": "code",
      "metadata": {
        "id": "fO6KMY_rr8wJ"
      },
      "source": [
        ""
      ],
      "execution_count": null,
      "outputs": []
    },
    {
      "cell_type": "code",
      "metadata": {
        "id": "PsePMJ_0v6v_"
      },
      "source": [
        "from torch.utils.data import TensorDataset, DataLoader"
      ],
      "execution_count": null,
      "outputs": []
    },
    {
      "cell_type": "code",
      "metadata": {
        "id": "F61pgTKBssTx"
      },
      "source": [
        "data = df.drop('target',axis=1).values\r\n",
        "labels = df['target'].values"
      ],
      "execution_count": null,
      "outputs": []
    },
    {
      "cell_type": "code",
      "metadata": {
        "id": "JKAu_qviv4Gu"
      },
      "source": [
        "iris = TensorDataset(torch.FloatTensor(data),torch.LongTensor(labels))"
      ],
      "execution_count": null,
      "outputs": []
    },
    {
      "cell_type": "code",
      "metadata": {
        "id": "QE76BLUbzvac"
      },
      "source": [
        "#for i in iris:\r\n",
        "#  print(i)"
      ],
      "execution_count": null,
      "outputs": []
    },
    {
      "cell_type": "code",
      "metadata": {
        "colab": {
          "base_uri": "https://localhost:8080/"
        },
        "id": "SLH18WkNwQSr",
        "outputId": "3e120c87-8210-4cf8-c585-5beb570bbf41"
      },
      "source": [
        "len(iris)"
      ],
      "execution_count": null,
      "outputs": [
        {
          "output_type": "execute_result",
          "data": {
            "text/plain": [
              "150"
            ]
          },
          "metadata": {
            "tags": []
          },
          "execution_count": 62
        }
      ]
    },
    {
      "cell_type": "code",
      "metadata": {
        "id": "9514raZ4wSx6"
      },
      "source": [
        "iris_loader = DataLoader(iris,batch_size=10,shuffle=True)"
      ],
      "execution_count": null,
      "outputs": []
    },
    {
      "cell_type": "code",
      "metadata": {
        "id": "Jb38Py9Mwa7H"
      },
      "source": [
        "#for batch in iris_loader:\r\n",
        "#  print(batch)"
      ],
      "execution_count": null,
      "outputs": []
    },
    {
      "cell_type": "code",
      "metadata": {
        "id": "7Myna2PhzhJJ"
      },
      "source": [
        ""
      ],
      "execution_count": 32,
      "outputs": []
    },
    {
      "cell_type": "markdown",
      "metadata": {
        "id": "MpZwErc22slQ"
      },
      "source": [
        "## Basic pytorch ANN"
      ]
    },
    {
      "cell_type": "code",
      "metadata": {
        "id": "OE3MsmZc24S7"
      },
      "source": [
        "import torch\r\n",
        "import torch.nn as nn\r\n",
        "import torch.nn.functional as F\r\n",
        "import pandas as pd\r\n",
        "from sklearn.model_selection import train_test_split\r\n",
        "import matplotlib.pyplot as plt"
      ],
      "execution_count": 33,
      "outputs": []
    },
    {
      "cell_type": "code",
      "metadata": {
        "id": "QPsvOtF03Chu"
      },
      "source": [
        "class Model(nn.Module):\r\n",
        "\r\n",
        "  def __init__(self,in_features=4,h1=8,h2=9,out_features=3):\r\n",
        "    #how many layers\r\n",
        "    super().__init__()\r\n",
        "    self.fc1 = nn.Linear(in_features,h1)\r\n",
        "    self.fc2 = nn.Linear(h1,h2)\r\n",
        "    self.out = nn.Linear(h2,out_features)\r\n",
        "\r\n",
        "  def forward(self,x):\r\n",
        "\r\n",
        "    x = F.relu(self.fc1(x))\r\n",
        "    x = F.relu(self.fc2(x))\r\n",
        "    x = self.out(x)\r\n",
        "\r\n",
        "    return x\r\n"
      ],
      "execution_count": 34,
      "outputs": []
    },
    {
      "cell_type": "code",
      "metadata": {
        "id": "dXl3ujHz7PBk"
      },
      "source": [
        "torch.manual_seed(32)\r\n",
        "model = Model()"
      ],
      "execution_count": 35,
      "outputs": []
    },
    {
      "cell_type": "code",
      "metadata": {
        "colab": {
          "base_uri": "https://localhost:8080/"
        },
        "id": "XCc7EX4ZW77N",
        "outputId": "e4ba96df-1510-4dd3-cc42-5c6f9b482202"
      },
      "source": [
        "model"
      ],
      "execution_count": 36,
      "outputs": [
        {
          "output_type": "execute_result",
          "data": {
            "text/plain": [
              "Model(\n",
              "  (fc1): Linear(in_features=4, out_features=8, bias=True)\n",
              "  (fc2): Linear(in_features=8, out_features=9, bias=True)\n",
              "  (out): Linear(in_features=9, out_features=3, bias=True)\n",
              ")"
            ]
          },
          "metadata": {
            "tags": []
          },
          "execution_count": 36
        }
      ]
    },
    {
      "cell_type": "code",
      "metadata": {
        "id": "kY5n4QpL7qgp"
      },
      "source": [
        "df = pd.read_csv('iris.csv')"
      ],
      "execution_count": 37,
      "outputs": []
    },
    {
      "cell_type": "code",
      "metadata": {
        "colab": {
          "base_uri": "https://localhost:8080/",
          "height": 206
        },
        "id": "T9uF_BWi-j7d",
        "outputId": "077065d7-a645-4c13-9eb9-8fdabb68cb0b"
      },
      "source": [
        "df.head()"
      ],
      "execution_count": 38,
      "outputs": [
        {
          "output_type": "execute_result",
          "data": {
            "text/html": [
              "<div>\n",
              "<style scoped>\n",
              "    .dataframe tbody tr th:only-of-type {\n",
              "        vertical-align: middle;\n",
              "    }\n",
              "\n",
              "    .dataframe tbody tr th {\n",
              "        vertical-align: top;\n",
              "    }\n",
              "\n",
              "    .dataframe thead th {\n",
              "        text-align: right;\n",
              "    }\n",
              "</style>\n",
              "<table border=\"1\" class=\"dataframe\">\n",
              "  <thead>\n",
              "    <tr style=\"text-align: right;\">\n",
              "      <th></th>\n",
              "      <th>sepal length (cm)</th>\n",
              "      <th>sepal width (cm)</th>\n",
              "      <th>petal length (cm)</th>\n",
              "      <th>petal width (cm)</th>\n",
              "      <th>target</th>\n",
              "    </tr>\n",
              "  </thead>\n",
              "  <tbody>\n",
              "    <tr>\n",
              "      <th>0</th>\n",
              "      <td>5.1</td>\n",
              "      <td>3.5</td>\n",
              "      <td>1.4</td>\n",
              "      <td>0.2</td>\n",
              "      <td>0.0</td>\n",
              "    </tr>\n",
              "    <tr>\n",
              "      <th>1</th>\n",
              "      <td>4.9</td>\n",
              "      <td>3.0</td>\n",
              "      <td>1.4</td>\n",
              "      <td>0.2</td>\n",
              "      <td>0.0</td>\n",
              "    </tr>\n",
              "    <tr>\n",
              "      <th>2</th>\n",
              "      <td>4.7</td>\n",
              "      <td>3.2</td>\n",
              "      <td>1.3</td>\n",
              "      <td>0.2</td>\n",
              "      <td>0.0</td>\n",
              "    </tr>\n",
              "    <tr>\n",
              "      <th>3</th>\n",
              "      <td>4.6</td>\n",
              "      <td>3.1</td>\n",
              "      <td>1.5</td>\n",
              "      <td>0.2</td>\n",
              "      <td>0.0</td>\n",
              "    </tr>\n",
              "    <tr>\n",
              "      <th>4</th>\n",
              "      <td>5.0</td>\n",
              "      <td>3.6</td>\n",
              "      <td>1.4</td>\n",
              "      <td>0.2</td>\n",
              "      <td>0.0</td>\n",
              "    </tr>\n",
              "  </tbody>\n",
              "</table>\n",
              "</div>"
            ],
            "text/plain": [
              "   sepal length (cm)  sepal width (cm)  ...  petal width (cm)  target\n",
              "0                5.1               3.5  ...               0.2     0.0\n",
              "1                4.9               3.0  ...               0.2     0.0\n",
              "2                4.7               3.2  ...               0.2     0.0\n",
              "3                4.6               3.1  ...               0.2     0.0\n",
              "4                5.0               3.6  ...               0.2     0.0\n",
              "\n",
              "[5 rows x 5 columns]"
            ]
          },
          "metadata": {
            "tags": []
          },
          "execution_count": 38
        }
      ]
    },
    {
      "cell_type": "code",
      "metadata": {
        "id": "JhIgB4Xq-ntM"
      },
      "source": [
        "X = df.drop('target',axis=1)\r\n",
        "y = df['target']"
      ],
      "execution_count": 39,
      "outputs": []
    },
    {
      "cell_type": "code",
      "metadata": {
        "id": "jQBwBwdJXFEn"
      },
      "source": [
        "X = X.values\r\n",
        "y = y.values"
      ],
      "execution_count": 40,
      "outputs": []
    },
    {
      "cell_type": "code",
      "metadata": {
        "id": "Aksnj_Rd-4A2"
      },
      "source": [
        "X_train, X_test, y_train, y_test = train_test_split(X,y, test_size=0.2,random_state=33)"
      ],
      "execution_count": 41,
      "outputs": []
    },
    {
      "cell_type": "code",
      "metadata": {
        "id": "xS0VAnR6_mOq"
      },
      "source": [
        "X_train = torch.FloatTensor(X_train)\r\n",
        "X_test = torch.FloatTensor(X_test)"
      ],
      "execution_count": 42,
      "outputs": []
    },
    {
      "cell_type": "code",
      "metadata": {
        "id": "nmCA_Xla_m_6"
      },
      "source": [
        "y_train = torch.LongTensor(y_train)\r\n",
        "y_test = torch.LongTensor(y_test)"
      ],
      "execution_count": 43,
      "outputs": []
    },
    {
      "cell_type": "code",
      "metadata": {
        "colab": {
          "base_uri": "https://localhost:8080/"
        },
        "id": "vS53CNy-QLBf",
        "outputId": "626ba4f4-9043-4306-b173-128ff181f024"
      },
      "source": [
        "y_train.shape"
      ],
      "execution_count": 44,
      "outputs": [
        {
          "output_type": "execute_result",
          "data": {
            "text/plain": [
              "torch.Size([120])"
            ]
          },
          "metadata": {
            "tags": []
          },
          "execution_count": 44
        }
      ]
    },
    {
      "cell_type": "code",
      "metadata": {
        "id": "tl_0BL7f_0Q5"
      },
      "source": [
        "criterion = nn.CrossEntropyLoss()\r\n",
        "optimizer = torch.optim.Adam(model.parameters(),lr=0.01)"
      ],
      "execution_count": 45,
      "outputs": []
    },
    {
      "cell_type": "code",
      "metadata": {
        "colab": {
          "base_uri": "https://localhost:8080/"
        },
        "id": "CfJFhaVgCxa_",
        "outputId": "7a3abc82-645d-4e1c-93ea-b3dfe74e209b"
      },
      "source": [
        "# Epochs\r\n",
        "# An epoch, 1 run through all the training data\r\n",
        "\r\n",
        "epochs = 100\r\n",
        "losses = []\r\n",
        "\r\n",
        "for i in range(epochs):\r\n",
        "\r\n",
        "  #forward and get a prediction\r\n",
        "\r\n",
        "  y_pred = model.forward(X_train)\r\n",
        "\r\n",
        "  # calculate loss/error\r\n",
        "\r\n",
        "  loss = criterion(y_pred, y_train)\r\n",
        "\r\n",
        "  losses.append(loss)\r\n",
        "\r\n",
        "  if i%10==0:\r\n",
        "    print(f'Epoch is {i} and loss is: {loss}')\r\n",
        "\r\n",
        "  # BACKPROPAGATION\r\n",
        "\r\n",
        "  optimizer.zero_grad()\r\n",
        "  loss.backward()\r\n",
        "  optimizer.step()\r\n"
      ],
      "execution_count": 46,
      "outputs": [
        {
          "output_type": "stream",
          "text": [
            "Epoch is 0 and loss is: 1.1507115364074707\n",
            "Epoch is 10 and loss is: 0.9377315044403076\n",
            "Epoch is 20 and loss is: 0.779825747013092\n",
            "Epoch is 30 and loss is: 0.6099401116371155\n",
            "Epoch is 40 and loss is: 0.40079930424690247\n",
            "Epoch is 50 and loss is: 0.25436317920684814\n",
            "Epoch is 60 and loss is: 0.15053054690361023\n",
            "Epoch is 70 and loss is: 0.10086944699287415\n",
            "Epoch is 80 and loss is: 0.08128310739994049\n",
            "Epoch is 90 and loss is: 0.07231426984071732\n"
          ],
          "name": "stdout"
        }
      ]
    },
    {
      "cell_type": "code",
      "metadata": {
        "colab": {
          "base_uri": "https://localhost:8080/",
          "height": 300
        },
        "id": "fuLieC_cP4DI",
        "outputId": "e72c69d9-652e-472f-f907-339a7f05c2ff"
      },
      "source": [
        "#a good way to know if the epochs are enough is to plot epochs-losses\r\n",
        "plt.plot(range(epochs),losses)\r\n",
        "plt.ylabel('LOSS')\r\n",
        "plt.xlabel('Epoch')"
      ],
      "execution_count": 47,
      "outputs": [
        {
          "output_type": "execute_result",
          "data": {
            "text/plain": [
              "Text(0.5, 0, 'Epoch')"
            ]
          },
          "metadata": {
            "tags": []
          },
          "execution_count": 47
        },
        {
          "output_type": "display_data",
          "data": {
            "image/png": "[encoded data removed]",
            "text/plain": [
              "<Figure size 432x288 with 1 Axes>"
            ]
          },
          "metadata": {
            "tags": [],
            "needs_background": "light"
          }
        }
      ]
    },
    {
      "cell_type": "code",
      "metadata": {
        "id": "KswqJOcuTRyB"
      },
      "source": [
        "# Evaluating our model\r\n",
        "with torch.no_grad():\r\n",
        "  y_eval = model.forward(X_test)\r\n",
        "  loss = criterion(y_eval, y_test)\r\n"
      ],
      "execution_count": 48,
      "outputs": []
    },
    {
      "cell_type": "code",
      "metadata": {
        "colab": {
          "base_uri": "https://localhost:8080/"
        },
        "id": "imUlEmTKbqX2",
        "outputId": "6406d98d-fdde-4d7e-daf0-e7506b1bcc12"
      },
      "source": [
        "loss"
      ],
      "execution_count": 49,
      "outputs": [
        {
          "output_type": "execute_result",
          "data": {
            "text/plain": [
              "tensor(0.0581)"
            ]
          },
          "metadata": {
            "tags": []
          },
          "execution_count": 49
        }
      ]
    },
    {
      "cell_type": "code",
      "metadata": {
        "colab": {
          "base_uri": "https://localhost:8080/"
        },
        "id": "Wda4SSPFbrdE",
        "outputId": "1366e23b-1a27-4877-8030-92da6349c85f"
      },
      "source": [
        "correct = 0\r\n",
        "\r\n",
        "with torch.no_grad():\r\n",
        "  for i,data in enumerate(X_test):\r\n",
        "\r\n",
        "    y_val = model.forward(data)\r\n",
        "\r\n",
        "    if y_val.argmax().item() == y_test[i]:\r\n",
        "      correct+=1\r\n",
        "\r\n",
        "    print(f'{i+1}.) {str(y_val)} {y_test[i]}')\r\n",
        "\r\n",
        "print(f'We have got {correct} correct!')"
      ],
      "execution_count": 55,
      "outputs": [
        {
          "output_type": "stream",
          "text": [
            "1.) tensor([-2.1252,  4.8064, -0.8628]) 1\n",
            "2.) tensor([-1.7985,  5.3098, -1.5449]) 1\n",
            "3.) tensor([  6.3542,   0.8438, -10.0541]) 0\n",
            "4.) tensor([-3.9123,  4.5958,  1.1693]) 1\n",
            "5.) tensor([-7.4713,  3.2021,  5.7853]) 2\n",
            "6.) tensor([-10.4976,   1.6459,   9.6297]) 2\n",
            "7.) tensor([  6.3201,   0.9917, -10.1532]) 0\n",
            "8.) tensor([  7.0468,   0.7059, -10.9137]) 0\n",
            "9.) tensor([-7.2061,  3.3477,  5.3565]) 2\n",
            "10.) tensor([-9.3960,  2.5759,  8.1033]) 2\n",
            "11.) tensor([-9.8807,  2.3475,  8.7141]) 2\n",
            "12.) tensor([ 6.2748,  0.6655, -9.7613]) 0\n",
            "13.) tensor([-9.3142,  2.1880,  8.1947]) 2\n",
            "14.) tensor([-3.7803,  4.5050,  1.0752]) 1\n",
            "15.) tensor([-7.8657,  3.0117,  6.2303]) 2\n",
            "16.) tensor([-1.8867,  5.1572, -1.3345]) 1\n",
            "17.) tensor([-5.7006,  3.5030,  3.6696]) 2\n",
            "18.) tensor([  7.1789,   0.7369, -11.1350]) 0\n",
            "19.) tensor([-3.2944,  4.7931,  0.3475]) 1\n",
            "20.) tensor([-7.7665,  3.7629,  5.7095]) 2\n",
            "21.) tensor([  6.6499,   0.7889, -10.4252]) 0\n",
            "22.) tensor([  7.4357,   0.8918, -11.6600]) 0\n",
            "23.) tensor([-9.7584,  2.1744,  8.6654]) 2\n",
            "24.) tensor([  6.5770,   0.7421, -10.2733]) 0\n",
            "25.) tensor([-7.4144,  2.8719,  5.9445]) 2\n",
            "26.) tensor([-6.1551,  3.4031,  4.2300]) 2\n",
            "27.) tensor([-3.1634,  4.7460,  0.2703]) 1\n",
            "28.) tensor([-1.5446,  4.9031, -1.5557]) 1\n",
            "29.) tensor([-7.4335,  3.1101,  5.7350]) 2\n",
            "30.) tensor([-6.7037,  3.1187,  4.9595]) 2\n",
            "We have got 30 correct!\n"
          ],
          "name": "stdout"
        }
      ]
    },
    {
      "cell_type": "code",
      "metadata": {
        "id": "azzohqWieA1g"
      },
      "source": [
        "# save the parameters of the model, W and B\r\n",
        "torch.save(model.state_dict(),\"my_iris_model.pt\")\r\n",
        "\r\n",
        "#save the whole model\r\n",
        "torch.save(model,'my_model.pt')"
      ],
      "execution_count": 69,
      "outputs": []
    },
    {
      "cell_type": "code",
      "metadata": {
        "id": "1BX0A081Qzei"
      },
      "source": [
        "new_model = Model()\r\n",
        "new_model.load_state_dict(torch.load('my_iris_model.pt'))\r\n",
        "\r\n",
        "model2 = torch.load('my_model.pt')"
      ],
      "execution_count": 70,
      "outputs": []
    },
    {
      "cell_type": "code",
      "metadata": {
        "id": "Kp1plAu-RBGg"
      },
      "source": [
        "# check the class of a new iris\r\n",
        "mystery_iris  = torch.tensor([5.6, 3.7, 2.2, 0.5])"
      ],
      "execution_count": 76,
      "outputs": []
    },
    {
      "cell_type": "code",
      "metadata": {
        "colab": {
          "base_uri": "https://localhost:8080/"
        },
        "id": "mpvWfb6UUPlv",
        "outputId": "1bbefbf8-deba-445e-b8e9-52245bed64fb"
      },
      "source": [
        "with torch.no_grad():\r\n",
        "  print(new_model(mystery_iris))\r\n",
        "  print(new_model(mystery_iris).argmax())"
      ],
      "execution_count": 78,
      "outputs": [
        {
          "output_type": "stream",
          "text": [
            "tensor([  5.9522,   1.5596, -10.0054])\n",
            "tensor(0)\n"
          ],
          "name": "stdout"
        }
      ]
    },
    {
      "cell_type": "code",
      "metadata": {
        "id": "yPAHDiEfUiZ1"
      },
      "source": [
        ""
      ],
      "execution_count": null,
      "outputs": []
    }
  ]
}